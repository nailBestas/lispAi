{
 "cells": [
  {
   "cell_type": "markdown",
   "id": "48fd7960",
   "metadata": {},
   "source": [
    "#  Matematiksel seybolleri  kodlarken nasil  goruntuleyecegini ogrenelim LATEX\n",
    "latex uygulama matematiksel ifadelerin oldugu gibi ekranda gosterilmesi anlamindadir\n",
    "$$\\sqrt{a} \\sqrt{a}$$"
   ]
  },
  {
   "cell_type": "code",
   "execution_count": 37,
   "id": "32a7cacc",
   "metadata": {},
   "outputs": [
    {
     "data": {
      "text/plain": [
       "'\\na,b = sym.symbols(\\'a,b\\') # istedigmiz sembolu olusturuyoruz  \\na,b\\n\\ndisplay(a**b) # alttaki sekilde nasil gorundugune dikkatli bakin tam bir uslu ifade karsimizda \\ndisplay(a*b +4 ) # carpma islemin math goruntulemsi\\ndisplay(a/b) #bolum isleminin math goruntusu\\n\\ndisplay(np.sqrt(2))# numpy sinifinda kok 2 nin kok disina cikamsi\\ndisplay(sym.sqrt(2)) # burada ise matematiksel sembol olarak gorulmesi\\n\\n# unutmadan sympy display sadece matematiksel cozum sunar ama matemeatiskel ifadeyi gormek istiyorsak LATEX ihtiyacimiz var\\ndisplay((a*(b**2)))#ab ^2\\n\\ndisplay(sym.sqrt(4)*a)\\ndisplay(Math(\\'\\\\sqrt{4} a\\'))# latex ile direkt bize denklemi verir\\n\\n\\ndisplay(sym.sqrt(a)*sym.sqrt(a)) # normal olarak koklu ifadeleri carpar bize sembolu vermez\\ndisplay(Math(\\'\\\\sqrt{a} \\\\sqrt{a}\\')) # latex kodlamasi ile koklu ifadeleri ayri ayri gosterdik\\n\\n\\n# Latex kodlari \\ndisplay(Math(\\'\\\\sigma\\'))# σ isreti cikar\\ndisplay(Math(\\'a_{mn}\\')) # alt cizgi bize denklemin altini verir\\ndisplay(Math(\\'a_{mn} + b ^ {a+b}\\')) \\ndisplay(Math(\\'\\\\sigma =\\\\mu\\\\times\\\\sqrt{4a+2b-2c}\\'))\\ndisplay(Math(\\'\\\\frac {a} {b}\\'))\\ndisplay(Math(\\'\\\\text {Bu kesirli bir ifadedir}  \\\\frac {a+b} {a ^{4a+2b}}\\'))\\n\\n# Example/\\ndisplay(Math(\\'2a+3b = 18\\')) # direkt ekranda bu ciktiyi verir\\ndisplay(Math(\\'\\\\sin(2\\\\pi ft + \\\\theta)\\'))\\ndisplay(Math(\\'e = mc ^ 2\\'))\\n\\n# Daha fazla Latex \\nmu,alpha,theta,sigma = sym.symbols(\\'mu,alpha,theta,sigma\\')# degiskenlerimizi tanimladik\\nnail = sym.exp((sigma-alpha)**2 / (2*theta**3))\\ndisplay(nail)\\n\\n#ceylo = sym.symbols(\\'ceylo\\')# degisken adi ceylo verisi yani karsit degeri \\'ceylin\\' onun icin isimleri ayni versek daha iyi olur\\n#ceylo/6\\n\\n# Sembollerde degisken tanimlama \\narya = sym.symbols(\\'arya\\') # degisken ismi ile verimizin ayni olmassina dikkat edelim karisma olmamasi icin sadece\\narya/6\\n\\n# birden fazla degiskenli sembole deger atama\\nx,y = sym.symbols(\\'x,y\\')# sembollerimi olusturduk\\nnail = x+4+y*2\\nnail.subs({x:5,y:4})# subs ile deger ekleme yaptik\\n\\n# Latex kodlarini degiskenler ustunde deneyelim\\nlatex1 = a/5 \\nsym.latex(latex1) # bize dize olarak \\'\\\\frac{a}{5}\\' bunu verir\\ndisplay(Math(sym.latex(latex1))) # latex e cevrilen dize burda  math ile matematiskel duruma gecti ve display ile son halini gosterdi bize\\ndisplay(Math(sym.latex(sym.sympify(\\'10/5\\')))) # bir dizeyi bize integere donusturur sympify\\n\\n# karmasik bir ornek yapalim\\n\\nx = sym.symbols(\\'x\\')\\nifade = x**2 + 6\\n\\nprint(\"x² + 6 ifadesinin farklı değerleri:\\n\")\\n\\n\\nfor i in range(-2, 4):\\n    sonuc = ifade.subs(x, i)#Sembolik matematikte değerleri yerine koymak için .subs() kullanılır\\n    display(Math(f\\'x = {i} \\\\Rightarrow ({i})^2 + 6 = {sonuc}\\'))\\n\\n'"
      ]
     },
     "execution_count": 37,
     "metadata": {},
     "output_type": "execute_result"
    }
   ],
   "source": [
    "import numpy as np\n",
    "import sympy as sym # gerekli kutuphanemizi ekledik\n",
    "sym.init_printing()\n",
    "from IPython.display import display,Math\n",
    "'''\n",
    "a,b = sym.symbols('a,b') # istedigmiz sembolu olusturuyoruz  \n",
    "a,b\n",
    "\n",
    "display(a**b) # alttaki sekilde nasil gorundugune dikkatli bakin tam bir uslu ifade karsimizda \n",
    "display(a*b +4 ) # carpma islemin math goruntulemsi\n",
    "display(a/b) #bolum isleminin math goruntusu\n",
    "\n",
    "display(np.sqrt(2))# numpy sinifinda kok 2 nin kok disina cikamsi\n",
    "display(sym.sqrt(2)) # burada ise matematiksel sembol olarak gorulmesi\n",
    "\n",
    "# unutmadan sympy display sadece matematiksel cozum sunar ama matemeatiskel ifadeyi gormek istiyorsak LATEX ihtiyacimiz var\n",
    "display((a*(b**2)))#ab ^2\n",
    "\n",
    "display(sym.sqrt(4)*a)\n",
    "display(Math('\\\\sqrt{4} a'))# latex ile direkt bize denklemi verir\n",
    "\n",
    "\n",
    "display(sym.sqrt(a)*sym.sqrt(a)) # normal olarak koklu ifadeleri carpar bize sembolu vermez\n",
    "display(Math('\\\\sqrt{a} \\\\sqrt{a}')) # latex kodlamasi ile koklu ifadeleri ayri ayri gosterdik\n",
    "\n",
    "\n",
    "# Latex kodlari \n",
    "display(Math('\\\\sigma'))# σ isreti cikar\n",
    "display(Math('a_{mn}')) # alt cizgi bize denklemin altini verir\n",
    "display(Math('a_{mn} + b ^ {a+b}')) \n",
    "display(Math('\\\\sigma =\\\\mu\\\\times\\\\sqrt{4a+2b-2c}'))\n",
    "display(Math('\\\\frac {a} {b}'))\n",
    "display(Math('\\\\text {Bu kesirli bir ifadedir}  \\\\frac {a+b} {a ^{4a+2b}}'))\n",
    "\n",
    "# Example/\n",
    "display(Math('2a+3b = 18')) # direkt ekranda bu ciktiyi verir\n",
    "display(Math('\\\\sin(2\\\\pi ft + \\\\theta)'))\n",
    "display(Math('e = mc ^ 2'))\n",
    "\n",
    "# Daha fazla Latex \n",
    "mu,alpha,theta,sigma = sym.symbols('mu,alpha,theta,sigma')# degiskenlerimizi tanimladik\n",
    "nail = sym.exp((sigma-alpha)**2 / (2*theta**3))\n",
    "display(nail)\n",
    "\n",
    "#ceylo = sym.symbols('ceylo')# degisken adi ceylo verisi yani karsit degeri 'ceylin' onun icin isimleri ayni versek daha iyi olur\n",
    "#ceylo/6\n",
    "\n",
    "# Sembollerde degisken tanimlama \n",
    "arya = sym.symbols('arya') # degisken ismi ile verimizin ayni olmassina dikkat edelim karisma olmamasi icin sadece\n",
    "arya/6\n",
    "\n",
    "# birden fazla degiskenli sembole deger atama\n",
    "x,y = sym.symbols('x,y')# sembollerimi olusturduk\n",
    "nail = x+4+y*2\n",
    "nail.subs({x:5,y:4})# subs ile deger ekleme yaptik\n",
    "\n",
    "# Latex kodlarini degiskenler ustunde deneyelim\n",
    "latex1 = a/5 \n",
    "sym.latex(latex1) # bize dize olarak '\\\\frac{a}{5}' bunu verir\n",
    "display(Math(sym.latex(latex1))) # latex e cevrilen dize burda  math ile matematiskel duruma gecti ve display ile son halini gosterdi bize\n",
    "display(Math(sym.latex(sym.sympify('10/5')))) # bir dizeyi bize integere donusturur sympify\n",
    "\n",
    "# karmasik bir ornek yapalim\n",
    "\n",
    "x = sym.symbols('x')\n",
    "ifade = x**2 + 6\n",
    "\n",
    "print(\"x² + 6 ifadesinin farklı değerleri:\\n\")\n",
    "\n",
    "\n",
    "for i in range(-2, 4):\n",
    "    sonuc = ifade.subs(x, i)#Sembolik matematikte değerleri yerine koymak için .subs() kullanılır\n",
    "    display(Math(f'x = {i} \\\\Rightarrow ({i})^2 + 6 = {sonuc}'))\n",
    "\n",
    "'''\n",
    "\n"
   ]
  },
  {
   "cell_type": "code",
   "execution_count": null,
   "id": "81133cba",
   "metadata": {},
   "outputs": [
    {
     "name": "stdout",
     "output_type": "stream",
     "text": [
      "İfade: x**2 + 2*x*y + y**2\n",
      "Türev: 2*x + 2*y\n",
      "Integral: x**3/3 + x**2*y + x*y**2\n"
     ]
    }
   ],
   "source": [
    "'''\n",
    "\n",
    "# Symbol tanımlama\n",
    "x = sym.Symbol('x')\n",
    "y = sym.Symbol('y')\n",
    "\n",
    "# Basit bir denklem\n",
    "expr = x**2 + 2*x*y + y**2\n",
    "print(\"İfade:\", expr)\n",
    "\n",
    "# Türev alma\n",
    "turev = sym.diff(expr, x)\n",
    "print(\"Türev:\", turev)\n",
    "\n",
    "# Integral alma\n",
    "integral = sym.integrate(expr, x)\n",
    "print(\"Integral:\", integral)'''"
   ]
  },
  {
   "cell_type": "code",
   "execution_count": null,
   "id": "ccfe067c",
   "metadata": {},
   "outputs": [],
   "source": []
  }
 ],
 "metadata": {
  "kernelspec": {
   "display_name": "basicPy",
   "language": "python",
   "name": "python3"
  },
  "language_info": {
   "codemirror_mode": {
    "name": "ipython",
    "version": 3
   },
   "file_extension": ".py",
   "mimetype": "text/x-python",
   "name": "python",
   "nbconvert_exporter": "python",
   "pygments_lexer": "ipython3",
   "version": "3.13.7"
  }
 },
 "nbformat": 4,
 "nbformat_minor": 5
}
