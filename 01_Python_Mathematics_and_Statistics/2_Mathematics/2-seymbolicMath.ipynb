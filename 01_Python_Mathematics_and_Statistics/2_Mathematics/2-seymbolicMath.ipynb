{
 "cells": [
  {
   "cell_type": "markdown",
   "id": "48fd7960",
   "metadata": {},
   "source": [
    "#  Matematiksel seybolleri  kodlarken nasil  goruntuleyecegini ogrenelim LATEX\n",
    "latex uygulama matematiksel ifadelerin oldugu gibi ekranda gosterilmesi anlamindadir\n",
    "$$\\sqrt{a} \\sqrt{a}$$"
   ]
  },
  {
   "cell_type": "code",
   "execution_count": 62,
   "id": "32a7cacc",
   "metadata": {},
   "outputs": [
    {
     "data": {
      "text/latex": [
       "$\\displaystyle a^{b}$"
      ],
      "text/plain": [
       " b\n",
       "a "
      ]
     },
     "metadata": {},
     "output_type": "display_data"
    },
    {
     "data": {
      "text/latex": [
       "$\\displaystyle a b + 4$"
      ],
      "text/plain": [
       "a⋅b + 4"
      ]
     },
     "metadata": {},
     "output_type": "display_data"
    },
    {
     "data": {
      "text/latex": [
       "$\\displaystyle \\frac{a}{b}$"
      ],
      "text/plain": [
       "a\n",
       "─\n",
       "b"
      ]
     },
     "metadata": {},
     "output_type": "display_data"
    },
    {
     "data": {
      "text/latex": [
       "$\\displaystyle 1.4142135623731$"
      ],
      "text/plain": [
       "np.float64(1.4142135623730951)"
      ]
     },
     "metadata": {},
     "output_type": "display_data"
    },
    {
     "data": {
      "text/latex": [
       "$\\displaystyle \\sqrt{2}$"
      ],
      "text/plain": [
       "√2"
      ]
     },
     "metadata": {},
     "output_type": "display_data"
    },
    {
     "data": {
      "text/latex": [
       "$\\displaystyle a b^{2}$"
      ],
      "text/plain": [
       "   2\n",
       "a⋅b "
      ]
     },
     "metadata": {},
     "output_type": "display_data"
    },
    {
     "data": {
      "text/latex": [
       "$\\displaystyle 2 a$"
      ],
      "text/plain": [
       "2⋅a"
      ]
     },
     "metadata": {},
     "output_type": "display_data"
    },
    {
     "data": {
      "text/latex": [
       "$\\displaystyle \\sqrt{4} a$"
      ],
      "text/plain": [
       "<IPython.core.display.Math object>"
      ]
     },
     "metadata": {},
     "output_type": "display_data"
    },
    {
     "data": {
      "text/latex": [
       "$\\displaystyle a$"
      ],
      "text/plain": [
       "a"
      ]
     },
     "metadata": {},
     "output_type": "display_data"
    },
    {
     "data": {
      "text/latex": [
       "$\\displaystyle \\sqrt{a} \\sqrt{a}$"
      ],
      "text/plain": [
       "<IPython.core.display.Math object>"
      ]
     },
     "metadata": {},
     "output_type": "display_data"
    },
    {
     "data": {
      "text/latex": [
       "$\\displaystyle \\sigma$"
      ],
      "text/plain": [
       "<IPython.core.display.Math object>"
      ]
     },
     "metadata": {},
     "output_type": "display_data"
    },
    {
     "data": {
      "text/latex": [
       "$\\displaystyle a_{mn}$"
      ],
      "text/plain": [
       "<IPython.core.display.Math object>"
      ]
     },
     "metadata": {},
     "output_type": "display_data"
    },
    {
     "data": {
      "text/latex": [
       "$\\displaystyle a_{mn} + b ^ {a+b}$"
      ],
      "text/plain": [
       "<IPython.core.display.Math object>"
      ]
     },
     "metadata": {},
     "output_type": "display_data"
    },
    {
     "data": {
      "text/latex": [
       "$\\displaystyle \\sigma =\\mu\\times\\sqrt{4a+2b-2c}$"
      ],
      "text/plain": [
       "<IPython.core.display.Math object>"
      ]
     },
     "metadata": {},
     "output_type": "display_data"
    },
    {
     "data": {
      "text/latex": [
       "$\\displaystyle \\frac {a} {b}$"
      ],
      "text/plain": [
       "<IPython.core.display.Math object>"
      ]
     },
     "metadata": {},
     "output_type": "display_data"
    },
    {
     "data": {
      "text/latex": [
       "$\\displaystyle \\text {Bu kesirli bir ifadedir}  \\frac {a+b} {a ^{4a+2b}}$"
      ],
      "text/plain": [
       "<IPython.core.display.Math object>"
      ]
     },
     "metadata": {},
     "output_type": "display_data"
    },
    {
     "data": {
      "text/latex": [
       "$\\displaystyle 2a+3b = 18$"
      ],
      "text/plain": [
       "<IPython.core.display.Math object>"
      ]
     },
     "metadata": {},
     "output_type": "display_data"
    },
    {
     "data": {
      "text/latex": [
       "$\\displaystyle \\sin(2\\pi ft + \\theta)$"
      ],
      "text/plain": [
       "<IPython.core.display.Math object>"
      ]
     },
     "metadata": {},
     "output_type": "display_data"
    },
    {
     "data": {
      "text/latex": [
       "$\\displaystyle e = mc ^ 2$"
      ],
      "text/plain": [
       "<IPython.core.display.Math object>"
      ]
     },
     "metadata": {},
     "output_type": "display_data"
    },
    {
     "data": {
      "text/latex": [
       "$\\displaystyle e^{\\frac{\\left(- \\alpha + \\sigma\\right)^{2}}{2 \\theta^{3}}}$"
      ],
      "text/plain": [
       "         2\n",
       " (-α + σ) \n",
       " ─────────\n",
       "      3   \n",
       "   2⋅θ    \n",
       "ℯ         "
      ]
     },
     "metadata": {},
     "output_type": "display_data"
    },
    {
     "data": {
      "text/latex": [
       "$\\displaystyle \\frac{a}{5}$"
      ],
      "text/plain": [
       "<IPython.core.display.Math object>"
      ]
     },
     "metadata": {},
     "output_type": "display_data"
    },
    {
     "data": {
      "text/latex": [
       "$\\displaystyle 2$"
      ],
      "text/plain": [
       "<IPython.core.display.Math object>"
      ]
     },
     "metadata": {},
     "output_type": "display_data"
    },
    {
     "name": "stdout",
     "output_type": "stream",
     "text": [
      "x² + 6 ifadesinin farklı değerleri:\n",
      "\n"
     ]
    },
    {
     "data": {
      "text/latex": [
       "$\\displaystyle x = -2 \\Rightarrow (-2)^2 + 6 = 10$"
      ],
      "text/plain": [
       "<IPython.core.display.Math object>"
      ]
     },
     "metadata": {},
     "output_type": "display_data"
    },
    {
     "data": {
      "text/latex": [
       "$\\displaystyle x = -1 \\Rightarrow (-1)^2 + 6 = 7$"
      ],
      "text/plain": [
       "<IPython.core.display.Math object>"
      ]
     },
     "metadata": {},
     "output_type": "display_data"
    },
    {
     "data": {
      "text/latex": [
       "$\\displaystyle x = 0 \\Rightarrow (0)^2 + 6 = 6$"
      ],
      "text/plain": [
       "<IPython.core.display.Math object>"
      ]
     },
     "metadata": {},
     "output_type": "display_data"
    },
    {
     "data": {
      "text/latex": [
       "$\\displaystyle x = 1 \\Rightarrow (1)^2 + 6 = 7$"
      ],
      "text/plain": [
       "<IPython.core.display.Math object>"
      ]
     },
     "metadata": {},
     "output_type": "display_data"
    },
    {
     "data": {
      "text/latex": [
       "$\\displaystyle x = 2 \\Rightarrow (2)^2 + 6 = 10$"
      ],
      "text/plain": [
       "<IPython.core.display.Math object>"
      ]
     },
     "metadata": {},
     "output_type": "display_data"
    },
    {
     "data": {
      "text/latex": [
       "$\\displaystyle x = 3 \\Rightarrow (3)^2 + 6 = 15$"
      ],
      "text/plain": [
       "<IPython.core.display.Math object>"
      ]
     },
     "metadata": {},
     "output_type": "display_data"
    }
   ],
   "source": [
    "\n",
    "import numpy as np\n",
    "import sympy as sym # gerekli kutuphanemizi ekledik\n",
    "sym.init_printing()\n",
    "from IPython.display import display,Math\n",
    "\n",
    "a,b = sym.symbols('a,b') # istedigmiz sembolu olusturuyoruz  \n",
    "a,b\n",
    "\n",
    "display(a**b) # alttaki sekilde nasil gorundugune dikkatli bakin tam bir uslu ifade karsimizda \n",
    "display(a*b +4 ) # carpma islemin math goruntulemsi\n",
    "display(a/b) #bolum isleminin math goruntusu\n",
    "\n",
    "display(np.sqrt(2))# numpy sinifinda kok 2 nin kok disina cikamsi\n",
    "display(sym.sqrt(2)) # burada ise matematiksel sembol olarak gorulmesi\n",
    "\n",
    "# unutmadan sympy display sadece matematiksel cozum sunar ama matemeatiskel ifadeyi gormek istiyorsak LATEX ihtiyacimiz var\n",
    "display((a*(b**2)))#ab ^2\n",
    "\n",
    "display(sym.sqrt(4)*a)\n",
    "display(Math('\\\\sqrt{4} a'))# latex ile direkt bize denklemi verir\n",
    "\n",
    "\n",
    "display(sym.sqrt(a)*sym.sqrt(a)) # normal olarak koklu ifadeleri carpar bize sembolu vermez\n",
    "display(Math('\\\\sqrt{a} \\\\sqrt{a}')) # latex kodlamasi ile koklu ifadeleri ayri ayri gosterdik\n",
    "\n",
    "\n",
    "# Latex kodlari \n",
    "display(Math('\\\\sigma'))# σ isreti cikar\n",
    "display(Math('a_{mn}')) # alt cizgi bize denklemin altini verir\n",
    "display(Math('a_{mn} + b ^ {a+b}')) \n",
    "display(Math('\\\\sigma =\\\\mu\\\\times\\\\sqrt{4a+2b-2c}'))\n",
    "display(Math('\\\\frac {a} {b}'))\n",
    "display(Math('\\\\text {Bu kesirli bir ifadedir}  \\\\frac {a+b} {a ^{4a+2b}}'))\n",
    "\n",
    "# Example/\n",
    "display(Math('2a+3b = 18')) # direkt ekranda bu ciktiyi verir\n",
    "display(Math('\\\\sin(2\\\\pi ft + \\\\theta)'))\n",
    "display(Math('e = mc ^ 2'))\n",
    "\n",
    "# Daha fazla Latex \n",
    "mu,alpha,theta,sigma = sym.symbols('mu,alpha,theta,sigma')# degiskenlerimizi tanimladik\n",
    "nail = sym.exp((sigma-alpha)**2 / (2*theta**3))\n",
    "display(nail)\n",
    "\n",
    "#ceylo = sym.symbols('ceylo')# degisken adi ceylo verisi yani karsit degeri 'ceylin' onun icin isimleri ayni versek daha iyi olur\n",
    "#ceylo/6\n",
    "\n",
    "# Sembollerde degisken tanimlama \n",
    "arya = sym.symbols('arya') # degisken ismi ile verimizin ayni olmassina dikkat edelim karisma olmamasi icin sadece\n",
    "arya/6\n",
    "\n",
    "# birden fazla degiskenli sembole deger atama\n",
    "x,y = sym.symbols('x,y')# sembollerimi olusturduk\n",
    "nail = x+4+y*2\n",
    "nail.subs({x:5,y:4})# subs ile deger ekleme yaptik\n",
    "\n",
    "# Latex kodlarini degiskenler ustunde deneyelim\n",
    "latex1 = a/5 \n",
    "sym.latex(latex1) # bize dize olarak '\\\\frac{a}{5}' bunu verir\n",
    "display(Math(sym.latex(latex1))) # latex e cevrilen dize burda  math ile matematiskel duruma gecti ve display ile son halini gosterdi bize\n",
    "display(Math(sym.latex(sym.sympify('10/5')))) # bir dizeyi bize integere donusturur sympify\n",
    "\n",
    "# karmasik bir ornek yapalim\n",
    "\n",
    "x = sym.symbols('x')\n",
    "ifade = x**2 + 6\n",
    "\n",
    "print(\"x² + 6 ifadesinin farklı değerleri:\\n\")\n",
    "\n",
    "\n",
    "for i in range(-2, 4):\n",
    "    sonuc = ifade.subs(x, i)#Sembolik matematikte değerleri yerine koymak için .subs() kullanılır\n",
    "    display(Math(f'x = {i} \\\\Rightarrow ({i})^2 + 6 = {sonuc}'))\n",
    "\n",
    "\n",
    "\n"
   ]
  },
  {
   "cell_type": "code",
   "execution_count": 63,
   "id": "81133cba",
   "metadata": {},
   "outputs": [
    {
     "name": "stdout",
     "output_type": "stream",
     "text": [
      "İfade: x**2 + 2*x*y + y**2\n",
      "Türev: 2*x + 2*y\n",
      "Integral: x**3/3 + x**2*y + x*y**2\n"
     ]
    }
   ],
   "source": [
    "\n",
    "\n",
    "# Symbol tanımlama\n",
    "x = sym.Symbol('x')\n",
    "y = sym.Symbol('y')\n",
    "\n",
    "# Basit bir denklem\n",
    "expr = x**2 + 2*x*y + y**2\n",
    "print(\"İfade:\", expr)\n",
    "\n",
    "# Türev alma\n",
    "turev = sym.diff(expr, x)\n",
    "print(\"Türev:\", turev)\n",
    "\n",
    "# Integral alma\n",
    "integral = sym.integrate(expr, x)\n",
    "print(\"Integral:\", integral)\n"
   ]
  },
  {
   "cell_type": "code",
   "execution_count": 64,
   "id": "ccfe067c",
   "metadata": {},
   "outputs": [
    {
     "data": {
      "text/latex": [
       "$\\displaystyle x^{y} x^{z}$"
      ],
      "text/plain": [
       " y  z\n",
       "x ⋅x "
      ]
     },
     "metadata": {},
     "output_type": "display_data"
    },
    {
     "data": {
      "text/latex": [
       "$\\displaystyle x^{y + z}$"
      ],
      "text/plain": [
       " y + z\n",
       "x     "
      ]
     },
     "metadata": {},
     "output_type": "display_data"
    },
    {
     "data": {
      "text/latex": [
       "$\\displaystyle x^{y} x^{z} = x^{y + z}$"
      ],
      "text/plain": [
       "<IPython.core.display.Math object>"
      ]
     },
     "metadata": {},
     "output_type": "display_data"
    },
    {
     "data": {
      "text/latex": [
       "$\\displaystyle x^{y} x^{- z} = x^{y - z}$"
      ],
      "text/plain": [
       "<IPython.core.display.Math object>"
      ]
     },
     "metadata": {},
     "output_type": "display_data"
    },
    {
     "data": {
      "text/latex": [
       "$\\displaystyle x^{y} y^{z} = x^{y} y^{z}$"
      ],
      "text/plain": [
       "<IPython.core.display.Math object>"
      ]
     },
     "metadata": {},
     "output_type": "display_data"
    }
   ],
   "source": [
    "\n",
    "import sympy as sym\n",
    "from IPython.display import display\n",
    "sym.init_printing()\n",
    "\n",
    "\n",
    "x,y,z = sym.symbols('x,y,z')\n",
    "exp = x**y * x**z\n",
    "display(exp)\n",
    "(Math(sym.latex(exp)))\n",
    "display(sym.simplify(exp))# simlify bize basitlestirdi tabanlar ayni usler farkli ve usleri topladi\n",
    "\n",
    "\n",
    "ex1 = x**y * x**z\n",
    "ex2 = x**y / x**z\n",
    "ex3 = x**y * y**z\n",
    "\n",
    "display(Math(f'{sym.latex(ex1)} = {sym.latex(sym.simplify(ex1))}'))\n",
    "display(Math(f'{sym.latex(ex2)} = {sym.latex(sym.simplify(ex2))}'))\n",
    "display(Math(f'{sym.latex(ex3)} = {sym.latex(sym.simplify(ex3))}'))\n"
   ]
  },
  {
   "cell_type": "code",
   "execution_count": 65,
   "id": "b256d95e",
   "metadata": {},
   "outputs": [
    {
     "data": {
      "text/latex": [
       "$\\displaystyle x + y = 10$"
      ],
      "text/plain": [
       "<IPython.core.display.Math object>"
      ]
     },
     "metadata": {},
     "output_type": "display_data"
    },
    {
     "data": {
      "text/latex": [
       "$\\displaystyle 2 x - y = 5$"
      ],
      "text/plain": [
       "<IPython.core.display.Math object>"
      ]
     },
     "metadata": {},
     "output_type": "display_data"
    },
    {
     "name": "stdout",
     "output_type": "stream",
     "text": [
      "Çözüm: {x: 5, y: 5}\n"
     ]
    }
   ],
   "source": [
    "#eq genellikle \"equation\" (denklem) veya \"equals\" (eşittir) anlamına geliyor. Birkaç bağlamda kullanılıyor:\n",
    "import sympy as sym\n",
    "from IPython.display import display, Math\n",
    "\n",
    "x, y = sym.symbols('x y')\n",
    "\n",
    "# Denklem oluşturma\n",
    "eq1 = sym.Eq(x + y, 10)        # x + y = 10\n",
    "eq2 = sym.Eq(2*x - y, 5)       # 2x - y = 5\n",
    "\n",
    "display(Math(sym.latex(eq1)))\n",
    "display(Math(sym.latex(eq2)))\n",
    "\n",
    "# Çözüm\n",
    "cozum = sym.solve([eq1, eq2], (x, y))\n",
    "print(\"Çözüm:\", cozum)  # {x: 5, y: 5}"
   ]
  },
  {
   "cell_type": "code",
   "execution_count": 66,
   "id": "c0a3113a",
   "metadata": {},
   "outputs": [
    {
     "name": "stdout",
     "output_type": "stream",
     "text": [
      "Denklem: Eq(x**2 - 5*x + 6, 0)\n",
      "Çözümler: [2, 3]\n"
     ]
    }
   ],
   "source": [
    "import sympy as sym\n",
    "\n",
    "x = sym.symbols('x')\n",
    "\n",
    "# Denklem: x² - 5x + 6 = 0\n",
    "denklem = sym.Eq(x**2 - 5*x + 6, 0)\n",
    "cozumler = sym.solve(denklem, x)\n",
    "\n",
    "print(\"Denklem:\", denklem)\n",
    "print(\"Çözümler:\", cozumler)  # [2, 3]"
   ]
  },
  {
   "cell_type": "code",
   "execution_count": 67,
   "id": "fd5630f4",
   "metadata": {},
   "outputs": [
    {
     "data": {
      "text/latex": [
       "$\\displaystyle \\exp(x) = e^{x}$"
      ],
      "text/plain": [
       "<IPython.core.display.Math object>"
      ]
     },
     "metadata": {},
     "output_type": "display_data"
    },
    {
     "data": {
      "text/latex": [
       "$\\displaystyle \\exp(2x) = e^{2 x}$"
      ],
      "text/plain": [
       "<IPython.core.display.Math object>"
      ]
     },
     "metadata": {},
     "output_type": "display_data"
    }
   ],
   "source": [
    "#LaTeX'te \\exp exponential (üstel) fonksiyonu temsil ediyor!\n",
    "import sympy as sym\n",
    "from IPython.display import display, Math\n",
    "\n",
    "x = sym.symbols('x')\n",
    "\n",
    "# exp fonksiyonu\n",
    "expr = sym.exp(x)\n",
    "display(Math(f'\\\\exp(x) = {sym.latex(expr)}'))\n",
    "\n",
    "# Örnek hesaplama\n",
    "expr2 = sym.exp(2*x)\n",
    "display(Math(f'\\\\exp(2x) = {sym.latex(expr2)}'))"
   ]
  },
  {
   "cell_type": "code",
   "execution_count": null,
   "id": "28f058e2",
   "metadata": {},
   "outputs": [],
   "source": []
  },
  {
   "cell_type": "code",
   "execution_count": null,
   "id": "ff675a43",
   "metadata": {},
   "outputs": [],
   "source": []
  }
 ],
 "metadata": {
  "kernelspec": {
   "display_name": "basicPy",
   "language": "python",
   "name": "python3"
  },
  "language_info": {
   "codemirror_mode": {
    "name": "ipython",
    "version": 3
   },
   "file_extension": ".py",
   "mimetype": "text/x-python",
   "name": "python",
   "nbconvert_exporter": "python",
   "pygments_lexer": "ipython3",
   "version": "3.13.7"
  }
 },
 "nbformat": 4,
 "nbformat_minor": 5
}
