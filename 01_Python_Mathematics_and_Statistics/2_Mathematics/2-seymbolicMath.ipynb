{
 "cells": [
  {
   "cell_type": "markdown",
   "id": "48fd7960",
   "metadata": {},
   "source": [
    "#  Matematiksel seybolleri  kodlarken nasil  goruntuleyecegini ogrenelim LATEX\n",
    "latex uygulama matematiksel ifadelerin oldugu gibi ekranda gosterilmesi anlamindadir\n",
    "$$\\sqrt{a} \\sqrt{a}$$"
   ]
  },
  {
   "cell_type": "code",
   "execution_count": 45,
   "id": "32a7cacc",
   "metadata": {},
   "outputs": [
    {
     "data": {
      "text/latex": [
       "$\\displaystyle a^{b}$"
      ],
      "text/plain": [
       " b\n",
       "a "
      ]
     },
     "metadata": {},
     "output_type": "display_data"
    },
    {
     "data": {
      "text/latex": [
       "$\\displaystyle a b + 4$"
      ],
      "text/plain": [
       "a⋅b + 4"
      ]
     },
     "metadata": {},
     "output_type": "display_data"
    },
    {
     "data": {
      "text/latex": [
       "$\\displaystyle \\frac{a}{b}$"
      ],
      "text/plain": [
       "a\n",
       "─\n",
       "b"
      ]
     },
     "metadata": {},
     "output_type": "display_data"
    },
    {
     "data": {
      "text/latex": [
       "$\\displaystyle 1.4142135623731$"
      ],
      "text/plain": [
       "np.float64(1.4142135623730951)"
      ]
     },
     "metadata": {},
     "output_type": "display_data"
    },
    {
     "data": {
      "text/latex": [
       "$\\displaystyle \\sqrt{2}$"
      ],
      "text/plain": [
       "√2"
      ]
     },
     "metadata": {},
     "output_type": "display_data"
    },
    {
     "data": {
      "text/latex": [
       "$\\displaystyle a b^{2}$"
      ],
      "text/plain": [
       "   2\n",
       "a⋅b "
      ]
     },
     "metadata": {},
     "output_type": "display_data"
    },
    {
     "data": {
      "text/latex": [
       "$\\displaystyle 2 a$"
      ],
      "text/plain": [
       "2⋅a"
      ]
     },
     "metadata": {},
     "output_type": "display_data"
    },
    {
     "data": {
      "text/latex": [
       "$\\displaystyle \\sqrt{4} a$"
      ],
      "text/plain": [
       "<IPython.core.display.Math object>"
      ]
     },
     "metadata": {},
     "output_type": "display_data"
    },
    {
     "data": {
      "text/latex": [
       "$\\displaystyle a$"
      ],
      "text/plain": [
       "a"
      ]
     },
     "metadata": {},
     "output_type": "display_data"
    },
    {
     "data": {
      "text/latex": [
       "$\\displaystyle \\sqrt{a} \\sqrt{a}$"
      ],
      "text/plain": [
       "<IPython.core.display.Math object>"
      ]
     },
     "metadata": {},
     "output_type": "display_data"
    },
    {
     "data": {
      "text/latex": [
       "$\\displaystyle \\sigma$"
      ],
      "text/plain": [
       "<IPython.core.display.Math object>"
      ]
     },
     "metadata": {},
     "output_type": "display_data"
    },
    {
     "data": {
      "text/latex": [
       "$\\displaystyle a_{mn}$"
      ],
      "text/plain": [
       "<IPython.core.display.Math object>"
      ]
     },
     "metadata": {},
     "output_type": "display_data"
    },
    {
     "data": {
      "text/latex": [
       "$\\displaystyle a_{mn} + b ^ {a+b}$"
      ],
      "text/plain": [
       "<IPython.core.display.Math object>"
      ]
     },
     "metadata": {},
     "output_type": "display_data"
    },
    {
     "data": {
      "text/latex": [
       "$\\displaystyle \\sigma =\\mu\\times\\sqrt{4a+2b-2c}$"
      ],
      "text/plain": [
       "<IPython.core.display.Math object>"
      ]
     },
     "metadata": {},
     "output_type": "display_data"
    },
    {
     "data": {
      "text/latex": [
       "$\\displaystyle \\frac {a} {b}$"
      ],
      "text/plain": [
       "<IPython.core.display.Math object>"
      ]
     },
     "metadata": {},
     "output_type": "display_data"
    },
    {
     "data": {
      "text/latex": [
       "$\\displaystyle \\text {Bu kesirli bir ifadedir}  \\frac {a+b} {a ^{4a+2b}}$"
      ],
      "text/plain": [
       "<IPython.core.display.Math object>"
      ]
     },
     "metadata": {},
     "output_type": "display_data"
    },
    {
     "data": {
      "text/latex": [
       "$\\displaystyle 2a+3b = 18$"
      ],
      "text/plain": [
       "<IPython.core.display.Math object>"
      ]
     },
     "metadata": {},
     "output_type": "display_data"
    },
    {
     "data": {
      "text/latex": [
       "$\\displaystyle \\sin(2\\pi ft + \\theta)$"
      ],
      "text/plain": [
       "<IPython.core.display.Math object>"
      ]
     },
     "metadata": {},
     "output_type": "display_data"
    },
    {
     "data": {
      "text/latex": [
       "$\\displaystyle e = mc ^ 2$"
      ],
      "text/plain": [
       "<IPython.core.display.Math object>"
      ]
     },
     "metadata": {},
     "output_type": "display_data"
    }
   ],
   "source": [
    "import numpy as np\n",
    "import sympy as sym # gerekli kutuphanemizi ekledik\n",
    "sym.init_printing()\n",
    "from IPython.display import display,Math\n",
    "\n",
    "a,b = sym.symbols('a,b') # istedigmiz sembolu olusturuyoruz  \n",
    "a,b\n",
    "\n",
    "display(a**b) # alttaki sekilde nasil gorundugune dikkatli bakin tam bir uslu ifade karsimizda \n",
    "display(a*b +4 ) # carpma islemin math goruntulemsi\n",
    "display(a/b) #bolum isleminin math goruntusu\n",
    "\n",
    "display(np.sqrt(2))# numpy sinifinda kok 2 nin kok disina cikamsi\n",
    "display(sym.sqrt(2)) # burada ise matematiksel sembol olarak gorulmesi\n",
    "\n",
    "# unutmadan sympy display sadece matematiksel cozum sunar ama matemeatiskel ifadeyi gormek istiyorsak LATEX ihtiyacimiz var\n",
    "display((a*(b**2)))#ab ^2\n",
    "\n",
    "display(sym.sqrt(4)*a)\n",
    "display(Math('\\\\sqrt{4} a'))# latex ile direkt bize denklemi verir\n",
    "\n",
    "\n",
    "display(sym.sqrt(a)*sym.sqrt(a)) # normal olarak koklu ifadeleri carpar bize sembolu vermez\n",
    "display(Math('\\\\sqrt{a} \\\\sqrt{a}')) # latex kodlamasi ile koklu ifadeleri ayri ayri gosterdik\n",
    "\n",
    "\n",
    "# Latex kodlari \n",
    "display(Math('\\\\sigma'))# σ isreti cikar\n",
    "display(Math('a_{mn}')) # alt cizgi bize denklemin altini verir\n",
    "display(Math('a_{mn} + b ^ {a+b}')) \n",
    "display(Math('\\\\sigma =\\\\mu\\\\times\\\\sqrt{4a+2b-2c}'))\n",
    "display(Math('\\\\frac {a} {b}'))\n",
    "display(Math('\\\\text {Bu kesirli bir ifadedir}  \\\\frac {a+b} {a ^{4a+2b}}'))\n",
    "\n",
    "# Example/\n",
    "display(Math('2a+3b = 18')) # direkt ekranda bu ciktiyi verir\n",
    "display(Math('\\\\sin(2\\\\pi ft + \\\\theta)'))\n",
    "display(Math('e = mc ^ 2'))\n"
   ]
  },
  {
   "cell_type": "code",
   "execution_count": null,
   "id": "81133cba",
   "metadata": {},
   "outputs": [
    {
     "name": "stdout",
     "output_type": "stream",
     "text": [
      "İfade: x**2 + 2*x*y + y**2\n",
      "Türev: 2*x + 2*y\n",
      "Integral: x**3/3 + x**2*y + x*y**2\n"
     ]
    }
   ],
   "source": [
    "'''\n",
    "\n",
    "# Symbol tanımlama\n",
    "x = sym.Symbol('x')\n",
    "y = sym.Symbol('y')\n",
    "\n",
    "# Basit bir denklem\n",
    "expr = x**2 + 2*x*y + y**2\n",
    "print(\"İfade:\", expr)\n",
    "\n",
    "# Türev alma\n",
    "turev = sym.diff(expr, x)\n",
    "print(\"Türev:\", turev)\n",
    "\n",
    "# Integral alma\n",
    "integral = sym.integrate(expr, x)\n",
    "print(\"Integral:\", integral)'''"
   ]
  },
  {
   "cell_type": "code",
   "execution_count": null,
   "id": "ccfe067c",
   "metadata": {},
   "outputs": [],
   "source": []
  }
 ],
 "metadata": {
  "kernelspec": {
   "display_name": "basicPy",
   "language": "python",
   "name": "python3"
  },
  "language_info": {
   "codemirror_mode": {
    "name": "ipython",
    "version": 3
   },
   "file_extension": ".py",
   "mimetype": "text/x-python",
   "name": "python",
   "nbconvert_exporter": "python",
   "pygments_lexer": "ipython3",
   "version": "3.13.7"
  }
 },
 "nbformat": 4,
 "nbformat_minor": 5
}
