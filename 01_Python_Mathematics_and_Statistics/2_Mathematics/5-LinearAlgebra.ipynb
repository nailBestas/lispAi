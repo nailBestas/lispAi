{
 "cells": [
  {
   "cell_type": "markdown",
   "id": "262edede",
   "metadata": {},
   "source": [
    "# LINEAR ALGEBRA  \n"
   ]
  },
  {
   "cell_type": "markdown",
   "id": "8cfd44e3",
   "metadata": {},
   "source": [
    "## VECTOR - VEKTOR"
   ]
  },
  {
   "cell_type": "code",
   "execution_count": 1,
   "id": "35ccbd83",
   "metadata": {},
   "outputs": [],
   "source": [
    "# 1. VEKTÖR NEDİR? / WHAT IS A VECTOR?\n",
    "\n",
    "# Matematiksel Tanım / Mathematical Definition:\n",
    "vektor = {\n",
    "    \"tanım/definition\": \"Yönü ve büyüklüğü olan matematiksel nesne / Mathematical object with direction and magnitude\",\n",
    "    \"boyut/dimension\": \"n-boyutlu uzayda nokta / Point in n-dimensional space\",\n",
    "    \"bileşenler/components\": \"[x₁, x₂, ..., xₙ]\",\n",
    "    \"örnek/example\": \"[3, 4] → 2D vektör / 2D vector\"}"
   ]
  },
  {
   "cell_type": "code",
   "execution_count": 2,
   "id": "2c25a137",
   "metadata": {},
   "outputs": [],
   "source": [
    "# 2. VEKTÖR ÖZELLİKLERİ / VECTOR PROPERTIES\n",
    "\n",
    "vektor_ozellikleri = {\n",
    "    \"büyüklük/magnitude\": \"||v|| = √(v₁² + v₂² + ... + vₙ²)\",\n",
    "    \"yön/direction\": \"Uzayda işaret ettiği doğrultu / Direction it points in space\", \n",
    "    \"konum/position\": \"Koordinat sisteminde yer / Location in coordinate system\",\n",
    "    \"doğrusallık/linearity\": \"Lineer kombinasyonlara uygunluk / Suitability for linear combinations\"\n",
    "}"
   ]
  },
  {
   "cell_type": "markdown",
   "id": "ed192882",
   "metadata": {},
   "source": [
    "#### VEKTÖR OPERASYONLARI / VECTOR OPERATIONS:"
   ]
  },
  {
   "cell_type": "code",
   "execution_count": 10,
   "id": "be923fba",
   "metadata": {},
   "outputs": [],
   "source": [
    "# 1. VEKTÖR TOPLAMA / VECTOR ADDITION\n",
    "# Geometrik/Geometric: Uç uca ekleme / Tip-to-tail addition\n",
    "# Cebirsel/Algebraic: Bileşen bazlı toplama / Component-wise addition\n",
    "\n",
    "# v = [1, 2]\n",
    "# w = [3, 4]\n",
    "# v + w = [1+3, 2+4] = [4, 6]"
   ]
  },
  {
   "cell_type": "code",
   "execution_count": 14,
   "id": "373ded2d",
   "metadata": {},
   "outputs": [],
   "source": [
    "# 2. SKALER ÇARPIM / SCALAR MULTIPLICATION\n",
    "\n",
    "# Her bileşeni skaler ile çarp / Multiply each component by scalar\n",
    "#c = 3\n",
    "#v = [1, 2]\n",
    "#c * v = [3, 6]  # Büyüklük 3 katına çıkar, yön aynı / Magnitude triples, direction same"
   ]
  },
  {
   "cell_type": "code",
   "execution_count": 11,
   "id": "fb17c742",
   "metadata": {},
   "outputs": [],
   "source": [
    "# # 3. DOT PRODUCT (İÇ ÇARPIM) / DOT PRODUCT (INNER PRODUCT)\n",
    "# # Matematiksel/Mathematical:\n",
    "# v · w = v₁w₁ + v₂w₂ + ... + vₙwₙ\n",
    "\n",
    "# # Geometrik Anlamı / Geometric Meaning:\n",
    "# dot_product = {\n",
    "#     \"benzerlik_ölçüsü/similarity_measure\": \"Aynı yöndeki vektörlerde büyük / Large for vectors in same direction\",\n",
    "#     \"açı_ilişkisi/angle_relationship\": \"v · w = ||v|| ||w|| cos(θ)\",\n",
    "#     \"diklik_testı/perpendicularity_test\": \"Dot = 0 → vektörler dik / Dot = 0 → vectors perpendicular\"\n",
    "# }"
   ]
  },
  {
   "cell_type": "code",
   "execution_count": 12,
   "id": "9f4f6977",
   "metadata": {},
   "outputs": [],
   "source": [
    "# 4. CROSS PRODUCT (VEKTÖREL ÇARPIM) / CROSS PRODUCT (VECTOR PRODUCT)\n",
    "# Sadece 3D vektörlerde / Only in 3D vectors:\n",
    "# v × w = [v₂w₃ - v₃w₂, v₃w₁ - v₁w₃, v₁w₂ - v₂w₁]\n",
    "\n",
    "# # Geometrik Anlamı / Geometric Meaning:\n",
    "# cross_product = {\n",
    "#     \"dik_vektör/perpendicular_vector\": \"İki vektöre dik yeni vektör / New vector perpendicular to both\",\n",
    "#     \"alan_hesabı/area_calculation\": \"||v × w|| = paralelkenar alanı / parallelogram area\",\n",
    "#     \"yön_belirleme/direction_determination\": \"Sağ el kuralı / Right-hand rule\"\n",
    "# }"
   ]
  },
  {
   "cell_type": "code",
   "execution_count": 13,
   "id": "d3056551",
   "metadata": {},
   "outputs": [],
   "source": [
    "# #  AI'DA VEKTÖR UYGULAMALARI / VECTOR APPLICATIONS IN A\n",
    "# # 1. WORD EMBEDDINGS / KELİME GÖMÜLERİ\n",
    "# # Kelimeler vektör uzayında / Words in vector space:\n",
    "# kelime_vektorleri = {\n",
    "#     \"king/kral\": [0.8, 0.2, 0.5],\n",
    "#     \"queen/kraliçe\": [0.7, 0.9, 0.5], \n",
    "#     \"man/erkek\": [0.9, 0.1, 0.6],\n",
    "#     \"woman/kadın\": [0.8, 0.8, 0.6]\n",
    "# }\n",
    "\n",
    "# # Vektör işlemleri ile / With vector operations:\n",
    "# king - man + woman ≈ queen  # Semantic relationships! / Anlamsal ilişkiler!\n",
    "\n",
    "# # 2. FEATURE VECTORS / ÖZELLİK VEKTÖRLERİ\n",
    "# # Makine öğrenmesinde / In machine learning:\n",
    "# kullanici_vektoru = {\n",
    "#     \"yaş/age\": 0.7,           # Normalize edilmiş / Normalized\n",
    "#     \"gelir/income\": 0.4,      # 0-1 arası / Between 0-1\n",
    "#     \"ilgi_alanı/interest\": 0.9, # Özellik vektörü / Feature vector\n",
    "#     \"konum/location\": 0.2\n",
    "# }\n",
    "\n",
    "# # Benzerlik = Dot product! / Similarity = Dot product!\n",
    "\n",
    "# #3. COMPUTER VISION / BİLGİSAYARLI GÖRÜ\n",
    "# # Görüntü işlemede / In image processing:\n",
    "# piksel_vektorleri = {\n",
    "#     \"renk/color\": [R, G, B],           # 3D renk vektörü / 3D color vector\n",
    "#     \"konum/position\": [x, y],          # 2D pozisyon vektörü / 2D position vector\n",
    "#     \"özellik/feature\": [kenar, köşe, doku]  # Feature vector / Özellik vektörü\n",
    "# }\n",
    "\n",
    "\n",
    "\n",
    "# # GEOMETRİK YORUMLAR / GEOMETRIC INTERPRETATIONS:\n",
    "# # 1. BÜYÜKLÜK (NORM) / MAGNITUDE (NORM):\n",
    "# # Öklid Normu / Euclidean Norm:\n",
    "# ||v|| = √(v₁² + v₂² + ... + vₙ²)\n",
    "\n",
    "# # AI Anlamı / AI Meaning:\n",
    "# norm = {\n",
    "#     \"uzaklık/distance\": \"Orijinden uzaklık / Distance from origin\",\n",
    "#     \"ölçek/scale\": \"Vektörün büyüklüğü / Vector's magnitude\", \n",
    "#     \"normalizasyon/normalization\": \"Birim vektöre çevirme / Convert to unit vector\"\n",
    "# }\n",
    "\n",
    "# # 2. AÇI HESABI / ANGLE CALCULATION:\n",
    "# # Dot product ile açı / Angle with dot product:\n",
    "# cos(θ) = (v · w) / (||v|| ||w||)\n",
    "\n",
    "# # AI'da Kullanımı / Usage in AI:\n",
    "# aci_uygulamalari = [\n",
    "#     \"Benzerlik ölçümü / Similarity measurement\",\n",
    "#     \"Kümeleme algoritmaları / Clustering algorithms\", \n",
    "#     \"Anomali tespiti / Anomaly detection\"\n",
    "# ]"
   ]
  },
  {
   "cell_type": "markdown",
   "id": "cadf71d9",
   "metadata": {},
   "source": []
  }
 ],
 "metadata": {
  "kernelspec": {
   "display_name": "basicPy",
   "language": "python",
   "name": "python3"
  },
  "language_info": {
   "codemirror_mode": {
    "name": "ipython",
    "version": 3
   },
   "file_extension": ".py",
   "mimetype": "text/x-python",
   "name": "python",
   "nbconvert_exporter": "python",
   "pygments_lexer": "ipython3",
   "version": "3.13.7"
  }
 },
 "nbformat": 4,
 "nbformat_minor": 5
}
