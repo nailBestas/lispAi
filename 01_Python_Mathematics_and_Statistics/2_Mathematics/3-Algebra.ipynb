{
 "cells": [
  {
   "cell_type": "markdown",
   "id": "3df03381",
   "metadata": {},
   "source": [
    "# Algebra (cebir)"
   ]
  },
  {
   "cell_type": "code",
   "execution_count": 19,
   "id": "9eace7d1",
   "metadata": {},
   "outputs": [
    {
     "data": {
      "text/latex": [
       "$\\displaystyle 4 x + 14 = 9 \\\\  \\text{denkleminin cozum kumesi yani x yerine gelecek olan deger}  [-5/4]$"
      ],
      "text/plain": [
       "<IPython.core.display.Math object>"
      ]
     },
     "metadata": {},
     "output_type": "display_data"
    },
    {
     "data": {
      "text/plain": [
       "[-sqrt(5)*I/2, sqrt(5)*I/2]"
      ]
     },
     "execution_count": 19,
     "metadata": {},
     "output_type": "execute_result"
    }
   ],
   "source": [
    "from IPython.display import Math,display\n",
    "import sympy as sym\n",
    "x = sym.symbols('x')\n",
    "denk= sym.Eq(4*x + 14,9)# 2x+4 = 9 anlaminadir eq esiitir anlamindadir\n",
    "sol = sym.solve(denk,x)# solve ile denklemi cozduk ve x yerine 5/2 getirecek\n",
    "display(Math(f'{sym.latex(denk)} \\\\\\\\  \\\\text{{denkleminin cozum kumesi yani x yerine gelecek olan deger}}  {sol}'))\n",
    "sym.solve(4*x **2 +5 )"
   ]
  },
  {
   "cell_type": "code",
   "execution_count": null,
   "id": "660a5e88",
   "metadata": {},
   "outputs": [
    {
     "data": {
      "text/latex": [
       "$\\displaystyle - 2 q + 2 + \\frac{3}{q}$"
      ],
      "text/plain": [
       "-2*q + 2 + 3/q"
      ]
     },
     "metadata": {},
     "output_type": "display_data"
    },
    {
     "data": {
      "text/latex": [
       "$\\displaystyle - 2 q + 2 + \\frac{3}{q}$"
      ],
      "text/plain": [
       "<IPython.core.display.Math object>"
      ]
     },
     "metadata": {},
     "output_type": "display_data"
    },
    {
     "data": {
      "text/latex": [
       "$\\displaystyle g = \\left[ \\frac{1}{2} - \\frac{\\sqrt{7}}{2}, \\  \\frac{1}{2} + \\frac{\\sqrt{7}}{2}\\right]$"
      ],
      "text/plain": [
       "<IPython.core.display.Math object>"
      ]
     },
     "metadata": {},
     "output_type": "display_data"
    }
   ],
   "source": [
    "#1 ornek\n",
    "q = sym.symbols('q')\n",
    "eq = 3*q + 4/q + 3 - 5*q - 1/q - 1\n",
    "display(eq)\n",
    "display(Math(sym.latex(eq)))\n",
    "display(Math(f'g = {sym.latex(sym.solve(eq,q))}')) # cozum kumesini verecek\n"
   ]
  },
  {
   "cell_type": "code",
   "execution_count": null,
   "id": "54569842",
   "metadata": {},
   "outputs": [
    {
     "data": {
      "text/latex": [
       "$\\displaystyle 3 q^{2} + 2 q - \\frac{5}{q} - \\frac{4}{q^{3}}$"
      ],
      "text/plain": [
       "3*q**2 + 2*q - 5/q - 4/q**3"
      ]
     },
     "metadata": {},
     "output_type": "display_data"
    },
    {
     "data": {
      "text/latex": [
       "$\\displaystyle 3 q^{2} + 2 q - \\frac{5}{q} - \\frac{4}{q^{3}}$"
      ],
      "text/plain": [
       "<IPython.core.display.Math object>"
      ]
     },
     "metadata": {},
     "output_type": "display_data"
    },
    {
     "data": {
      "text/latex": [
       "$\\displaystyle q= \\left[ \\operatorname{CRootOf} {\\left(3 x^{5} + 2 x^{4} - 5 x^{2} - 4, 0\\right)}, \\  \\operatorname{CRootOf} {\\left(3 x^{5} + 2 x^{4} - 5 x^{2} - 4, 1\\right)}, \\  \\operatorname{CRootOf} {\\left(3 x^{5} + 2 x^{4} - 5 x^{2} - 4, 2\\right)}, \\  \\operatorname{CRootOf} {\\left(3 x^{5} + 2 x^{4} - 5 x^{2} - 4, 3\\right)}, \\  \\operatorname{CRootOf} {\\left(3 x^{5} + 2 x^{4} - 5 x^{2} - 4, 4\\right)}\\right]$"
      ],
      "text/plain": [
       "<IPython.core.display.Math object>"
      ]
     },
     "metadata": {},
     "output_type": "display_data"
    },
    {
     "data": {
      "text/latex": [
       "$\\displaystyle q= \\frac{3 q^{5} + 2 q^{4} - 5 q^{2} - 4}{q^{3}}$"
      ],
      "text/plain": [
       "<IPython.core.display.Math object>"
      ]
     },
     "metadata": {},
     "output_type": "display_data"
    }
   ],
   "source": [
    "#2\n",
    "eq2 = 2*q + 3*q**2 - 5/q - 4/q**3\n",
    "display(eq2)\n",
    "display(Math(sym.latex(sym.simplify(eq2))))\n",
    "display(Math(f'q= {sym.latex(sym.solve(eq2,q))}'))#CRootOf, denklemin köklerini sembolik olarak temsil ediyor\n",
    "display(Math(f'q= {sym.latex(sym.cancel(eq2,q))}')) # cancel butunsel bir sadelestirme ornegi sunar bize\n",
    "\n"
   ]
  },
  {
   "cell_type": "code",
   "execution_count": null,
   "id": "83f543cd",
   "metadata": {},
   "outputs": [
    {
     "name": "stdout",
     "output_type": "stream",
     "text": [
      "Sembolik temsil:\n",
      "Kök 0: CRootOf(3*x**5 + 2*x**4 - 5*x**2 - 4, 0)\n",
      "Kök 1: CRootOf(3*x**5 + 2*x**4 - 5*x**2 - 4, 1)\n",
      "Kök 2: CRootOf(3*x**5 + 2*x**4 - 5*x**2 - 4, 2)\n",
      "Kök 3: CRootOf(3*x**5 + 2*x**4 - 5*x**2 - 4, 3)\n",
      "Kök 4: CRootOf(3*x**5 + 2*x**4 - 5*x**2 - 4, 4)\n",
      "\n",
      "Sayısal değerleri:\n",
      "Kök 0: 1.18716560776318\n",
      "Kök 1: -0.994074543510897 - 0.936886436711566*I\n",
      "Kök 2: -0.994074543510897 + 0.936886436711566*I\n",
      "Kök 3: 0.0671584062959738 - 0.772914692708164*I\n",
      "Kök 4: 0.0671584062959738 + 0.772914692708164*I\n"
     ]
    }
   ],
   "source": [
    "import sympy as sym\n",
    "'''\n",
    "for index, deger in enumerate(liste):enumerate kullanimi\n",
    "    # index → 0, 1, 2, ...\n",
    "    # deger → liste[0], liste[1], liste[2], ...\n",
    "\n",
    "    '''\n",
    "x = sym.symbols('x')\n",
    "denklem = 3*x**5 + 2*x**4 - 5*x**2 - 4\n",
    "\n",
    "# Kökleri bul\n",
    "cozumler = sym.solve(denklem, x)\n",
    "\n",
    "print(\"Sembolik temsil:\")\n",
    "for i, cozum in enumerate(cozumler):\n",
    "    print(f\"Kök {i}: {cozum}\")\n",
    "\n",
    "print(\"\\nSayısal değerleri:\")\n",
    "for i, cozum in enumerate(cozumler):\n",
    "    sayisal_deger = cozum.evalf()  # Sayısal değere çevir\n",
    "    print(f\"Kök {i}: {sayisal_deger}\")"
   ]
  },
  {
   "cell_type": "code",
   "execution_count": 39,
   "id": "04374aeb",
   "metadata": {},
   "outputs": [
    {
     "data": {
      "text/latex": [
       "$\\displaystyle \\left(x + 6\\right) \\left(4 x + 20\\right) = 4 x^{2} + 44 x + 120$"
      ],
      "text/plain": [
       "<IPython.core.display.Math object>"
      ]
     },
     "metadata": {},
     "output_type": "display_data"
    }
   ],
   "source": [
    "# Expanding terms (islem genisletme)\n",
    "#dagilma ozelligini a(a+b) = a^2+ab seklinde\n",
    "\n",
    "x = sym.symbols('x')\n",
    "term1 = 4*x + 20\n",
    "term2 = x + 6\n",
    "term3 = x\n",
    "display(Math(f'{sym.latex(term1*term2)} = {sym.latex(sym.expand(term1*term2))}'))"
   ]
  },
  {
   "cell_type": "code",
   "execution_count": null,
   "id": "975d1375",
   "metadata": {},
   "outputs": [
    {
     "name": "stdout",
     "output_type": "stream",
     "text": [
      "her x= 0 ve y=0, f(x,y)= 24\n",
      "her x= 0 ve y=1, f(x,y)= 18\n",
      "her x= 0 ve y=2, f(x,y)= 12\n",
      "her x= 0 ve y=3, f(x,y)= 6\n",
      "her x= 1 ve y=0, f(x,y)= 28\n",
      "her x= 1 ve y=1, f(x,y)= 21\n",
      "her x= 1 ve y=2, f(x,y)= 14\n",
      "her x= 1 ve y=3, f(x,y)= 7\n",
      "her x= 2 ve y=0, f(x,y)= 32\n",
      "her x= 2 ve y=1, f(x,y)= 24\n",
      "her x= 2 ve y=2, f(x,y)= 16\n",
      "her x= 2 ve y=3, f(x,y)= 8\n",
      "her x= 3 ve y=0, f(x,y)= 36\n",
      "her x= 3 ve y=1, f(x,y)= 27\n",
      "her x= 3 ve y=2, f(x,y)= 18\n",
      "her x= 3 ve y=3, f(x,y)= 9\n"
     ]
    }
   ],
   "source": [
    "from sympy.abc import x,y \n",
    "Fxy = (6+x)*(4-y)\n",
    "for ix in range(0,4):\n",
    "    for iy in range(0,4):\n",
    "        print(f'her x= {ix} ve y={iy}, f(x,y)= {Fxy.subs({x:ix,y:iy})}')# subs denklemde yerine koymak istedgimiz degiskenin yerine sayi koymak icin\n",
    "#Fxy.subs({x:1,y:0})# sozluk tanimi yaptik subs degisken yerine sayi koy isine yariyor\n"
   ]
  },
  {
   "cell_type": "markdown",
   "id": "c5778924",
   "metadata": {},
   "source": [
    "## Matrisler"
   ]
  },
  {
   "cell_type": "code",
   "execution_count": 1,
   "id": "6db97029",
   "metadata": {},
   "outputs": [],
   "source": [
    "from IPython.display import display,Math\n",
    "import numpy as np\n",
    "import sympy as sym\n"
   ]
  },
  {
   "cell_type": "code",
   "execution_count": 10,
   "id": "10214004",
   "metadata": {},
   "outputs": [
    {
     "data": {
      "text/latex": [
       "$\\displaystyle \\left[\\begin{matrix}1 & 2\\\\3 & 4\\end{matrix}\\right]$"
      ],
      "text/plain": [
       "<IPython.core.display.Math object>"
      ]
     },
     "metadata": {},
     "output_type": "display_data"
    }
   ],
   "source": [
    "N = np.array([[1,2],[3,4]])\n",
    "type(N)\n",
    "display(Math(sym.latex(sym.simplify(N))))"
   ]
  },
  {
   "cell_type": "code",
   "execution_count": 33,
   "id": "3ec8eb28",
   "metadata": {},
   "outputs": [
    {
     "name": "stdout",
     "output_type": "stream",
     "text": [
      "Manuel atamadan sonra:\n",
      "[[0. 0. 0. 0. 0. 4.]\n",
      " [0. 0. 0. 7. 0. 0.]\n",
      " [0. 0. 0. 0. 0. 0.]\n",
      " [0. 0. 0. 0. 0. 0.]\n",
      " [0. 0. 0. 0. 0. 0.]]\n",
      "\n",
      "Matematiksel desen uygulandıktan sonra:\n",
      "[[ 1. -1.  1. -1.  1. -1.]\n",
      " [-1.  1. -1.  1. -1.  1.]\n",
      " [ 1. -1.  1. -1.  1. -1.]\n",
      " [-1.  1. -1.  1. -1.  1.]\n",
      " [ 1. -1.  1. -1.  1. -1.]]\n"
     ]
    }
   ],
   "source": [
    "import numpy as np\n",
    "\n",
    "# 5x6'lık matris oluştur\n",
    "create_matrix = np.zeros([5, 6])\n",
    "\n",
    "# Manuel değer atamaları\n",
    "create_matrix[0, 5] = 4  # 1. satır, 6. sütun\n",
    "create_matrix[1, 3] = 7  # 2. satır, 4. sütun\n",
    "\n",
    "print(\"Manuel atamadan sonra:\")\n",
    "print(create_matrix)\n",
    "\n",
    "# Matematiksel desen oluştur\n",
    "for satir in range(5):      # 0'dan 4'e kadar\n",
    "    for sutun in range(6):  # 0'dan 5'e kadar\n",
    "        # (-1)^(satir+sutun) → +1 veya -1\n",
    "        create_matrix[satir, sutun] = (-1) ** (satir + sutun)\n",
    "\n",
    "print(\"\\nMatematiksel desen uygulandıktan sonra:\")\n",
    "print(create_matrix)"
   ]
  },
  {
   "cell_type": "code",
   "execution_count": 40,
   "id": "1ff2c5c4",
   "metadata": {},
   "outputs": [
    {
     "data": {
      "text/latex": [
       "$\\displaystyle \\left[\\begin{matrix}18.0 & 24.0 & 30.0 & 36.0\\\\15.0 & 20.0 & 25.0 & 30.0\\\\12.0 & 16.0 & 20.0 & 24.0\\\\9.0 & 12.0 & 15.0 & 18.0\\end{matrix}\\right]$"
      ],
      "text/plain": [
       "<IPython.core.display.Math object>"
      ]
     },
     "metadata": {},
     "output_type": "display_data"
    }
   ],
   "source": [
    "x,y = sym.symbols('x,y')\n",
    "fxy = (6-x)*(3+y)\n",
    "xsets = range(0,4)\n",
    "ysets = range(0,4)\n",
    "xymatris = np.zeros([len(xsets),len(ysets)])\n",
    "\n",
    "for i in xsets:\n",
    "    for j in ysets:\n",
    "        xymatris[i,j] = fxy.subs({x:i,y:j})\n",
    "display(Math(sym.latex(sym.simplify(xymatris))))# gercek bir matris goruntusu elde edelim"
   ]
  },
  {
   "cell_type": "code",
   "execution_count": null,
   "id": "1fe7cfdd",
   "metadata": {},
   "outputs": [
    {
     "data": {
      "text/latex": [
       "$\\displaystyle \\left[\\begin{matrix}1 & 2 & 3 & 4 & 5 & 6 & 7 & 8 & 9 & 10\\\\2 & 4 & 6 & 8 & 10 & 12 & 14 & 16 & 18 & 20\\\\3 & 6 & 9 & 12 & 15 & 18 & 21 & 24 & 27 & 30\\\\4 & 8 & 12 & 16 & 20 & 24 & 28 & 32 & 36 & 40\\\\5 & 10 & 15 & 20 & 25 & 30 & 35 & 40 & 45 & 50\\\\6 & 12 & 18 & 24 & 30 & 36 & 42 & 48 & 54 & 60\\\\7 & 14 & 21 & 28 & 35 & 42 & 49 & 56 & 63 & 70\\\\8 & 16 & 24 & 32 & 40 & 48 & 56 & 64 & 72 & 80\\\\9 & 18 & 27 & 36 & 45 & 54 & 63 & 72 & 81 & 90\\\\10 & 20 & 30 & 40 & 50 & 60 & 70 & 80 & 90 & 100\\end{matrix}\\right]$"
      ],
      "text/plain": [
       "<IPython.core.display.Math object>"
      ]
     },
     "metadata": {},
     "output_type": "display_data"
    }
   ],
   "source": [
    "x,y = sym.symbols('x,y')\n",
    "xsets = range(1,11)\n",
    "ysets = range(1,11)\n",
    "xymatris = np.zeros([len(xsets),len(ysets)],dtype=int)# xsets satirlari ysets sutunlari\n",
    "for i in xsets:\n",
    "    for j in ysets:\n",
    "        xymatris[i-1,j-1] = i * j\n",
    "\n",
    "display(Math(sym.latex(sym.simplify(xymatris))))"
   ]
  },
  {
   "cell_type": "code",
   "execution_count": 6,
   "id": "3878bec4",
   "metadata": {},
   "outputs": [
    {
     "data": {
      "text/latex": [
       "$\\displaystyle x \\left(4 - 6 x\\right) + 3 x \\quad \\Rightarrow \\quad - 6 x^{2} + 7 x$"
      ],
      "text/plain": [
       "<IPython.core.display.Math object>"
      ]
     },
     "metadata": {},
     "output_type": "display_data"
    },
    {
     "data": {
      "text/latex": [
       "$\\displaystyle - x \\left(\\frac{2}{x} + \\frac{4}{x^{2}}\\right) + \\frac{x + 4}{4 x} \\quad \\Rightarrow \\quad - \\frac{7}{4} - \\frac{3}{x}$"
      ],
      "text/plain": [
       "<IPython.core.display.Math object>"
      ]
     },
     "metadata": {},
     "output_type": "display_data"
    },
    {
     "data": {
      "text/latex": [
       "$\\displaystyle \\frac{\\left(x - 3\\right) \\left(x + 3\\right)}{9} \\quad \\Rightarrow \\quad \\frac{x^{2}}{9} - 1$"
      ],
      "text/plain": [
       "<IPython.core.display.Math object>"
      ]
     },
     "metadata": {},
     "output_type": "display_data"
    }
   ],
   "source": [
    "# use sympy to expand and simplify these expressions\n",
    "import sympy as sym\n",
    "from IPython.display import Math,display\n",
    "\n",
    "x = sym.symbols('x')\n",
    "\n",
    "e1 = 2*x + x*(4-6*x) + x\n",
    "e2 = -x * (2/x + 4/(x**2)) + (4+x)/(4*x)\n",
    "e3 = (x + 3)*(x-3)*x*(1/(9*x))\n",
    "\n",
    "# make a list of the expressions\n",
    "exprs = [e1,e2,e3]\n",
    "\n",
    "for i, expr in enumerate(exprs):\n",
    "    display(Math(f'{sym.latex(expr)} \\\\quad \\\\Rightarrow \\\\quad {sym.latex(sym.expand(expr))}'))\n",
    "   "
   ]
  },
  {
   "cell_type": "code",
   "execution_count": 7,
   "id": "6cfce81d",
   "metadata": {},
   "outputs": [
    {
     "data": {
      "text/latex": [
       "$\\displaystyle \\text{İfade 1:}$"
      ],
      "text/plain": [
       "<IPython.core.display.Math object>"
      ]
     },
     "metadata": {},
     "output_type": "display_data"
    },
    {
     "data": {
      "text/latex": [
       "$\\displaystyle x \\left(4 - 6 x\\right) + 3 x$"
      ],
      "text/plain": [
       "<IPython.core.display.Math object>"
      ]
     },
     "metadata": {},
     "output_type": "display_data"
    },
    {
     "data": {
      "text/latex": [
       "$\\displaystyle \\text{Genişletilmiş: }- 6 x^{2} + 7 x$"
      ],
      "text/plain": [
       "<IPython.core.display.Math object>"
      ]
     },
     "metadata": {},
     "output_type": "display_data"
    },
    {
     "data": {
      "text/latex": [
       "$\\displaystyle \\text{Basitleştirilmiş: }x \\left(7 - 6 x\\right)$"
      ],
      "text/plain": [
       "<IPython.core.display.Math object>"
      ]
     },
     "metadata": {},
     "output_type": "display_data"
    },
    {
     "name": "stdout",
     "output_type": "stream",
     "text": [
      "\\n==================================================\\n\n"
     ]
    },
    {
     "data": {
      "text/latex": [
       "$\\displaystyle \\text{İfade 2:}$"
      ],
      "text/plain": [
       "<IPython.core.display.Math object>"
      ]
     },
     "metadata": {},
     "output_type": "display_data"
    },
    {
     "data": {
      "text/latex": [
       "$\\displaystyle - x \\left(\\frac{2}{x} + \\frac{4}{x^{2}}\\right) + \\frac{x + 4}{4 x}$"
      ],
      "text/plain": [
       "<IPython.core.display.Math object>"
      ]
     },
     "metadata": {},
     "output_type": "display_data"
    },
    {
     "data": {
      "text/latex": [
       "$\\displaystyle \\text{Genişletilmiş: }- \\frac{7}{4} - \\frac{3}{x}$"
      ],
      "text/plain": [
       "<IPython.core.display.Math object>"
      ]
     },
     "metadata": {},
     "output_type": "display_data"
    },
    {
     "data": {
      "text/latex": [
       "$\\displaystyle \\text{Basitleştirilmiş: }- \\frac{7}{4} - \\frac{3}{x}$"
      ],
      "text/plain": [
       "<IPython.core.display.Math object>"
      ]
     },
     "metadata": {},
     "output_type": "display_data"
    },
    {
     "name": "stdout",
     "output_type": "stream",
     "text": [
      "\\n==================================================\\n\n"
     ]
    },
    {
     "data": {
      "text/latex": [
       "$\\displaystyle \\text{İfade 3:}$"
      ],
      "text/plain": [
       "<IPython.core.display.Math object>"
      ]
     },
     "metadata": {},
     "output_type": "display_data"
    },
    {
     "data": {
      "text/latex": [
       "$\\displaystyle \\frac{\\left(x - 3\\right) \\left(x + 3\\right)}{9}$"
      ],
      "text/plain": [
       "<IPython.core.display.Math object>"
      ]
     },
     "metadata": {},
     "output_type": "display_data"
    },
    {
     "data": {
      "text/latex": [
       "$\\displaystyle \\text{Genişletilmiş: }\\frac{x^{2}}{9} - 1$"
      ],
      "text/plain": [
       "<IPython.core.display.Math object>"
      ]
     },
     "metadata": {},
     "output_type": "display_data"
    },
    {
     "data": {
      "text/latex": [
       "$\\displaystyle \\text{Basitleştirilmiş: }\\frac{x^{2}}{9} - 1$"
      ],
      "text/plain": [
       "<IPython.core.display.Math object>"
      ]
     },
     "metadata": {},
     "output_type": "display_data"
    },
    {
     "name": "stdout",
     "output_type": "stream",
     "text": [
      "\\n==================================================\\n\n"
     ]
    }
   ],
   "source": [
    "import sympy as sym\n",
    "from IPython.display import Math, display\n",
    "\n",
    "x = sym.symbols('x')\n",
    "\n",
    "e1 = 2*x + x*(4-6*x) + x\n",
    "e2 = -x * (2/x + 4/(x**2)) + (4+x)/(4*x)\n",
    "e3 = (x + 3)*(x-3)*x*(1/(9*x))\n",
    "\n",
    "exprs = [e1, e2, e3]\n",
    "\n",
    "for i, expr in enumerate(exprs, 1):\n",
    "    genisletilmis = sym.expand(expr)\n",
    "    basitlestirilmis = sym.simplify(expr)\n",
    "    \n",
    "    display(Math(f'\\\\text{{İfade {i}:}}'))\n",
    "    display(Math(f'{sym.latex(expr)}'))\n",
    "    display(Math(f'\\\\text{{Genişletilmiş: }}{sym.latex(genisletilmis)}'))\n",
    "    display(Math(f'\\\\text{{Basitleştirilmiş: }}{sym.latex(basitlestirilmis)}'))\n",
    "    print(\"\\\\n\" + \"=\"*50 + \"\\\\n\")"
   ]
  },
  {
   "cell_type": "code",
   "execution_count": 23,
   "id": "ef748874",
   "metadata": {},
   "outputs": [
    {
     "name": "stdout",
     "output_type": "stream",
     "text": [
      "Orjinal liste: [0, 1, 2, 3, 4, 5, 6, 7, 8, 9]\n",
      "liste[2:5]: [2, 3, 4]\n",
      "liste[:4]: [0, 1, 2, 3]\n",
      "liste[6:]: [6, 7, 8, 9]\n",
      "liste[::2]: [0, 2, 4, 6, 8]\n",
      "liste[::-1]: [9, 8, 7, 6, 5, 4, 3, 2, 1, 0]\n",
      "İlk 5: [10, 20, 30, 40, 50]\n",
      "Son 3: [80, 90, 100]\n",
      "3-7: [40, 50, 60, 70]\n",
      "2şer atla: [10, 30, 50, 70, 90]\n",
      "İlk 2 meyve: ['elma', 'armut']\n",
      "Son 2 meyve: ['portakal', 'kiraz']\n",
      "Ortadaki 3: ['armut', 'çilek', 'muz']\n",
      "Ters sıra: ['kiraz', 'portakal', 'muz', 'çilek', 'armut', 'elma']\n",
      "2şer atla: [0, 2, 4, 6, 8]\n",
      "3er atla: [0, 3, 6, 9]\n",
      "Ters 2şer: [9, 7, 5, 3, 1]\n",
      "Belirli aralıkta 2şer: [1, 3, 5, 7]\n",
      "Her satırın ilk 2 elemanı:\n",
      "1. satır: [1, 2, 3]\n",
      "2. satır: [5, 6, 7]\n",
      "3. satır: [9, 10, 11]\n",
      "4. satır: [13, 14, 15]\n"
     ]
    }
   ],
   "source": [
    "#liste[baslangic:bitis:adim]\n",
    "'''\n",
    "başlangıç: dahil (varsayılan: 0)\n",
    "\n",
    "bitiş: dahil DEĞİL (varsayılan: son)\n",
    "\n",
    "adım: atlama sayısı (varsayılan: 1)'''\n",
    "\n",
    "liste = [0, 1, 2, 3, 4, 5, 6, 7, 8, 9]\n",
    "\n",
    "print(\"Orjinal liste:\", liste)\n",
    "print(\"liste[2:5]:\", liste[2:5])      # [2, 3, 4]\n",
    "print(\"liste[:4]:\", liste[:4])        # [0, 1, 2, 3] \n",
    "print(\"liste[6:]:\", liste[6:])        # [6, 7, 8, 9]\n",
    "print(\"liste[::2]:\", liste[::2])      # [0, 2, 4, 6, 8] - 2şer atla\n",
    "print(\"liste[::-1]:\", liste[::-1])    # [9, 8, 7, 6, 5, 4, 3, 2, 1, 0] - ters çevir\n",
    "\n",
    "\n",
    "\n",
    "# 2 Ornek\n",
    "sayilar = [10, 20, 30, 40, 50, 60, 70, 80, 90, 100]\n",
    "\n",
    "# İlk 5 eleman\n",
    "print(\"İlk 5:\", sayilar[:5])          # [10, 20, 30, 40, 50]\n",
    "\n",
    "# Son 3 eleman  \n",
    "print(\"Son 3:\", sayilar[-3:])         # [80, 90, 100]\n",
    "\n",
    "# 3'ten 7'ye kadar (7 dahil değil)\n",
    "print(\"3-7:\", sayilar[3:7])           # [40, 50, 60, 70]\n",
    "\n",
    "# 2şer atlayarak\n",
    "print(\"2şer atla:\", sayilar[::2])     # [10, 30, 50, 70, 90]\n",
    "\n",
    "\n",
    "\n",
    "# 3 string listesi ile verelim\n",
    "meyveler = [\"elma\", \"armut\", \"çilek\", \"muz\", \"portakal\", \"kiraz\"]\n",
    "\n",
    "print(\"İlk 2 meyve:\", meyveler[:2])        # ['elma', 'armut']\n",
    "print(\"Son 2 meyve:\", meyveler[-2:])       # ['portakal', 'kiraz']\n",
    "print(\"Ortadaki 3:\", meyveler[1:4])        # ['armut', 'çilek', 'muz']\n",
    "print(\"Ters sıra:\", meyveler[::-1])        # ['kiraz', 'portakal', 'muz', 'çilek', 'armut', 'elma']\n",
    "\n",
    "# 4  ADIM (STEP) KULLANIMI:\n",
    "sayilar = [0, 1, 2, 3, 4, 5, 6, 7, 8, 9]\n",
    "print(\"2şer atla:\", sayilar[::2])         # [0, 2, 4, 6, 8]\n",
    "print(\"3er atla:\", sayilar[::3])          # [0, 3, 6, 9]\n",
    "print(\"Ters 2şer:\", sayilar[::-2])        # [9, 7, 5, 3, 1]\n",
    "print(\"Belirli aralıkta 2şer:\", sayilar[1:8:2])  # [1, 3, 5, 7]\n",
    "\n",
    "\n",
    "# 5 Matris Islemi olarak \n",
    "matris = [\n",
    "    [1, 2, 3, 4],\n",
    "    [5, 6, 7, 8], \n",
    "    [9, 10, 11, 12],\n",
    "    [13, 14, 15, 16]\n",
    "]\n",
    "\n",
    "print(\"Her satırın ilk 2 elemanı:\")\n",
    "for satir_no, satir in enumerate(matris, 1):  # 1'den başla\n",
    "    print(f'{satir_no}. satır: {satir[:3]}') # her satirin 3 elemani"
   ]
  },
  {
   "cell_type": "code",
   "execution_count": 47,
   "id": "16b972bd",
   "metadata": {},
   "outputs": [
    {
     "data": {
      "text/plain": [
       "array([[ 0.,  2.,  4.],\n",
       "       [ 6.,  8., 10.],\n",
       "       [12., 14., 16.],\n",
       "       [18., 20., 22.]])"
      ]
     },
     "execution_count": 47,
     "metadata": {},
     "output_type": "execute_result"
    }
   ],
   "source": [
    "import numpy as np\n",
    "matris = np.zeros([4,3])\n",
    "sayac = 0\n",
    "\n",
    "for i in range(4):\n",
    "    for j in range(3):\n",
    "        matris[i,j] = sayac\n",
    "        sayac += 2\n",
    "matris  \n",
    "  "
   ]
  },
  {
   "cell_type": "markdown",
   "id": "e960cc4a",
   "metadata": {},
   "source": [
    "### Ebob ekok"
   ]
  },
  {
   "cell_type": "code",
   "execution_count": null,
   "id": "c8608ae3",
   "metadata": {},
   "outputs": [
    {
     "data": {
      "text/latex": [
       "$\\displaystyle \\frac{120}{80} \\quad = \\quad \\frac{120 \\div 40}{80 \\div 40} \\quad = \\quad \\frac{3}{2}$"
      ],
      "text/plain": [
       "<IPython.core.display.Math object>"
      ]
     },
     "metadata": {},
     "output_type": "display_data"
    }
   ],
   "source": [
    "import math\n",
    "from IPython.display import display, Math\n",
    "\n",
    "x = 120\n",
    "y = 80\n",
    "\n",
    "# Önce EBOB'u doğru hesapla\n",
    "ebob = math.gcd(x, y)\n",
    "\n",
    "# Doğru formül: x/y = (x/ebob) / (y/ebob)\n",
    "display(Math(f'\\\\frac{{{x}}}{{{y}}} \\\\quad = \\\\quad \\\\frac{{{x} \\\\div {ebob}}}{{{y} \\\\div {ebob}}} \\\\quad = \\\\quad \\\\frac{{{x//ebob}}}{{{y//ebob}}}'))#\\div =  ÷ klasik bolme islemi\n"
   ]
  },
  {
   "cell_type": "code",
   "execution_count": null,
   "id": "1ca8d27d",
   "metadata": {},
   "outputs": [],
   "source": []
  }
 ],
 "metadata": {
  "kernelspec": {
   "display_name": "basicPy",
   "language": "python",
   "name": "python3"
  },
  "language_info": {
   "codemirror_mode": {
    "name": "ipython",
    "version": 3
   },
   "file_extension": ".py",
   "mimetype": "text/x-python",
   "name": "python",
   "nbconvert_exporter": "python",
   "pygments_lexer": "ipython3",
   "version": "3.13.7"
  }
 },
 "nbformat": 4,
 "nbformat_minor": 5
}
