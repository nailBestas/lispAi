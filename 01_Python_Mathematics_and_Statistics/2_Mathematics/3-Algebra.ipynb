{
 "cells": [
  {
   "cell_type": "markdown",
   "id": "3df03381",
   "metadata": {},
   "source": [
    "# Algebra (cebir)"
   ]
  },
  {
   "cell_type": "code",
   "execution_count": 19,
   "id": "9eace7d1",
   "metadata": {},
   "outputs": [
    {
     "data": {
      "text/latex": [
       "$\\displaystyle 4 x + 14 = 9 \\\\  \\text{denkleminin cozum kumesi yani x yerine gelecek olan deger}  [-5/4]$"
      ],
      "text/plain": [
       "<IPython.core.display.Math object>"
      ]
     },
     "metadata": {},
     "output_type": "display_data"
    },
    {
     "data": {
      "text/plain": [
       "[-sqrt(5)*I/2, sqrt(5)*I/2]"
      ]
     },
     "execution_count": 19,
     "metadata": {},
     "output_type": "execute_result"
    }
   ],
   "source": [
    "from IPython.display import Math,display\n",
    "import sympy as sym\n",
    "x = sym.symbols('x')\n",
    "denk= sym.Eq(4*x + 14,9)# 2x+4 = 9 anlaminadir eq esiitir anlamindadir\n",
    "sol = sym.solve(denk,x)# solve ile denklemi cozduk ve x yerine 5/2 getirecek\n",
    "display(Math(f'{sym.latex(denk)} \\\\\\\\  \\\\text{{denkleminin cozum kumesi yani x yerine gelecek olan deger}}  {sol}'))\n",
    "sym.solve(4*x **2 +5 )"
   ]
  },
  {
   "cell_type": "code",
   "execution_count": null,
   "id": "660a5e88",
   "metadata": {},
   "outputs": [],
   "source": []
  }
 ],
 "metadata": {
  "kernelspec": {
   "display_name": "basicPy",
   "language": "python",
   "name": "python3"
  },
  "language_info": {
   "codemirror_mode": {
    "name": "ipython",
    "version": 3
   },
   "file_extension": ".py",
   "mimetype": "text/x-python",
   "name": "python",
   "nbconvert_exporter": "python",
   "pygments_lexer": "ipython3",
   "version": "3.13.7"
  }
 },
 "nbformat": 4,
 "nbformat_minor": 5
}
