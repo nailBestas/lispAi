{
 "cells": [
  {
   "cell_type": "markdown",
   "id": "3df03381",
   "metadata": {},
   "source": [
    "# Algebra (cebir)"
   ]
  },
  {
   "cell_type": "code",
   "execution_count": 19,
   "id": "9eace7d1",
   "metadata": {},
   "outputs": [
    {
     "data": {
      "text/latex": [
       "$\\displaystyle 4 x + 14 = 9 \\\\  \\text{denkleminin cozum kumesi yani x yerine gelecek olan deger}  [-5/4]$"
      ],
      "text/plain": [
       "<IPython.core.display.Math object>"
      ]
     },
     "metadata": {},
     "output_type": "display_data"
    },
    {
     "data": {
      "text/plain": [
       "[-sqrt(5)*I/2, sqrt(5)*I/2]"
      ]
     },
     "execution_count": 19,
     "metadata": {},
     "output_type": "execute_result"
    }
   ],
   "source": [
    "from IPython.display import Math,display\n",
    "import sympy as sym\n",
    "x = sym.symbols('x')\n",
    "denk= sym.Eq(4*x + 14,9)# 2x+4 = 9 anlaminadir eq esiitir anlamindadir\n",
    "sol = sym.solve(denk,x)# solve ile denklemi cozduk ve x yerine 5/2 getirecek\n",
    "display(Math(f'{sym.latex(denk)} \\\\\\\\  \\\\text{{denkleminin cozum kumesi yani x yerine gelecek olan deger}}  {sol}'))\n",
    "sym.solve(4*x **2 +5 )"
   ]
  },
  {
   "cell_type": "code",
   "execution_count": null,
   "id": "660a5e88",
   "metadata": {},
   "outputs": [
    {
     "data": {
      "text/latex": [
       "$\\displaystyle - 2 q + 2 + \\frac{3}{q}$"
      ],
      "text/plain": [
       "-2*q + 2 + 3/q"
      ]
     },
     "metadata": {},
     "output_type": "display_data"
    },
    {
     "data": {
      "text/latex": [
       "$\\displaystyle - 2 q + 2 + \\frac{3}{q}$"
      ],
      "text/plain": [
       "<IPython.core.display.Math object>"
      ]
     },
     "metadata": {},
     "output_type": "display_data"
    },
    {
     "data": {
      "text/latex": [
       "$\\displaystyle g = \\left[ \\frac{1}{2} - \\frac{\\sqrt{7}}{2}, \\  \\frac{1}{2} + \\frac{\\sqrt{7}}{2}\\right]$"
      ],
      "text/plain": [
       "<IPython.core.display.Math object>"
      ]
     },
     "metadata": {},
     "output_type": "display_data"
    }
   ],
   "source": [
    "#1 ornek\n",
    "q = sym.symbols('q')\n",
    "eq = 3*q + 4/q + 3 - 5*q - 1/q - 1\n",
    "display(eq)\n",
    "display(Math(sym.latex(eq)))\n",
    "display(Math(f'g = {sym.latex(sym.solve(eq,q))}')) # cozum kumesini verecek\n"
   ]
  },
  {
   "cell_type": "code",
   "execution_count": null,
   "id": "54569842",
   "metadata": {},
   "outputs": [
    {
     "data": {
      "text/latex": [
       "$\\displaystyle 3 q^{2} + 2 q - \\frac{5}{q} - \\frac{4}{q^{3}}$"
      ],
      "text/plain": [
       "3*q**2 + 2*q - 5/q - 4/q**3"
      ]
     },
     "metadata": {},
     "output_type": "display_data"
    },
    {
     "data": {
      "text/latex": [
       "$\\displaystyle 3 q^{2} + 2 q - \\frac{5}{q} - \\frac{4}{q^{3}}$"
      ],
      "text/plain": [
       "<IPython.core.display.Math object>"
      ]
     },
     "metadata": {},
     "output_type": "display_data"
    },
    {
     "data": {
      "text/latex": [
       "$\\displaystyle q= \\left[ \\operatorname{CRootOf} {\\left(3 x^{5} + 2 x^{4} - 5 x^{2} - 4, 0\\right)}, \\  \\operatorname{CRootOf} {\\left(3 x^{5} + 2 x^{4} - 5 x^{2} - 4, 1\\right)}, \\  \\operatorname{CRootOf} {\\left(3 x^{5} + 2 x^{4} - 5 x^{2} - 4, 2\\right)}, \\  \\operatorname{CRootOf} {\\left(3 x^{5} + 2 x^{4} - 5 x^{2} - 4, 3\\right)}, \\  \\operatorname{CRootOf} {\\left(3 x^{5} + 2 x^{4} - 5 x^{2} - 4, 4\\right)}\\right]$"
      ],
      "text/plain": [
       "<IPython.core.display.Math object>"
      ]
     },
     "metadata": {},
     "output_type": "display_data"
    },
    {
     "data": {
      "text/latex": [
       "$\\displaystyle q= \\frac{3 q^{5} + 2 q^{4} - 5 q^{2} - 4}{q^{3}}$"
      ],
      "text/plain": [
       "<IPython.core.display.Math object>"
      ]
     },
     "metadata": {},
     "output_type": "display_data"
    }
   ],
   "source": [
    "#2\n",
    "eq2 = 2*q + 3*q**2 - 5/q - 4/q**3\n",
    "display(eq2)\n",
    "display(Math(sym.latex(sym.simplify(eq2))))\n",
    "display(Math(f'q= {sym.latex(sym.solve(eq2,q))}'))#CRootOf, denklemin köklerini sembolik olarak temsil ediyor\n",
    "display(Math(f'q= {sym.latex(sym.cancel(eq2,q))}')) # cancel butunsel bir sadelestirme ornegi sunar bize\n",
    "\n"
   ]
  },
  {
   "cell_type": "code",
   "execution_count": null,
   "id": "83f543cd",
   "metadata": {},
   "outputs": [
    {
     "name": "stdout",
     "output_type": "stream",
     "text": [
      "Sembolik temsil:\n",
      "Kök 0: CRootOf(3*x**5 + 2*x**4 - 5*x**2 - 4, 0)\n",
      "Kök 1: CRootOf(3*x**5 + 2*x**4 - 5*x**2 - 4, 1)\n",
      "Kök 2: CRootOf(3*x**5 + 2*x**4 - 5*x**2 - 4, 2)\n",
      "Kök 3: CRootOf(3*x**5 + 2*x**4 - 5*x**2 - 4, 3)\n",
      "Kök 4: CRootOf(3*x**5 + 2*x**4 - 5*x**2 - 4, 4)\n",
      "\n",
      "Sayısal değerleri:\n",
      "Kök 0: 1.18716560776318\n",
      "Kök 1: -0.994074543510897 - 0.936886436711566*I\n",
      "Kök 2: -0.994074543510897 + 0.936886436711566*I\n",
      "Kök 3: 0.0671584062959738 - 0.772914692708164*I\n",
      "Kök 4: 0.0671584062959738 + 0.772914692708164*I\n"
     ]
    }
   ],
   "source": [
    "import sympy as sym\n",
    "'''\n",
    "for index, deger in enumerate(liste):enumerate kullanimi\n",
    "    # index → 0, 1, 2, ...\n",
    "    # deger → liste[0], liste[1], liste[2], ...\n",
    "\n",
    "    '''\n",
    "x = sym.symbols('x')\n",
    "denklem = 3*x**5 + 2*x**4 - 5*x**2 - 4\n",
    "\n",
    "# Kökleri bul\n",
    "cozumler = sym.solve(denklem, x)\n",
    "\n",
    "print(\"Sembolik temsil:\")\n",
    "for i, cozum in enumerate(cozumler):\n",
    "    print(f\"Kök {i}: {cozum}\")\n",
    "\n",
    "print(\"\\nSayısal değerleri:\")\n",
    "for i, cozum in enumerate(cozumler):\n",
    "    sayisal_deger = cozum.evalf()  # Sayısal değere çevir\n",
    "    print(f\"Kök {i}: {sayisal_deger}\")"
   ]
  },
  {
   "cell_type": "code",
   "execution_count": 39,
   "id": "04374aeb",
   "metadata": {},
   "outputs": [
    {
     "data": {
      "text/latex": [
       "$\\displaystyle \\left(x + 6\\right) \\left(4 x + 20\\right) = 4 x^{2} + 44 x + 120$"
      ],
      "text/plain": [
       "<IPython.core.display.Math object>"
      ]
     },
     "metadata": {},
     "output_type": "display_data"
    }
   ],
   "source": [
    "# Expanding terms (islem genisletme)\n",
    "#dagilma ozelligini a(a+b) = a^2+ab seklinde\n",
    "\n",
    "x = sym.symbols('x')\n",
    "term1 = 4*x + 20\n",
    "term2 = x + 6\n",
    "term3 = x\n",
    "display(Math(f'{sym.latex(term1*term2)} = {sym.latex(sym.expand(term1*term2))}'))"
   ]
  },
  {
   "cell_type": "code",
   "execution_count": null,
   "id": "975d1375",
   "metadata": {},
   "outputs": [
    {
     "name": "stdout",
     "output_type": "stream",
     "text": [
      "her x= 0 ve y=0, f(x,y)= 24\n",
      "her x= 0 ve y=1, f(x,y)= 18\n",
      "her x= 0 ve y=2, f(x,y)= 12\n",
      "her x= 0 ve y=3, f(x,y)= 6\n",
      "her x= 1 ve y=0, f(x,y)= 28\n",
      "her x= 1 ve y=1, f(x,y)= 21\n",
      "her x= 1 ve y=2, f(x,y)= 14\n",
      "her x= 1 ve y=3, f(x,y)= 7\n",
      "her x= 2 ve y=0, f(x,y)= 32\n",
      "her x= 2 ve y=1, f(x,y)= 24\n",
      "her x= 2 ve y=2, f(x,y)= 16\n",
      "her x= 2 ve y=3, f(x,y)= 8\n",
      "her x= 3 ve y=0, f(x,y)= 36\n",
      "her x= 3 ve y=1, f(x,y)= 27\n",
      "her x= 3 ve y=2, f(x,y)= 18\n",
      "her x= 3 ve y=3, f(x,y)= 9\n"
     ]
    }
   ],
   "source": [
    "from sympy.abc import x,y \n",
    "Fxy = (6+x)*(4-y)\n",
    "for ix in range(0,4):\n",
    "    for iy in range(0,4):\n",
    "        print(f'her x= {ix} ve y={iy}, f(x,y)= {Fxy.subs({x:ix,y:iy})}')# subs denklemde yerine koymak istedgimiz degiskenin yerine sayi koymak icin\n",
    "#Fxy.subs({x:1,y:0})# sozluk tanimi yaptik subs degisken yerine sayi koy isine yariyor\n"
   ]
  },
  {
   "cell_type": "markdown",
   "id": "c5778924",
   "metadata": {},
   "source": [
    "## Matrisler"
   ]
  },
  {
   "cell_type": "code",
   "execution_count": 1,
   "id": "6db97029",
   "metadata": {},
   "outputs": [],
   "source": [
    "from IPython.display import display,Math\n",
    "import numpy as np\n",
    "import sympy as sym\n"
   ]
  },
  {
   "cell_type": "code",
   "execution_count": 10,
   "id": "10214004",
   "metadata": {},
   "outputs": [
    {
     "data": {
      "text/latex": [
       "$\\displaystyle \\left[\\begin{matrix}1 & 2\\\\3 & 4\\end{matrix}\\right]$"
      ],
      "text/plain": [
       "<IPython.core.display.Math object>"
      ]
     },
     "metadata": {},
     "output_type": "display_data"
    }
   ],
   "source": [
    "N = np.array([[1,2],[3,4]])\n",
    "type(N)\n",
    "display(Math(sym.latex(sym.simplify(N))))"
   ]
  },
  {
   "cell_type": "code",
   "execution_count": 33,
   "id": "3ec8eb28",
   "metadata": {},
   "outputs": [
    {
     "name": "stdout",
     "output_type": "stream",
     "text": [
      "Manuel atamadan sonra:\n",
      "[[0. 0. 0. 0. 0. 4.]\n",
      " [0. 0. 0. 7. 0. 0.]\n",
      " [0. 0. 0. 0. 0. 0.]\n",
      " [0. 0. 0. 0. 0. 0.]\n",
      " [0. 0. 0. 0. 0. 0.]]\n",
      "\n",
      "Matematiksel desen uygulandıktan sonra:\n",
      "[[ 1. -1.  1. -1.  1. -1.]\n",
      " [-1.  1. -1.  1. -1.  1.]\n",
      " [ 1. -1.  1. -1.  1. -1.]\n",
      " [-1.  1. -1.  1. -1.  1.]\n",
      " [ 1. -1.  1. -1.  1. -1.]]\n"
     ]
    }
   ],
   "source": [
    "import numpy as np\n",
    "\n",
    "# 5x6'lık matris oluştur\n",
    "create_matrix = np.zeros([5, 6])\n",
    "\n",
    "# Manuel değer atamaları\n",
    "create_matrix[0, 5] = 4  # 1. satır, 6. sütun\n",
    "create_matrix[1, 3] = 7  # 2. satır, 4. sütun\n",
    "\n",
    "print(\"Manuel atamadan sonra:\")\n",
    "print(create_matrix)\n",
    "\n",
    "# Matematiksel desen oluştur\n",
    "for satir in range(5):      # 0'dan 4'e kadar\n",
    "    for sutun in range(6):  # 0'dan 5'e kadar\n",
    "        # (-1)^(satir+sutun) → +1 veya -1\n",
    "        create_matrix[satir, sutun] = (-1) ** (satir + sutun)\n",
    "\n",
    "print(\"\\nMatematiksel desen uygulandıktan sonra:\")\n",
    "print(create_matrix)"
   ]
  },
  {
   "cell_type": "code",
   "execution_count": 40,
   "id": "1ff2c5c4",
   "metadata": {},
   "outputs": [
    {
     "data": {
      "text/latex": [
       "$\\displaystyle \\left[\\begin{matrix}18.0 & 24.0 & 30.0 & 36.0\\\\15.0 & 20.0 & 25.0 & 30.0\\\\12.0 & 16.0 & 20.0 & 24.0\\\\9.0 & 12.0 & 15.0 & 18.0\\end{matrix}\\right]$"
      ],
      "text/plain": [
       "<IPython.core.display.Math object>"
      ]
     },
     "metadata": {},
     "output_type": "display_data"
    }
   ],
   "source": [
    "x,y = sym.symbols('x,y')\n",
    "fxy = (6-x)*(3+y)\n",
    "xsets = range(0,4)\n",
    "ysets = range(0,4)\n",
    "xymatris = np.zeros([len(xsets),len(ysets)])\n",
    "\n",
    "for i in xsets:\n",
    "    for j in ysets:\n",
    "        xymatris[i,j] = fxy.subs({x:i,y:j})\n",
    "display(Math(sym.latex(sym.simplify(xymatris))))# gercek bir matris goruntusu elde edelim"
   ]
  },
  {
   "cell_type": "code",
   "execution_count": null,
   "id": "1fe7cfdd",
   "metadata": {},
   "outputs": [
    {
     "data": {
      "text/latex": [
       "$\\displaystyle \\left[\\begin{matrix}1 & 2 & 3 & 4 & 5 & 6 & 7 & 8 & 9 & 10\\\\2 & 4 & 6 & 8 & 10 & 12 & 14 & 16 & 18 & 20\\\\3 & 6 & 9 & 12 & 15 & 18 & 21 & 24 & 27 & 30\\\\4 & 8 & 12 & 16 & 20 & 24 & 28 & 32 & 36 & 40\\\\5 & 10 & 15 & 20 & 25 & 30 & 35 & 40 & 45 & 50\\\\6 & 12 & 18 & 24 & 30 & 36 & 42 & 48 & 54 & 60\\\\7 & 14 & 21 & 28 & 35 & 42 & 49 & 56 & 63 & 70\\\\8 & 16 & 24 & 32 & 40 & 48 & 56 & 64 & 72 & 80\\\\9 & 18 & 27 & 36 & 45 & 54 & 63 & 72 & 81 & 90\\\\10 & 20 & 30 & 40 & 50 & 60 & 70 & 80 & 90 & 100\\end{matrix}\\right]$"
      ],
      "text/plain": [
       "<IPython.core.display.Math object>"
      ]
     },
     "metadata": {},
     "output_type": "display_data"
    }
   ],
   "source": [
    "x,y = sym.symbols('x,y')\n",
    "xsets = range(1,11)\n",
    "ysets = range(1,11)\n",
    "xymatris = np.zeros([len(xsets),len(ysets)],dtype=int)# xsets satirlari ysets sutunlari\n",
    "for i in xsets:\n",
    "    for j in ysets:\n",
    "        xymatris[i-1,j-1] = i * j\n",
    "\n",
    "display(Math(sym.latex(sym.simplify(xymatris))))"
   ]
  },
  {
   "cell_type": "code",
   "execution_count": 6,
   "id": "3878bec4",
   "metadata": {},
   "outputs": [
    {
     "data": {
      "text/latex": [
       "$\\displaystyle x \\left(4 - 6 x\\right) + 3 x \\quad \\Rightarrow \\quad - 6 x^{2} + 7 x$"
      ],
      "text/plain": [
       "<IPython.core.display.Math object>"
      ]
     },
     "metadata": {},
     "output_type": "display_data"
    },
    {
     "data": {
      "text/latex": [
       "$\\displaystyle - x \\left(\\frac{2}{x} + \\frac{4}{x^{2}}\\right) + \\frac{x + 4}{4 x} \\quad \\Rightarrow \\quad - \\frac{7}{4} - \\frac{3}{x}$"
      ],
      "text/plain": [
       "<IPython.core.display.Math object>"
      ]
     },
     "metadata": {},
     "output_type": "display_data"
    },
    {
     "data": {
      "text/latex": [
       "$\\displaystyle \\frac{\\left(x - 3\\right) \\left(x + 3\\right)}{9} \\quad \\Rightarrow \\quad \\frac{x^{2}}{9} - 1$"
      ],
      "text/plain": [
       "<IPython.core.display.Math object>"
      ]
     },
     "metadata": {},
     "output_type": "display_data"
    }
   ],
   "source": [
    "# use sympy to expand and simplify these expressions\n",
    "import sympy as sym\n",
    "from IPython.display import Math,display\n",
    "\n",
    "x = sym.symbols('x')\n",
    "\n",
    "e1 = 2*x + x*(4-6*x) + x\n",
    "e2 = -x * (2/x + 4/(x**2)) + (4+x)/(4*x)\n",
    "e3 = (x + 3)*(x-3)*x*(1/(9*x))\n",
    "\n",
    "# make a list of the expressions\n",
    "exprs = [e1,e2,e3]\n",
    "\n",
    "for i, expr in enumerate(exprs):\n",
    "    display(Math(f'{sym.latex(expr)} \\\\quad \\\\Rightarrow \\\\quad {sym.latex(sym.expand(expr))}'))\n",
    "   "
   ]
  },
  {
   "cell_type": "code",
   "execution_count": 7,
   "id": "6cfce81d",
   "metadata": {},
   "outputs": [
    {
     "data": {
      "text/latex": [
       "$\\displaystyle \\text{İfade 1:}$"
      ],
      "text/plain": [
       "<IPython.core.display.Math object>"
      ]
     },
     "metadata": {},
     "output_type": "display_data"
    },
    {
     "data": {
      "text/latex": [
       "$\\displaystyle x \\left(4 - 6 x\\right) + 3 x$"
      ],
      "text/plain": [
       "<IPython.core.display.Math object>"
      ]
     },
     "metadata": {},
     "output_type": "display_data"
    },
    {
     "data": {
      "text/latex": [
       "$\\displaystyle \\text{Genişletilmiş: }- 6 x^{2} + 7 x$"
      ],
      "text/plain": [
       "<IPython.core.display.Math object>"
      ]
     },
     "metadata": {},
     "output_type": "display_data"
    },
    {
     "data": {
      "text/latex": [
       "$\\displaystyle \\text{Basitleştirilmiş: }x \\left(7 - 6 x\\right)$"
      ],
      "text/plain": [
       "<IPython.core.display.Math object>"
      ]
     },
     "metadata": {},
     "output_type": "display_data"
    },
    {
     "name": "stdout",
     "output_type": "stream",
     "text": [
      "\\n==================================================\\n\n"
     ]
    },
    {
     "data": {
      "text/latex": [
       "$\\displaystyle \\text{İfade 2:}$"
      ],
      "text/plain": [
       "<IPython.core.display.Math object>"
      ]
     },
     "metadata": {},
     "output_type": "display_data"
    },
    {
     "data": {
      "text/latex": [
       "$\\displaystyle - x \\left(\\frac{2}{x} + \\frac{4}{x^{2}}\\right) + \\frac{x + 4}{4 x}$"
      ],
      "text/plain": [
       "<IPython.core.display.Math object>"
      ]
     },
     "metadata": {},
     "output_type": "display_data"
    },
    {
     "data": {
      "text/latex": [
       "$\\displaystyle \\text{Genişletilmiş: }- \\frac{7}{4} - \\frac{3}{x}$"
      ],
      "text/plain": [
       "<IPython.core.display.Math object>"
      ]
     },
     "metadata": {},
     "output_type": "display_data"
    },
    {
     "data": {
      "text/latex": [
       "$\\displaystyle \\text{Basitleştirilmiş: }- \\frac{7}{4} - \\frac{3}{x}$"
      ],
      "text/plain": [
       "<IPython.core.display.Math object>"
      ]
     },
     "metadata": {},
     "output_type": "display_data"
    },
    {
     "name": "stdout",
     "output_type": "stream",
     "text": [
      "\\n==================================================\\n\n"
     ]
    },
    {
     "data": {
      "text/latex": [
       "$\\displaystyle \\text{İfade 3:}$"
      ],
      "text/plain": [
       "<IPython.core.display.Math object>"
      ]
     },
     "metadata": {},
     "output_type": "display_data"
    },
    {
     "data": {
      "text/latex": [
       "$\\displaystyle \\frac{\\left(x - 3\\right) \\left(x + 3\\right)}{9}$"
      ],
      "text/plain": [
       "<IPython.core.display.Math object>"
      ]
     },
     "metadata": {},
     "output_type": "display_data"
    },
    {
     "data": {
      "text/latex": [
       "$\\displaystyle \\text{Genişletilmiş: }\\frac{x^{2}}{9} - 1$"
      ],
      "text/plain": [
       "<IPython.core.display.Math object>"
      ]
     },
     "metadata": {},
     "output_type": "display_data"
    },
    {
     "data": {
      "text/latex": [
       "$\\displaystyle \\text{Basitleştirilmiş: }\\frac{x^{2}}{9} - 1$"
      ],
      "text/plain": [
       "<IPython.core.display.Math object>"
      ]
     },
     "metadata": {},
     "output_type": "display_data"
    },
    {
     "name": "stdout",
     "output_type": "stream",
     "text": [
      "\\n==================================================\\n\n"
     ]
    }
   ],
   "source": [
    "import sympy as sym\n",
    "from IPython.display import Math, display\n",
    "\n",
    "x = sym.symbols('x')\n",
    "\n",
    "e1 = 2*x + x*(4-6*x) + x\n",
    "e2 = -x * (2/x + 4/(x**2)) + (4+x)/(4*x)\n",
    "e3 = (x + 3)*(x-3)*x*(1/(9*x))\n",
    "\n",
    "exprs = [e1, e2, e3]\n",
    "\n",
    "for i, expr in enumerate(exprs, 1):\n",
    "    genisletilmis = sym.expand(expr)\n",
    "    basitlestirilmis = sym.simplify(expr)\n",
    "    \n",
    "    display(Math(f'\\\\text{{İfade {i}:}}'))\n",
    "    display(Math(f'{sym.latex(expr)}'))\n",
    "    display(Math(f'\\\\text{{Genişletilmiş: }}{sym.latex(genisletilmis)}'))\n",
    "    display(Math(f'\\\\text{{Basitleştirilmiş: }}{sym.latex(basitlestirilmis)}'))\n",
    "    print(\"\\\\n\" + \"=\"*50 + \"\\\\n\")"
   ]
  },
  {
   "cell_type": "code",
   "execution_count": 23,
   "id": "ef748874",
   "metadata": {},
   "outputs": [
    {
     "name": "stdout",
     "output_type": "stream",
     "text": [
      "Orjinal liste: [0, 1, 2, 3, 4, 5, 6, 7, 8, 9]\n",
      "liste[2:5]: [2, 3, 4]\n",
      "liste[:4]: [0, 1, 2, 3]\n",
      "liste[6:]: [6, 7, 8, 9]\n",
      "liste[::2]: [0, 2, 4, 6, 8]\n",
      "liste[::-1]: [9, 8, 7, 6, 5, 4, 3, 2, 1, 0]\n",
      "İlk 5: [10, 20, 30, 40, 50]\n",
      "Son 3: [80, 90, 100]\n",
      "3-7: [40, 50, 60, 70]\n",
      "2şer atla: [10, 30, 50, 70, 90]\n",
      "İlk 2 meyve: ['elma', 'armut']\n",
      "Son 2 meyve: ['portakal', 'kiraz']\n",
      "Ortadaki 3: ['armut', 'çilek', 'muz']\n",
      "Ters sıra: ['kiraz', 'portakal', 'muz', 'çilek', 'armut', 'elma']\n",
      "2şer atla: [0, 2, 4, 6, 8]\n",
      "3er atla: [0, 3, 6, 9]\n",
      "Ters 2şer: [9, 7, 5, 3, 1]\n",
      "Belirli aralıkta 2şer: [1, 3, 5, 7]\n",
      "Her satırın ilk 2 elemanı:\n",
      "1. satır: [1, 2, 3]\n",
      "2. satır: [5, 6, 7]\n",
      "3. satır: [9, 10, 11]\n",
      "4. satır: [13, 14, 15]\n"
     ]
    }
   ],
   "source": [
    "#liste[baslangic:bitis:adim]\n",
    "'''\n",
    "başlangıç: dahil (varsayılan: 0)\n",
    "\n",
    "bitiş: dahil DEĞİL (varsayılan: son)\n",
    "\n",
    "adım: atlama sayısı (varsayılan: 1)'''\n",
    "\n",
    "liste = [0, 1, 2, 3, 4, 5, 6, 7, 8, 9]\n",
    "\n",
    "print(\"Orjinal liste:\", liste)\n",
    "print(\"liste[2:5]:\", liste[2:5])      # [2, 3, 4]\n",
    "print(\"liste[:4]:\", liste[:4])        # [0, 1, 2, 3] \n",
    "print(\"liste[6:]:\", liste[6:])        # [6, 7, 8, 9]\n",
    "print(\"liste[::2]:\", liste[::2])      # [0, 2, 4, 6, 8] - 2şer atla\n",
    "print(\"liste[::-1]:\", liste[::-1])    # [9, 8, 7, 6, 5, 4, 3, 2, 1, 0] - ters çevir\n",
    "\n",
    "\n",
    "\n",
    "# 2 Ornek\n",
    "sayilar = [10, 20, 30, 40, 50, 60, 70, 80, 90, 100]\n",
    "\n",
    "# İlk 5 eleman\n",
    "print(\"İlk 5:\", sayilar[:5])          # [10, 20, 30, 40, 50]\n",
    "\n",
    "# Son 3 eleman  \n",
    "print(\"Son 3:\", sayilar[-3:])         # [80, 90, 100]\n",
    "\n",
    "# 3'ten 7'ye kadar (7 dahil değil)\n",
    "print(\"3-7:\", sayilar[3:7])           # [40, 50, 60, 70]\n",
    "\n",
    "# 2şer atlayarak\n",
    "print(\"2şer atla:\", sayilar[::2])     # [10, 30, 50, 70, 90]\n",
    "\n",
    "\n",
    "\n",
    "# 3 string listesi ile verelim\n",
    "meyveler = [\"elma\", \"armut\", \"çilek\", \"muz\", \"portakal\", \"kiraz\"]\n",
    "\n",
    "print(\"İlk 2 meyve:\", meyveler[:2])        # ['elma', 'armut']\n",
    "print(\"Son 2 meyve:\", meyveler[-2:])       # ['portakal', 'kiraz']\n",
    "print(\"Ortadaki 3:\", meyveler[1:4])        # ['armut', 'çilek', 'muz']\n",
    "print(\"Ters sıra:\", meyveler[::-1])        # ['kiraz', 'portakal', 'muz', 'çilek', 'armut', 'elma']\n",
    "\n",
    "# 4  ADIM (STEP) KULLANIMI:\n",
    "sayilar = [0, 1, 2, 3, 4, 5, 6, 7, 8, 9]\n",
    "print(\"2şer atla:\", sayilar[::2])         # [0, 2, 4, 6, 8]\n",
    "print(\"3er atla:\", sayilar[::3])          # [0, 3, 6, 9]\n",
    "print(\"Ters 2şer:\", sayilar[::-2])        # [9, 7, 5, 3, 1]\n",
    "print(\"Belirli aralıkta 2şer:\", sayilar[1:8:2])  # [1, 3, 5, 7]\n",
    "\n",
    "\n",
    "# 5 Matris Islemi olarak \n",
    "matris = [\n",
    "    [1, 2, 3, 4],\n",
    "    [5, 6, 7, 8], \n",
    "    [9, 10, 11, 12],\n",
    "    [13, 14, 15, 16]\n",
    "]\n",
    "\n",
    "print(\"Her satırın ilk 2 elemanı:\")\n",
    "for satir_no, satir in enumerate(matris, 1):  # 1'den başla\n",
    "    print(f'{satir_no}. satır: {satir[:3]}') # her satirin 3 elemani"
   ]
  },
  {
   "cell_type": "code",
   "execution_count": 47,
   "id": "16b972bd",
   "metadata": {},
   "outputs": [
    {
     "data": {
      "text/plain": [
       "array([[ 0.,  2.,  4.],\n",
       "       [ 6.,  8., 10.],\n",
       "       [12., 14., 16.],\n",
       "       [18., 20., 22.]])"
      ]
     },
     "execution_count": 47,
     "metadata": {},
     "output_type": "execute_result"
    }
   ],
   "source": [
    "import numpy as np\n",
    "matris = np.zeros([4,3])\n",
    "sayac = 0\n",
    "\n",
    "for i in range(4):\n",
    "    for j in range(3):\n",
    "        matris[i,j] = sayac\n",
    "        sayac += 2\n",
    "matris  \n",
    "  "
   ]
  },
  {
   "cell_type": "markdown",
   "id": "e960cc4a",
   "metadata": {},
   "source": [
    "### Ebob ekok"
   ]
  },
  {
   "cell_type": "code",
   "execution_count": null,
   "id": "c8608ae3",
   "metadata": {},
   "outputs": [
    {
     "data": {
      "text/latex": [
       "$\\displaystyle \\frac{120}{80} \\quad = \\quad \\frac{120 \\div 40}{80 \\div 40} \\quad = \\quad \\frac{3}{2}$"
      ],
      "text/plain": [
       "<IPython.core.display.Math object>"
      ]
     },
     "metadata": {},
     "output_type": "display_data"
    }
   ],
   "source": [
    "import math\n",
    "from IPython.display import display, Math\n",
    "\n",
    "x = 120\n",
    "y = 80\n",
    "\n",
    "# Önce EBOB'u doğru hesapla\n",
    "ebob = math.gcd(x, y)\n",
    "\n",
    "# Doğru formül: x/y = (x/ebob) / (y/ebob)\n",
    "display(Math(f'\\\\frac{{{x}}}{{{y}}} \\\\quad = \\\\quad \\\\frac{{{x} \\\\div {ebob}}}{{{y} \\\\div {ebob}}} \\\\quad = \\\\quad \\\\frac{{{x//ebob}}}{{{y//ebob}}}'))#\\div =  ÷ klasik bolme islemi\n"
   ]
  },
  {
   "cell_type": "markdown",
   "id": "e77be774",
   "metadata": {},
   "source": [
    "### Pythonda Sozluklere genel bakis  ve matematiksel cozumler\n"
   ]
  },
  {
   "cell_type": "code",
   "execution_count": 23,
   "id": "5afd5009",
   "metadata": {},
   "outputs": [
    {
     "name": "stdout",
     "output_type": "stream",
     "text": [
      "90\n",
      "Ali: [85, 90, 78] (Ort: 84.3)\n",
      "Ayşe: [92, 88, 95] (Ort: 91.7)\n",
      "Mehmet: [76, 82, 80] (Ort: 79.3)\n"
     ]
    }
   ],
   "source": [
    "# 1 liste olarak \n",
    "# Öğrenci notları\n",
    "ogrenci_notlari = {\n",
    "    'Ali': [85, 90, 78],\n",
    "    'Ayşe': [92, 88, 95],\n",
    "    'Mehmet': [76, 82, 80]\n",
    "}\n",
    "\n",
    "# Ali'nin 2. sınav notu\n",
    "print(ogrenci_notlari['Ali'][1])  # 90\n",
    "\n",
    "# Tüm öğrenci notları\n",
    "for ogrenci, notlar in ogrenci_notlari.items():\n",
    "    ortalama = sum(notlar) / len(notlar)\n",
    "    print(f\"{ogrenci}: {notlar} (Ort: {ortalama:.1f})\")"
   ]
  },
  {
   "cell_type": "code",
   "execution_count": 24,
   "id": "094d3379",
   "metadata": {},
   "outputs": [
    {
     "name": "stdout",
     "output_type": "stream",
     "text": [
      "40\n"
     ]
    }
   ],
   "source": [
    "# 2 Tuple olarak \n",
    "# Koordinatlar\n",
    "noktalar = {\n",
    "    'A': (10, 20),\n",
    "    'B': (30, 40),\n",
    "    'C': (50, 60)\n",
    "}\n",
    "\n",
    "# B noktasının y koordinatı\n",
    "print(noktalar['B'][1])  # 40"
   ]
  },
  {
   "cell_type": "code",
   "execution_count": 25,
   "id": "0f2ed413",
   "metadata": {},
   "outputs": [
    {
     "name": "stdout",
     "output_type": "stream",
     "text": [
      "Fizik\n",
      "90\n"
     ]
    }
   ],
   "source": [
    "# 3 Ic ice sozluk \n",
    "# Öğrenci detaylı bilgileri\n",
    "ogrenciler = {\n",
    "    'Ali': {\n",
    "        'yas': 20,\n",
    "        'bolum': 'Matematik',\n",
    "        'notlar': [85, 90, 78]\n",
    "    },\n",
    "    'Ayşe': {\n",
    "        'yas': 21, \n",
    "        'bolum': 'Fizik',\n",
    "        'notlar': [92, 88, 95]\n",
    "    }\n",
    "}\n",
    "\n",
    "# Ayşe'nin bölümü\n",
    "print(ogrenciler['Ayşe']['bolum'])  # 'Fizik'\n",
    "\n",
    "# Ali'nin 2. notu\n",
    "print(ogrenciler['Ali']['notlar'][1])  # 90"
   ]
  },
  {
   "cell_type": "code",
   "execution_count": 26,
   "id": "c5afc270",
   "metadata": {},
   "outputs": [
    {
     "name": "stdout",
     "output_type": "stream",
     "text": [
      "İstanbul\n",
      "85\n",
      "Mehmet\n"
     ]
    }
   ],
   "source": [
    "# 4 karisik degerler \n",
    "# Her şey karışık!\n",
    "karma_veri = {\n",
    "    'isim': 'Ali',\n",
    "    'yas': 20,\n",
    "    'notlar': [85, 90, 78],           # Liste\n",
    "    'adres': {'sehir': 'İstanbul', 'posta': 34000},  # Sözlük\n",
    "    'arkadaslar': ('Ayşe', 'Mehmet'), # Tuple\n",
    "    'aktif': True                     # Boolean\n",
    "}\n",
    "\n",
    "print(karma_veri['adres']['sehir'])  # 'İstanbul'\n",
    "print(karma_veri['notlar'][0])       # 85\n",
    "print(karma_veri['arkadaslar'][1])   # 'Mehmet'"
   ]
  },
  {
   "cell_type": "code",
   "execution_count": 27,
   "id": "ed66691b",
   "metadata": {},
   "outputs": [
    {
     "name": "stdout",
     "output_type": "stream",
     "text": [
      "elma: 3 kg × 5TL = 15TL\n",
      "ekmek: 2 adet × 4TL = 8TL\n",
      "süt: 1 litre × 12TL = 12TL\n",
      "Toplam: 35TL\n"
     ]
    }
   ],
   "source": [
    "# 5 Ornek \n",
    "sepet = {\n",
    "    'elma': {'miktar': 3, 'fiyat': 5, 'birim': 'kg'},\n",
    "    'ekmek': {'miktar': 2, 'fiyat': 4, 'birim': 'adet'},\n",
    "    'süt': {'miktar': 1, 'fiyat': 12, 'birim': 'litre'}\n",
    "}\n",
    "\n",
    "# Toplam tutar\n",
    "toplam = 0\n",
    "for urun, detay in sepet.items():\n",
    "    tutar = detay['miktar'] * detay['fiyat']\n",
    "    print(f\"{urun}: {detay['miktar']} {detay['birim']} × {detay['fiyat']}TL = {tutar}TL\")\n",
    "    toplam += tutar\n",
    "\n",
    "print(f\"Toplam: {toplam}TL\")"
   ]
  },
  {
   "cell_type": "code",
   "execution_count": 16,
   "id": "05b5914b",
   "metadata": {},
   "outputs": [
    {
     "name": "stdout",
     "output_type": "stream",
     "text": [
      "dict_keys(['sayilar', 'sebzeler'])\n",
      "dict_values([[1, 2, 3, 4], ['domates', 'lahana']])\n",
      "dict_keys(['nail', 'yas'])\n",
      "dict_values([1, 40])\n"
     ]
    },
    {
     "data": {
      "text/plain": [
       "1"
      ]
     },
     "execution_count": 16,
     "metadata": {},
     "output_type": "execute_result"
    }
   ],
   "source": [
    "sozluk = {'nail':1, 'yas':40}\n",
    "D = dict(sayilar=[1,2,3,4],sebzeler=['domates','lahana'])\n",
    "print(D.keys())\n",
    "print(D.values())\n",
    "print(sozluk.keys())\n",
    "print(sozluk.values())\n",
    "D['sayilar']\n",
    "sozluk['nail']\n",
    "sozluk.get('nail')"
   ]
  },
  {
   "cell_type": "code",
   "execution_count": 21,
   "id": "238f4380",
   "metadata": {},
   "outputs": [
    {
     "name": "stdout",
     "output_type": "stream",
     "text": [
      "\n",
      "--- x_denklemleri ---\n"
     ]
    },
    {
     "data": {
      "text/latex": [
       "$\\displaystyle 2 x - 4 = 0 \\quad \\Rightarrow \\quad x = \\left[ 2\\right]$"
      ],
      "text/plain": [
       "<IPython.core.display.Math object>"
      ]
     },
     "metadata": {},
     "output_type": "display_data"
    },
    {
     "data": {
      "text/latex": [
       "$\\displaystyle x + 1 = 0 \\quad \\Rightarrow \\quad x = \\left[ -1\\right]$"
      ],
      "text/plain": [
       "<IPython.core.display.Math object>"
      ]
     },
     "metadata": {},
     "output_type": "display_data"
    },
    {
     "name": "stdout",
     "output_type": "stream",
     "text": [
      "\n",
      "--- y_denklemleri ---\n"
     ]
    },
    {
     "data": {
      "text/latex": [
       "$\\displaystyle y - 5 = 0 \\quad \\Rightarrow \\quad y = \\left[ 5\\right]$"
      ],
      "text/plain": [
       "<IPython.core.display.Math object>"
      ]
     },
     "metadata": {},
     "output_type": "display_data"
    },
    {
     "data": {
      "text/latex": [
       "$\\displaystyle 2 y + 3 = 0 \\quad \\Rightarrow \\quad y = \\left[ - \\frac{3}{2}\\right]$"
      ],
      "text/plain": [
       "<IPython.core.display.Math object>"
      ]
     },
     "metadata": {},
     "output_type": "display_data"
    }
   ],
   "source": [
    "import sympy as sym\n",
    "from IPython.display import display, Math\n",
    "\n",
    "x, y = sym.symbols('x y')\n",
    "\n",
    "# DENKLEM GRUPLARI\n",
    "matematik_odevleri = {\n",
    "    'x_denklemleri': [2*x - 4, x + 1],      # x'li denklemler\n",
    "    'y_denklemleri': [y - 5, 2*y + 3]       # y'li denklemler\n",
    "}\n",
    "\n",
    "# Her grup için\n",
    "for grup_adi, denklem_listesi in matematik_odevleri.items():\n",
    "    print(f'\\n--- {grup_adi} ---')\n",
    "    \n",
    "    # Gruptaki her denklem için\n",
    "    for denklem in denklem_listesi:\n",
    "        cozum = sym.solve(denklem)  # Denklemi çöz\n",
    "        \n",
    "        # Ekrana güzel yazdır\n",
    "        display(Math(f'{sym.latex(denklem)} = 0 \\\\quad \\\\Rightarrow \\\\quad {grup_adi[0]} = {sym.latex(cozum)}'))"
   ]
  },
  {
   "cell_type": "code",
   "execution_count": null,
   "id": "8c7d80b9",
   "metadata": {},
   "outputs": [
    {
     "name": "stdout",
     "output_type": "stream",
     "text": [
      "Sözlük içeriği:\n",
      "🔑 ANAHTAR: 'x_denklemleri'\n",
      "📦 DEĞER: [2*x - 4, x + 1]\n",
      "---\n",
      "🔑 ANAHTAR: 'y_denklemleri'\n",
      "📦 DEĞER: [y - 5, 2*y + 3]\n",
      "---\n"
     ]
    }
   ],
   "source": [
    "x, y = sym.symbols('x y')\n",
    "\n",
    "matematik_odevleri = {\n",
    "    'x_denklemleri': [2*x - 4, x + 1],\n",
    "    'y_denklemleri': [y - 5, 2*y + 3]\n",
    "}\n",
    "\n",
    "print(\"Sözlük içeriği:\")\n",
    "for anahtar, deger in matematik_odevleri.items():# tuple unpacking ozelligi\n",
    "    print(f\"🔑 ANAHTAR: '{anahtar}'\")\n",
    "    print(f\"📦 DEĞER: {deger}\")\n",
    "    print(\"---\")"
   ]
  },
  {
   "cell_type": "code",
   "execution_count": 28,
   "id": "7b0ae6cf",
   "metadata": {},
   "outputs": [
    {
     "name": "stdout",
     "output_type": "stream",
     "text": [
      "lineer_denklemler: 3 denklem\n",
      "kuadratik_denklemler: 2 denklem\n",
      "trigonometrik_denklemler: 2 denklem\n"
     ]
    }
   ],
   "source": [
    "import sympy as sym\n",
    "\n",
    "x, y = sym.symbols('x y')\n",
    "\n",
    "# Denklem grupları - değerler LİSTE\n",
    "matematik_odevleri = {\n",
    "    'lineer_denklemler': [2*x - 4, x + 3, 3*x - 9],\n",
    "    'kuadratik_denklemler': [x**2 - 9, x**2 + 4*x + 4],\n",
    "    'trigonometrik_denklemler': [sym.sin(y), sym.cos(y) - 1]\n",
    "}\n",
    "\n",
    "# Her gruptaki denklem sayısı\n",
    "for grup, denklemler in matematik_odevleri.items():\n",
    "    print(f\"{grup}: {len(denklemler)} denklem\")"
   ]
  },
  {
   "cell_type": "markdown",
   "id": "5cdc6e5c",
   "metadata": {},
   "source": [
    "## Faktoriyel ve Asal sayi carpanlarini ogrenme"
   ]
  },
  {
   "cell_type": "markdown",
   "id": "dd3f5380",
   "metadata": {},
   "source": [
    "#### 1-Asal sayilar en kucuk bolunene kadar boldugumuz matematiksel islemlerdir.\n",
    "#### 2-faktoriyel ise matematikte hatirlnacagi uzerine n! yani kac kec carpialcagi anlamina gelir \n",
    "#### 3-pythonda math.factorial komutu ile istedigimizcarpana hesaplayabiliriz \n",
    "#### 4-Faktoriyel hesaplamalari veya asal carpanlara ayirma sozluk nesneseindedir{}"
   ]
  },
  {
   "cell_type": "code",
   "execution_count": 29,
   "id": "5ac1f0b4",
   "metadata": {},
   "outputs": [
    {
     "name": "stdout",
     "output_type": "stream",
     "text": [
      "📐 SYMPY İLE ASAL ÇARPANLAR:\n"
     ]
    },
    {
     "data": {
      "text/latex": [
       "$\\displaystyle 24 = 2^{3} \\times 3$"
      ],
      "text/plain": [
       "<IPython.core.display.Math object>"
      ]
     },
     "metadata": {},
     "output_type": "display_data"
    },
    {
     "data": {
      "text/latex": [
       "$\\displaystyle 60 = 2^{2} \\times 3 \\times 5$"
      ],
      "text/plain": [
       "<IPython.core.display.Math object>"
      ]
     },
     "metadata": {},
     "output_type": "display_data"
    },
    {
     "data": {
      "text/latex": [
       "$\\displaystyle 84 = 2^{2} \\times 3 \\times 7$"
      ],
      "text/plain": [
       "<IPython.core.display.Math object>"
      ]
     },
     "metadata": {},
     "output_type": "display_data"
    },
    {
     "data": {
      "text/latex": [
       "$\\displaystyle 120 = 2^{3} \\times 3 \\times 5$"
      ],
      "text/plain": [
       "<IPython.core.display.Math object>"
      ]
     },
     "metadata": {},
     "output_type": "display_data"
    }
   ],
   "source": [
    "import sympy as sym\n",
    "from IPython.display import Math, display\n",
    "\n",
    "def asal_carpan_sympy(n):\n",
    "    # Asal çarpanları bul\n",
    "    carpanlar = sym.factorint(n)\n",
    "    \n",
    "    # LaTeX formatında göster\n",
    "    latex_gosterim = \"\"\n",
    "    for i, (carpan, us) in enumerate(carpanlar.items()):\n",
    "        if us == 1:\n",
    "            latex_gosterim += str(carpan)\n",
    "        else:\n",
    "            latex_gosterim += f\"{carpan}^{{{us}}}\"\n",
    "        \n",
    "        if i < len(carpanlar) - 1:\n",
    "            latex_gosterim += \" \\\\times \"\n",
    "    \n",
    "    display(Math(f\"{n} = {latex_gosterim}\"))\n",
    "    return carpanlar\n",
    "\n",
    "# Kullanım\n",
    "print(\"📐 SYMPY İLE ASAL ÇARPANLAR:\")\n",
    "sayilar = [24, 60, 84, 120]\n",
    "for sayi in sayilar:\n",
    "    asal_carpan_sympy(sayi)"
   ]
  },
  {
   "cell_type": "code",
   "execution_count": 32,
   "id": "07e26761",
   "metadata": {},
   "outputs": [
    {
     "name": "stdout",
     "output_type": "stream",
     "text": [
      " FAKTÖRİYEL HESAPLAMA (For Döngüsü):\n",
      "1! = 1\n",
      "2! = 2\n",
      "3! = 6\n",
      "4! = 24\n",
      "5! = 120\n"
     ]
    },
    {
     "data": {
      "text/plain": [
       "120"
      ]
     },
     "execution_count": 32,
     "metadata": {},
     "output_type": "execute_result"
    }
   ],
   "source": [
    "# AÇIKLAMALI FAKTÖRİYEL KODU\n",
    "import math\n",
    "\n",
    "# FAKTÖRİYEL FONKSİYONU - For döngüsü ile\n",
    "def faktoriyel_for(n):\n",
    "    \"\"\"\n",
    "    Bir sayının faktöriyelini for döngüsü ile hesaplar\n",
    "    n: faktöriyeli alınacak sayı\n",
    "    return: n! sonucu\n",
    "    \"\"\"\n",
    "    sonuc = 1  # Başlangıç değeri (0! = 1, 1! = 1)\n",
    "    \n",
    "    # 1'den n'e kadar tüm sayıları çarp\n",
    "    for i in range(1, n + 1):\n",
    "        sonuc *= i  # sonuc = sonuc * i\n",
    "        print(f\"{i}! = {sonuc}\")  # Her adımı göster\n",
    "    \n",
    "    return sonuc\n",
    "\n",
    "# Kullanım\n",
    "print(\" FAKTÖRİYEL HESAPLAMA (For Döngüsü):\")\n",
    "faktoriyel_for(5)  # 5! = 120 hesapla"
   ]
  },
  {
   "cell_type": "code",
   "execution_count": 33,
   "id": "2196271d",
   "metadata": {},
   "outputs": [
    {
     "name": "stdout",
     "output_type": "stream",
     "text": [
      " ASAL ÇARPANLAR BULMA:\n",
      "12 = 2 × 2 × 3\n",
      "28 = 2 × 2 × 7\n",
      "45 = 3 × 3 × 5\n",
      "60 = 2 × 2 × 3 × 5\n",
      "100 = 2 × 2 × 5 × 5\n"
     ]
    }
   ],
   "source": [
    "# AÇIKLAMALI ASAL ÇARPAN KODU\n",
    "# ASAL ÇARPANLARI BULMA FONKSİYONU\n",
    "def asal_carpanlar(n):\n",
    "    \"\"\"\n",
    "    Bir sayının asal çarpanlarını bulur\n",
    "    n: çarpanlarına ayrılacak sayı\n",
    "    return: asal çarpanlar listesi\n",
    "    \"\"\"\n",
    "    carpanlar = []  # Asal çarpanları saklayacağımız liste\n",
    "    bolen = 2       # İlk asal bölen\n",
    "    \n",
    "    # Bölenin karesi sayıdan küçük olduğu sürece devam et\n",
    "    while bolen * bolen <= n:\n",
    "        # Sayı bölünebildiği sürece bu böleni ekle\n",
    "        while n % bolen == 0:\n",
    "            carpanlar.append(bolen)  # Böleni listeye ekle\n",
    "            n //= bolen  # n = n // bolen (tam bölme)\n",
    "        bolen += 1  # Sonraki bölene geç\n",
    "    \n",
    "    # Kalan sayı 1'den büyükse, kendisi asal çarpandır\n",
    "    if n > 1:\n",
    "        carpanlar.append(n)\n",
    "    \n",
    "    return carpanlar\n",
    "\n",
    "# Kullanım\n",
    "print(\" ASAL ÇARPANLAR BULMA:\")\n",
    "sayilar = [12, 28, 45, 60, 100]\n",
    "\n",
    "for sayi in sayilar:\n",
    "    carpanlar = asal_carpanlar(sayi)\n",
    "    print(f\"{sayi} = {' × '.join(map(str, carpanlar))}\")"
   ]
  },
  {
   "cell_type": "code",
   "execution_count": 37,
   "id": "48a4a34d",
   "metadata": {},
   "outputs": [
    {
     "name": "stdout",
     "output_type": "stream",
     "text": [
      "\n",
      " SAYI ANALİZİ: 5\n",
      "==============================\n",
      "Faktöriyel: 5! = 120\n",
      "Asal Çarpanlar: 5\n",
      "Asal Sayı: Evet \n",
      "\n",
      " SAYI ANALİZİ: 12\n",
      "==============================\n",
      "Faktöriyel: 12! = 479001600\n",
      "Asal Çarpanlar: 2^2 × 3\n",
      "Asal Sayı: Hayır \n",
      "\n",
      " SAYI ANALİZİ: 17\n",
      "==============================\n",
      "Faktöriyel: 17! = 355687428096000\n",
      "Asal Çarpanlar: 17\n",
      "Asal Sayı: Evet \n",
      "\n",
      " SAYI ANALİZİ: 24\n",
      "==============================\n",
      "Faktöriyel: 24! = Çok büyük! (Hesaplanamıyor)\n",
      "Asal Çarpanlar: 2^3 × 3\n",
      "Asal Sayı: Hayır \n",
      "\n",
      " SAYI ANALİZİ: 1\n",
      "==============================\n",
      "Faktöriyel: 1! = 1\n",
      "Asal Çarpanlar: Tanımsız (1 veya daha küçük)\n",
      "Asal Sayı: Hayır \n"
     ]
    }
   ],
   "source": [
    "import sympy as sym\n",
    "from IPython.display import Math, display\n",
    "\n",
    "# SAYI ANALİZİ FONKSİYONU - Tüm özellikleri bir arada\n",
    "def sayi_analizi(n):\n",
    "    \"\"\"\n",
    "    Bir sayının faktöriyel, asal çarpan ve asallık analizini yapar\n",
    "    n: analiz edilecek sayı\n",
    "    \"\"\"\n",
    "    print(f\"\\n SAYI ANALİZİ: {n}\")\n",
    "    print(\"=\" * 30)\n",
    "    \n",
    "    # FAKTÖRİYEL HESAPLA - 20'den büyük sayılar için çok büyük olabilir\n",
    "    if n <= 20:\n",
    "        fakt = math.factorial(n)\n",
    "        print(f\"Faktöriyel: {n}! = {fakt}\")\n",
    "    else:\n",
    "        print(f\"Faktöriyel: {n}! = Çok büyük! (Hesaplanamıyor)\")\n",
    "    \n",
    "    # ASAL ÇARPANLARI BUL - 1'den büyük sayılar için\n",
    "    if n > 1:\n",
    "        carpanlar = asal_carpanlar(n)\n",
    "        # Çarpanları gruplayıp üslü şekilde göster\n",
    "        from collections import Counter\n",
    "        carpan_sayilari = Counter(carpanlar)\n",
    "        \n",
    "        gosterim = []\n",
    "        for carpan, us in sorted(carpan_sayilari.items()):\n",
    "            if us == 1:\n",
    "                gosterim.append(str(carpan))\n",
    "            else:\n",
    "                gosterim.append(f\"{carpan}^{us}\")\n",
    "        \n",
    "        print(f\"Asal Çarpanlar: {' × '.join(gosterim)}\")\n",
    "    else:\n",
    "        print(\"Asal Çarpanlar: Tanımsız (1 veya daha küçük)\")\n",
    "    \n",
    "    # ASAL MI KONTROL ET - sympy kütüphanesi ile\n",
    "    asal_mi = sym.isprime(n)\n",
    "    print(f\"Asal Sayı: {'Evet ' if asal_mi else 'Hayır '}\")\n",
    "\n",
    "# ÖRNEK KULLANIM\n",
    "test_sayilari = [5, 12, 17, 24, 1]\n",
    "\n",
    "for sayi in test_sayilari:\n",
    "    sayi_analizi(sayi)"
   ]
  },
  {
   "cell_type": "code",
   "execution_count": null,
   "id": "b4a6e8fe",
   "metadata": {},
   "outputs": [],
   "source": []
  }
 ],
 "metadata": {
  "kernelspec": {
   "display_name": "basicPy",
   "language": "python",
   "name": "python3"
  },
  "language_info": {
   "codemirror_mode": {
    "name": "ipython",
    "version": 3
   },
   "file_extension": ".py",
   "mimetype": "text/x-python",
   "name": "python",
   "nbconvert_exporter": "python",
   "pygments_lexer": "ipython3",
   "version": "3.13.7"
  }
 },
 "nbformat": 4,
 "nbformat_minor": 5
}
