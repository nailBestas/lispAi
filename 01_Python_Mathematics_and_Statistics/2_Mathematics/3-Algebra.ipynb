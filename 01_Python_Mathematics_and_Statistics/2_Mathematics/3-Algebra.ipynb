{
 "cells": [
  {
   "cell_type": "markdown",
   "id": "3df03381",
   "metadata": {},
   "source": [
    "# Algebra (cebir)"
   ]
  },
  {
   "cell_type": "code",
   "execution_count": 19,
   "id": "9eace7d1",
   "metadata": {},
   "outputs": [
    {
     "data": {
      "text/latex": [
       "$\\displaystyle 4 x + 14 = 9 \\\\  \\text{denkleminin cozum kumesi yani x yerine gelecek olan deger}  [-5/4]$"
      ],
      "text/plain": [
       "<IPython.core.display.Math object>"
      ]
     },
     "metadata": {},
     "output_type": "display_data"
    },
    {
     "data": {
      "text/plain": [
       "[-sqrt(5)*I/2, sqrt(5)*I/2]"
      ]
     },
     "execution_count": 19,
     "metadata": {},
     "output_type": "execute_result"
    }
   ],
   "source": [
    "from IPython.display import Math,display\n",
    "import sympy as sym\n",
    "x = sym.symbols('x')\n",
    "denk= sym.Eq(4*x + 14,9)# 2x+4 = 9 anlaminadir eq esiitir anlamindadir\n",
    "sol = sym.solve(denk,x)# solve ile denklemi cozduk ve x yerine 5/2 getirecek\n",
    "display(Math(f'{sym.latex(denk)} \\\\\\\\  \\\\text{{denkleminin cozum kumesi yani x yerine gelecek olan deger}}  {sol}'))\n",
    "sym.solve(4*x **2 +5 )"
   ]
  },
  {
   "cell_type": "code",
   "execution_count": null,
   "id": "660a5e88",
   "metadata": {},
   "outputs": [
    {
     "data": {
      "text/latex": [
       "$\\displaystyle - 2 q + 2 + \\frac{3}{q}$"
      ],
      "text/plain": [
       "-2*q + 2 + 3/q"
      ]
     },
     "metadata": {},
     "output_type": "display_data"
    },
    {
     "data": {
      "text/latex": [
       "$\\displaystyle - 2 q + 2 + \\frac{3}{q}$"
      ],
      "text/plain": [
       "<IPython.core.display.Math object>"
      ]
     },
     "metadata": {},
     "output_type": "display_data"
    },
    {
     "data": {
      "text/latex": [
       "$\\displaystyle g = \\left[ \\frac{1}{2} - \\frac{\\sqrt{7}}{2}, \\  \\frac{1}{2} + \\frac{\\sqrt{7}}{2}\\right]$"
      ],
      "text/plain": [
       "<IPython.core.display.Math object>"
      ]
     },
     "metadata": {},
     "output_type": "display_data"
    }
   ],
   "source": [
    "#1 ornek\n",
    "q = sym.symbols('q')\n",
    "eq = 3*q + 4/q + 3 - 5*q - 1/q - 1\n",
    "display(eq)\n",
    "display(Math(sym.latex(eq)))\n",
    "display(Math(f'g = {sym.latex(sym.solve(eq,q))}')) # cozum kumesini verecek\n"
   ]
  },
  {
   "cell_type": "code",
   "execution_count": null,
   "id": "54569842",
   "metadata": {},
   "outputs": [
    {
     "data": {
      "text/latex": [
       "$\\displaystyle 3 q^{2} + 2 q - \\frac{5}{q} - \\frac{4}{q^{3}}$"
      ],
      "text/plain": [
       "3*q**2 + 2*q - 5/q - 4/q**3"
      ]
     },
     "metadata": {},
     "output_type": "display_data"
    },
    {
     "data": {
      "text/latex": [
       "$\\displaystyle 3 q^{2} + 2 q - \\frac{5}{q} - \\frac{4}{q^{3}}$"
      ],
      "text/plain": [
       "<IPython.core.display.Math object>"
      ]
     },
     "metadata": {},
     "output_type": "display_data"
    },
    {
     "data": {
      "text/latex": [
       "$\\displaystyle q= \\left[ \\operatorname{CRootOf} {\\left(3 x^{5} + 2 x^{4} - 5 x^{2} - 4, 0\\right)}, \\  \\operatorname{CRootOf} {\\left(3 x^{5} + 2 x^{4} - 5 x^{2} - 4, 1\\right)}, \\  \\operatorname{CRootOf} {\\left(3 x^{5} + 2 x^{4} - 5 x^{2} - 4, 2\\right)}, \\  \\operatorname{CRootOf} {\\left(3 x^{5} + 2 x^{4} - 5 x^{2} - 4, 3\\right)}, \\  \\operatorname{CRootOf} {\\left(3 x^{5} + 2 x^{4} - 5 x^{2} - 4, 4\\right)}\\right]$"
      ],
      "text/plain": [
       "<IPython.core.display.Math object>"
      ]
     },
     "metadata": {},
     "output_type": "display_data"
    },
    {
     "data": {
      "text/latex": [
       "$\\displaystyle q= \\frac{3 q^{5} + 2 q^{4} - 5 q^{2} - 4}{q^{3}}$"
      ],
      "text/plain": [
       "<IPython.core.display.Math object>"
      ]
     },
     "metadata": {},
     "output_type": "display_data"
    }
   ],
   "source": [
    "#2\n",
    "eq2 = 2*q + 3*q**2 - 5/q - 4/q**3\n",
    "display(eq2)\n",
    "display(Math(sym.latex(sym.simplify(eq2))))\n",
    "display(Math(f'q= {sym.latex(sym.solve(eq2,q))}'))#CRootOf, denklemin köklerini sembolik olarak temsil ediyor\n",
    "display(Math(f'q= {sym.latex(sym.cancel(eq2,q))}')) # cancel butunsel bir sadelestirme ornegi sunar bize\n",
    "\n"
   ]
  },
  {
   "cell_type": "code",
   "execution_count": null,
   "id": "83f543cd",
   "metadata": {},
   "outputs": [
    {
     "name": "stdout",
     "output_type": "stream",
     "text": [
      "Sembolik temsil:\n",
      "Kök 0: CRootOf(3*x**5 + 2*x**4 - 5*x**2 - 4, 0)\n",
      "Kök 1: CRootOf(3*x**5 + 2*x**4 - 5*x**2 - 4, 1)\n",
      "Kök 2: CRootOf(3*x**5 + 2*x**4 - 5*x**2 - 4, 2)\n",
      "Kök 3: CRootOf(3*x**5 + 2*x**4 - 5*x**2 - 4, 3)\n",
      "Kök 4: CRootOf(3*x**5 + 2*x**4 - 5*x**2 - 4, 4)\n",
      "\n",
      "Sayısal değerleri:\n",
      "Kök 0: 1.18716560776318\n",
      "Kök 1: -0.994074543510897 - 0.936886436711566*I\n",
      "Kök 2: -0.994074543510897 + 0.936886436711566*I\n",
      "Kök 3: 0.0671584062959738 - 0.772914692708164*I\n",
      "Kök 4: 0.0671584062959738 + 0.772914692708164*I\n"
     ]
    }
   ],
   "source": [
    "import sympy as sym\n",
    "'''\n",
    "for index, deger in enumerate(liste):enumerate kullanimi\n",
    "    # index → 0, 1, 2, ...\n",
    "    # deger → liste[0], liste[1], liste[2], ...\n",
    "\n",
    "    '''\n",
    "x = sym.symbols('x')\n",
    "denklem = 3*x**5 + 2*x**4 - 5*x**2 - 4\n",
    "\n",
    "# Kökleri bul\n",
    "cozumler = sym.solve(denklem, x)\n",
    "\n",
    "print(\"Sembolik temsil:\")\n",
    "for i, cozum in enumerate(cozumler):\n",
    "    print(f\"Kök {i}: {cozum}\")\n",
    "\n",
    "print(\"\\nSayısal değerleri:\")\n",
    "for i, cozum in enumerate(cozumler):\n",
    "    sayisal_deger = cozum.evalf()  # Sayısal değere çevir\n",
    "    print(f\"Kök {i}: {sayisal_deger}\")"
   ]
  },
  {
   "cell_type": "code",
   "execution_count": 39,
   "id": "04374aeb",
   "metadata": {},
   "outputs": [
    {
     "data": {
      "text/latex": [
       "$\\displaystyle \\left(x + 6\\right) \\left(4 x + 20\\right) = 4 x^{2} + 44 x + 120$"
      ],
      "text/plain": [
       "<IPython.core.display.Math object>"
      ]
     },
     "metadata": {},
     "output_type": "display_data"
    }
   ],
   "source": [
    "# Expanding terms (islem genisletme)\n",
    "#dagilma ozelligini a(a+b) = a^2+ab seklinde\n",
    "\n",
    "x = sym.symbols('x')\n",
    "term1 = 4*x + 20\n",
    "term2 = x + 6\n",
    "term3 = x\n",
    "display(Math(f'{sym.latex(term1*term2)} = {sym.latex(sym.expand(term1*term2))}'))"
   ]
  },
  {
   "cell_type": "code",
   "execution_count": null,
   "id": "975d1375",
   "metadata": {},
   "outputs": [
    {
     "name": "stdout",
     "output_type": "stream",
     "text": [
      "her x= 0 ve y=0, f(x,y)= 24\n",
      "her x= 0 ve y=1, f(x,y)= 18\n",
      "her x= 0 ve y=2, f(x,y)= 12\n",
      "her x= 0 ve y=3, f(x,y)= 6\n",
      "her x= 1 ve y=0, f(x,y)= 28\n",
      "her x= 1 ve y=1, f(x,y)= 21\n",
      "her x= 1 ve y=2, f(x,y)= 14\n",
      "her x= 1 ve y=3, f(x,y)= 7\n",
      "her x= 2 ve y=0, f(x,y)= 32\n",
      "her x= 2 ve y=1, f(x,y)= 24\n",
      "her x= 2 ve y=2, f(x,y)= 16\n",
      "her x= 2 ve y=3, f(x,y)= 8\n",
      "her x= 3 ve y=0, f(x,y)= 36\n",
      "her x= 3 ve y=1, f(x,y)= 27\n",
      "her x= 3 ve y=2, f(x,y)= 18\n",
      "her x= 3 ve y=3, f(x,y)= 9\n"
     ]
    }
   ],
   "source": [
    "from sympy.abc import x,y \n",
    "Fxy = (6+x)*(4-y)\n",
    "for ix in range(0,4):\n",
    "    for iy in range(0,4):\n",
    "        print(f'her x= {ix} ve y={iy}, f(x,y)= {Fxy.subs({x:ix,y:iy})}')# subs denklemde yerine koymak istedgimiz degiskenin yerine sayi koymak icin\n",
    "#Fxy.subs({x:1,y:0})# sozluk tanimi yaptik subs degisken yerine sayi koy isine yariyor\n"
   ]
  },
  {
   "cell_type": "code",
   "execution_count": null,
   "id": "042d6550",
   "metadata": {},
   "outputs": [],
   "source": []
  }
 ],
 "metadata": {
  "kernelspec": {
   "display_name": "basicPy",
   "language": "python",
   "name": "python3"
  },
  "language_info": {
   "codemirror_mode": {
    "name": "ipython",
    "version": 3
   },
   "file_extension": ".py",
   "mimetype": "text/x-python",
   "name": "python",
   "nbconvert_exporter": "python",
   "pygments_lexer": "ipython3",
   "version": "3.13.7"
  }
 },
 "nbformat": 4,
 "nbformat_minor": 5
}
