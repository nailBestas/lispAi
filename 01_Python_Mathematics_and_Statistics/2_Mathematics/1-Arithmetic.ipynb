{
 "cells": [
  {
   "cell_type": "markdown",
   "id": "5d9ee6ec",
   "metadata": {},
   "source": [
    "python dort islemler(addition,subtraction,multiplication,division)"
   ]
  },
  {
   "cell_type": "markdown",
   "id": "e05f8553",
   "metadata": {},
   "source": []
  },
  {
   "cell_type": "code",
   "execution_count": 2,
   "id": "810fd8bc",
   "metadata": {},
   "outputs": [
    {
     "data": {
      "text/plain": [
       "10"
      ]
     },
     "execution_count": 2,
     "metadata": {},
     "output_type": "execute_result"
    }
   ],
   "source": [
    "5 + 5 #Toplama islemi "
   ]
  },
  {
   "cell_type": "code",
   "execution_count": null,
   "id": "f0ca955e",
   "metadata": {},
   "outputs": [
    {
     "data": {
      "text/plain": [
       "150"
      ]
     },
     "execution_count": 3,
     "metadata": {},
     "output_type": "execute_result"
    }
   ],
   "source": [
    "5 + 5 + 6 + 45 + 89 #coklu toplama islemi pythonda rahatlikla yapabilirz"
   ]
  },
  {
   "cell_type": "code",
   "execution_count": 4,
   "id": "04b7878c",
   "metadata": {},
   "outputs": [
    {
     "data": {
      "text/plain": [
       "6"
      ]
     },
     "execution_count": 4,
     "metadata": {},
     "output_type": "execute_result"
    }
   ],
   "source": [
    "58 - 52 # cikarma islemi "
   ]
  },
  {
   "cell_type": "code",
   "execution_count": null,
   "id": "eeb862c4",
   "metadata": {},
   "outputs": [
    {
     "data": {
      "text/plain": [
       "4005"
      ]
     },
     "execution_count": 5,
     "metadata": {},
     "output_type": "execute_result"
    }
   ],
   "source": [
    "89 *45 # carpma islemi "
   ]
  },
  {
   "cell_type": "code",
   "execution_count": 6,
   "id": "90845b0a",
   "metadata": {},
   "outputs": [
    {
     "data": {
      "text/plain": [
       "8.666666666666666"
      ]
     },
     "execution_count": 6,
     "metadata": {},
     "output_type": "execute_result"
    }
   ],
   "source": [
    "78/9 #bolme islemi "
   ]
  },
  {
   "cell_type": "code",
   "execution_count": 7,
   "id": "ef399eee",
   "metadata": {},
   "outputs": [
    {
     "data": {
      "text/plain": [
       "4.7"
      ]
     },
     "execution_count": 7,
     "metadata": {},
     "output_type": "execute_result"
    }
   ],
   "source": [
    "5-2/4*3/5"
   ]
  },
  {
   "cell_type": "code",
   "execution_count": 11,
   "id": "e243f1be",
   "metadata": {},
   "outputs": [
    {
     "data": {
      "text/plain": [
       "32.333333333333336"
      ]
     },
     "execution_count": 11,
     "metadata": {},
     "output_type": "execute_result"
    }
   ],
   "source": [
    "4-5/3+5*6 #pythonda bu islem hatali matematik sonucu verir.sonuc verir ama hatali islem "
   ]
  },
  {
   "cell_type": "code",
   "execution_count": 12,
   "id": "f0ac6ed7",
   "metadata": {},
   "outputs": [
    {
     "data": {
      "text/plain": [
       "-0.030303030303030304"
      ]
     },
     "execution_count": 12,
     "metadata": {},
     "output_type": "execute_result"
    }
   ],
   "source": [
    "(4-5)/(3+5*6)#gercek matematik sonucunun bu oldugunu goreceksiniz"
   ]
  },
  {
   "cell_type": "markdown",
   "id": "fb76846e",
   "metadata": {},
   "source": [
    "## Pythonda degiskenler(Variables)"
   ]
  },
  {
   "cell_type": "markdown",
   "id": "8555b9f5",
   "metadata": {},
   "source": [
    "### degiskenlerin progrtamcinin kendisi hangi veri turunde bellekte yer edinmek istedigi ve sonra degistirmek istedigi oalrak tanimlanabilir"
   ]
  },
  {
   "cell_type": "markdown",
   "id": "4e04f4ee",
   "metadata": {},
   "source": []
  },
  {
   "cell_type": "code",
   "execution_count": 15,
   "id": "37254fd0",
   "metadata": {},
   "outputs": [],
   "source": [
    "a = 15#degiskenimizi tanimladik ve 15 olarak bir pythonun anlacagi dilden int sayi atadik"
   ]
  },
  {
   "cell_type": "code",
   "execution_count": 16,
   "id": "bcf957ca",
   "metadata": {},
   "outputs": [],
   "source": [
    "a = a - 3*5"
   ]
  },
  {
   "cell_type": "code",
   "execution_count": 18,
   "id": "eaa7bc44",
   "metadata": {},
   "outputs": [],
   "source": [
    "a = 20#dikkat ettginiz gibi ilk once 15 olan degiskenimizi 20 olarak degistirdik\n",
    "a = a - 4*5"
   ]
  },
  {
   "cell_type": "code",
   "execution_count": null,
   "id": "1e154f82",
   "metadata": {},
   "outputs": [
    {
     "name": "stdout",
     "output_type": "stream",
     "text": [
      "nail\n"
     ]
    }
   ],
   "source": [
    "b = \"nail\"#ayrica string yani metin turunde degisken tanimlamayida gorduk\n",
    "print(b)#Print ifadesi souclarimizi ciktida gormemizi saglar"
   ]
  },
  {
   "cell_type": "code",
   "execution_count": null,
   "id": "85bc336b",
   "metadata": {},
   "outputs": [],
   "source": [
    "x, y, z = 15, 12, 16 # 1. yontem Tek Satırda Atama (En Yaygın Yöntem)\n",
    "x = y = z = 0  # üç değişken de 0 değerini alır\n",
    "x, y, z = [15, 12, 16] #Listeden deger atama\n",
    "x, y, z = (15, 12, 16)# tuple den deger atama\n",
    "\n",
    "a, b = 10, 20#Değişken Değiştirme (Swap)\n",
    "a, b = b, a  # a=20, b=10 olur\n",
    "\n",
    "# gordugunuz gibi pythonda bir veya birden cok degiskeni nasil tanimlandigini farkli yontemlerle gorduk"
   ]
  },
  {
   "cell_type": "code",
   "execution_count": 33,
   "id": "f03a4740",
   "metadata": {},
   "outputs": [
    {
     "name": "stdout",
     "output_type": "stream",
     "text": [
      "730\n",
      "-10.433333333333334\n"
     ]
    }
   ],
   "source": [
    "x, y, z = 10,20,30#1.yontemde gordugumuz gibi bir satirda birden cok degisken tanimlamayi ogrendik\n",
    "print(3*x*(y+4)+10)#bu ifade aslinda 3x(y+4)+10 ifadesidir carpma islemi yapilmasi icin parantezlere ve print yazdirma fonskyoununa ihtiyacimiz vardir\n",
    "\n",
    "#-y-x+3/2 denklemini yapalim\n",
    "print(-y-(x+3)/z + 10)#unutmamak gerekiyor python kodunun okunmasi icin mutlaka bolme ve carpma islmeleri parantez eklenmeli"
   ]
  },
  {
   "cell_type": "markdown",
   "id": "41abf538",
   "metadata": {},
   "source": [
    "## Pythonda dosya veya dize bicimlendirme (printing and formatting)"
   ]
  },
  {
   "cell_type": "code",
   "execution_count": 34,
   "id": "31ad2531",
   "metadata": {},
   "outputs": [
    {
     "name": "stdout",
     "output_type": "stream",
     "text": [
      "Merhaba Dünya!\n",
      "Ad: Ahmet Yaş: 25\n",
      "Python | Java | C++\n",
      "Merhaba Dünya!\n"
     ]
    }
   ],
   "source": [
    "#1. print() Fonksiyonu Temelleri\n",
    "# Temel kullanım\n",
    "print(\"Merhaba Dünya!\")\n",
    "\n",
    "# Birden fazla değer yazdırma\n",
    "print(\"Ad:\", \"Ahmet\", \"Yaş:\", 25)\n",
    "\n",
    "# sep parametresi (ayraç)\n",
    "print(\"Python\", \"Java\", \"C++\", sep=\" | \")  # Python | Java | C++\n",
    "\n",
    "# end parametresi (son karakter)\n",
    "print(\"Merhaba\", end=\" \")\n",
    "print(\"Dünya!\")  # Merhaba Dünya!\n"
   ]
  },
  {
   "cell_type": "code",
   "execution_count": 36,
   "id": "8769b0dd",
   "metadata": {},
   "outputs": [
    {
     "name": "stdout",
     "output_type": "stream",
     "text": [
      "Ad: Ali, Yaş: 30, Boy: 1.75\n",
      "Merhaba Ali!\n"
     ]
    }
   ],
   "source": [
    "#2. Eski Stil Formatlama (% operatörü)\n",
    "name = \"Ali\"\n",
    "age = 30\n",
    "height = 1.75\n",
    "\n",
    "# String formatlama\n",
    "print(\"Ad: %s, Yaş: %d, Boy: %.2f\" % (name, age, height))\n",
    "# Ad: Ali, Yaş: 30, Boy: 1.75\n",
    "\n",
    "# Tek değişken\n",
    "print(\"Merhaba %s!\" % name)"
   ]
  },
  {
   "cell_type": "code",
   "execution_count": 37,
   "id": "8cdc3313",
   "metadata": {},
   "outputs": [
    {
     "name": "stdout",
     "output_type": "stream",
     "text": [
      "Ayşe 25 yaşında\n",
      "Mehmet ve Zeynep arkadaş. Mehmet 20 yaşında\n",
      "Ad: Elif, Yaş: 22\n",
      "İsim: Can, Şehir: İstanbul\n"
     ]
    }
   ],
   "source": [
    "#3. str.format() Metodu (Python 3.0+) python3 ile birlikte gelen kullanim\n",
    "# Sıralı parametreler\n",
    "print(\"{} {} yaşında\".format(\"Ayşe\", 25))\n",
    "\n",
    "# İndex kullanımı\n",
    "print(\"{0} ve {1} arkadaş. {0} 20 yaşında\".format(\"Mehmet\", \"Zeynep\"))\n",
    "\n",
    "# İsimli parametreler\n",
    "print(\"Ad: {isim}, Yaş: {yas}\".format(isim=\"Elif\", yas=22))\n",
    "\n",
    "# Sözlük kullanımı\n",
    "veri = {'isim': 'Can', 'şehir': 'İstanbul'}\n",
    "print(\"İsim: {isim}, Şehir: {şehir}\".format(**veri))"
   ]
  },
  {
   "cell_type": "code",
   "execution_count": 38,
   "id": "a4e3d7e1",
   "metadata": {},
   "outputs": [
    {
     "name": "stdout",
     "output_type": "stream",
     "text": [
      "Ad: Deniz, Yaş: 28, Boy: 1.8\n",
      "Gelecek yıl 29 yaşında olacak\n",
      "Boy: 1.80 metre\n",
      "Yüzde: 45.7%\n",
      "Para: 1,234.56 TL\n"
     ]
    }
   ],
   "source": [
    "#4. f-string (Python 3.6+ - EN MODERN YÖNTEM)\n",
    "name = \"Deniz\"\n",
    "age = 28\n",
    "height = 1.80\n",
    "\n",
    "# Temel kullanım\n",
    "print(f\"Ad: {name}, Yaş: {age}, Boy: {height}\")\n",
    "\n",
    "# Matematik işlemleri\n",
    "print(f\"Gelecek yıl {age + 1} yaşında olacak\")\n",
    "\n",
    "# Formatlama seçenekleri\n",
    "print(f\"Boy: {height:.2f} metre\")  # Boy: 1.80 metre\n",
    "print(f\"Yüzde: {0.4567:.1%}\")     # Yüzde: 45.7%\n",
    "print(f\"Para: {1234.56:,.2f} TL\") # Para: 1,234.56 TL"
   ]
  },
  {
   "cell_type": "code",
   "execution_count": 50,
   "id": "1fd6c9ca",
   "metadata": {},
   "outputs": [
    {
     "name": "stdout",
     "output_type": "stream",
     "text": [
      "Tam sayı: 00042\n",
      "Ondalıklı: 1234.57\n",
      "Binlik ayırıcı: 1,234.57\n",
      "Yüzde: 75.00%\n"
     ]
    }
   ],
   "source": [
    "#5. Sayı Formatlama Örnekleri\n",
    "price = 1234.5678\n",
    "number = 42\n",
    "\n",
    "print(f\"Tam sayı: {number:05d}\")        # 00042\n",
    "print(f\"Ondalıklı: {price:.2f}\")        # 1234.57 burada f float demek 2f demek virgulden sonra 2 basamak goster demek\n",
    "print(f\"Binlik ayırıcı: {price:,.2f}\")  # 1,234.57\n",
    "print(f\"Yüzde: {0.75:.2%}\")            # 75.00%"
   ]
  },
  {
   "cell_type": "code",
   "execution_count": 51,
   "id": "04540c0d",
   "metadata": {},
   "outputs": [
    {
     "name": "stdout",
     "output_type": "stream",
     "text": [
      "|Python    |\n",
      "|    Python|\n",
      "|  Python  |\n",
      "|00042|\n"
     ]
    }
   ],
   "source": [
    "#6. Hizalama ve Dolgu\n",
    "text = \"Python\"\n",
    "number = 42\n",
    "\n",
    "print(f\"|{text:<10}|\")   # Sola hizalı: |Python    |\n",
    "print(f\"|{text:>10}|\")   # Sağa hizalı: |    Python|\n",
    "print(f\"|{text:^10}|\")   # Ortalı:      |  Python  |\n",
    "print(f\"|{number:05d}|\") # Sıfır dolgu: |00042|"
   ]
  },
  {
   "cell_type": "code",
   "execution_count": 52,
   "id": "b0072fe8",
   "metadata": {},
   "outputs": [
    {
     "name": "stdout",
     "output_type": "stream",
     "text": [
      "Satır 1\n",
      "Satır 2\n",
      "İsim:\tAhmet\tYaş:\t25\n",
      "C:\\users\\documents\n",
      "\"Python\" programlama dili\n",
      "C:\\users\\documents\n"
     ]
    }
   ],
   "source": [
    "#7. Özel Karakterler ve Kaçış Dizileri\n",
    "# Yeni satır\n",
    "print(\"Satır 1\\nSatır 2\")\n",
    "\n",
    "# Tab\n",
    "print(\"İsim:\\tAhmet\\tYaş:\\t25\")\n",
    "\n",
    "# Ters slash ve tırnak\n",
    "print(\"C:\\\\users\\\\documents\")\n",
    "print('\"Python\" programlama dili')\n",
    "\n",
    "# Raw string (kaçış dizilerini yok sayar)\n",
    "print(r\"C:\\users\\documents\")  # C:\\users\\documents"
   ]
  },
  {
   "cell_type": "code",
   "execution_count": null,
   "id": "da70e2a6",
   "metadata": {},
   "outputs": [
    {
     "name": "stdout",
     "output_type": "stream",
     "text": [
      "\n",
      "Merhaba Ali,\n",
      "\n",
      "Hoş geldin! Yaşın: 30\n",
      "\n",
      "Saygılar,\n",
      "Sistem\n",
      "\n",
      "\n",
      "Merhaba Ayşe,\n",
      "\n",
      "Hoş geldin! Yaşın: 25\n",
      "\n",
      "Saygılar,\n",
      "Sistem\n",
      "\n"
     ]
    }
   ],
   "source": [
    "#8. Çok Satırlı Stringler\n",
    "# Üç tırnak ile\n",
    "mesaj = \"\"\"      # uc tirnak ile cok satirli tring ifadelerimiz ekledik\n",
    "Merhaba {isim},     # javascripte sablon dizinlerinde akliniza gelmistir\n",
    "\n",
    "Hoş geldin! Yaşın: {yas}\n",
    "\n",
    "Saygılar,\n",
    "Sistem\n",
    "\"\"\"\n",
    "print(mesaj.format(isim=\"Ali\", yas=30))\n",
    "\n",
    "# f-string ile çok satırlı gosterimi bu sekilde \n",
    "# Dikkat etmek gerekiyor coklu satirlarda \"\"\" \"\"\" seklinde olmali\n",
    "isim = \"Ayşe\"\n",
    "yas = 25\n",
    "print(f\"\"\"\n",
    "Merhaba {isim},\n",
    "\n",
    "Hoş geldin! Yaşın: {yas}\n",
    "\n",
    "Saygılar,\n",
    "Sistem\n",
    "\"\"\")"
   ]
  },
  {
   "cell_type": "code",
   "execution_count": 48,
   "id": "18132ba2",
   "metadata": {},
   "outputs": [
    {
     "name": "stdout",
     "output_type": "stream",
     "text": [
      "İsim       Yaş  Not   \n",
      "-------------------------\n",
      "Ali        20   85.5  \n",
      "Ayşe       22   92.3  \n",
      "Mehmet     21   78.9  \n"
     ]
    }
   ],
   "source": [
    "#9. Pratik Örnekler\n",
    "# Tablo formatında yazdırma\n",
    "students = [(\"Ali\", 20, 85.5), (\"Ayşe\", 22, 92.3), (\"Mehmet\", 21, 78.9)]\n",
    "\n",
    "print(f\"{'İsim':<10} {'Yaş':<4} {'Not':<6}\")\n",
    "print(\"-\" * 25)\n",
    "for name, age, grade in students:\n",
    "    print(f\"{name:<10} {age:<4} {grade:<6.1f}\")\n",
    "\n",
    "# Çıktı:\n",
    "# İsim       Yaş  Not   \n",
    "# -------------------------\n",
    "# Ali        20   85.5  \n",
    "# Ayşe       22   92.3  \n",
    "# Mehmet     21   78.9  "
   ]
  },
  {
   "cell_type": "markdown",
   "id": "99ca1602",
   "metadata": {},
   "source": [
    "### Dikkat !!! Öneriler:\n",
    "Modern projelerde f-string kullanın - daha hızlı ve okunabilir\n",
    "\n",
    "Karmaşık formatlamalarda str.format() - daha esnek\n",
    "\n",
    "Eski kodlarla uyumluluk için % operatörü - ama yeni kod yazarken kullanmayın"
   ]
  },
  {
   "cell_type": "markdown",
   "id": "4cd1eca4",
   "metadata": {},
   "source": [
    "## Python'u Matematikle kullanmaya baslayalim\n",
    "### from IPython .display import display , Math      sinifindan yararlanmaya baslayalim"
   ]
  },
  {
   "cell_type": "code",
   "execution_count": 55,
   "id": "98c2e790",
   "metadata": {},
   "outputs": [
    {
     "data": {
      "text/plain": [
       "'5 + 5 =  10'"
      ]
     },
     "metadata": {},
     "output_type": "display_data"
    },
    {
     "data": {
      "text/latex": [
       "$\\displaystyle 5 + 5 = 10$"
      ],
      "text/plain": [
       "<IPython.core.display.Math object>"
      ]
     },
     "metadata": {},
     "output_type": "display_data"
    }
   ],
   "source": [
    "from IPython.display import display,Math # IPython.display  sinifindan dosplay ve Math kullanaya baslayalim\n",
    "display('5 + 5 =  10')# bize direkt sonucunu almak istedigimiz goruntyu yazdirir.\n",
    "\n",
    "display(Math('5 + 5 = 10'))# bunu math sinifina icine ekledigimiz zaman sanki goruntuyu daha matematiksel bir sonuc elde ederiz\n"
   ]
  },
  {
   "cell_type": "code",
   "execution_count": 73,
   "id": "42d48d81",
   "metadata": {},
   "outputs": [
    {
     "data": {
      "text/latex": [
       "$\\displaystyle 5 + 5 = 10$"
      ],
      "text/plain": [
       "<IPython.core.display.Math object>"
      ]
     },
     "metadata": {},
     "output_type": "display_data"
    }
   ],
   "source": [
    "x = 5\n",
    "y = 5\n",
    "display(Math( str(x) + ' + ' + str(y) + ' = ' + str(x+y) ))"
   ]
  },
  {
   "cell_type": "code",
   "execution_count": 79,
   "id": "ab55fe1e",
   "metadata": {},
   "outputs": [
    {
     "data": {
      "text/latex": [
       "$\\displaystyle 4/5 = .8$"
      ],
      "text/plain": [
       "<IPython.core.display.Math object>"
      ]
     },
     "metadata": {},
     "output_type": "display_data"
    },
    {
     "data": {
      "text/latex": [
       "$\\displaystyle \\frac{4}{5} = .8$"
      ],
      "text/plain": [
       "<IPython.core.display.Math object>"
      ]
     },
     "metadata": {},
     "output_type": "display_data"
    }
   ],
   "source": [
    "display(Math('4/5 = .8'))\n",
    "display(Math( '\\\\frac{4}{5} = .8'))#frac burda kesirli sayi goster anlamindadir diger adi latex gosterimi\n",
    "#ters bolu isareti yani slash ise pythonda kacis dizeleri yapmak icin kullanilir"
   ]
  },
  {
   "cell_type": "code",
   "execution_count": 84,
   "id": "acd68ab5",
   "metadata": {},
   "outputs": [
    {
     "data": {
      "text/latex": [
       "$\\displaystyle 5 \\times 5 = 25$"
      ],
      "text/plain": [
       "<IPython.core.display.Math object>"
      ]
     },
     "metadata": {},
     "output_type": "display_data"
    }
   ],
   "source": [
    "a = 5\n",
    "b = 8.15\n",
    "display(Math('%g \\\\times %g = %g' %(x,y,x*y)))# da oncede soyledigim gibi bunlar eskimis yontemler ama hala casliiyor\n"
   ]
  },
  {
   "cell_type": "code",
   "execution_count": 89,
   "id": "ec57ddfd",
   "metadata": {},
   "outputs": [
    {
     "data": {
      "text/latex": [
       "$\\displaystyle 5 \\times 8.15 = 40.75$"
      ],
      "text/plain": [
       "<IPython.core.display.Math object>"
      ]
     },
     "metadata": {},
     "output_type": "display_data"
    },
    {
     "data": {
      "text/latex": [
       "$\\displaystyle 5 \\times 8.15 =40.75$"
      ],
      "text/plain": [
       "<IPython.core.display.Math object>"
      ]
     },
     "metadata": {},
     "output_type": "display_data"
    },
    {
     "data": {
      "text/plain": [
       "'\\nnumber = 1234.5678\\n\\nprint(f\"{number}\")           # 1234.5678 (ham)\\nprint(f\"{number:}\")          # 1234.5678 (iki nokta boş)\\nprint(f\"{number:.2f}\")       # 1234.57 (formatlı)\\nprint(f\"{number:>10}\")       # hizalama için\\nprint(f\"{number:,.2f}\")      # 1,234.57 (binlik ayırıcılı)\\n'"
      ]
     },
     "execution_count": 89,
     "metadata": {},
     "output_type": "execute_result"
    }
   ],
   "source": [
    "a = 5\n",
    "b = 8.15\n",
    "display(Math(f'{a} \\\\times {b} = {a*b}'))#bu yontem cok daha modern ve akilda kalici bir yontem hemde modern\n",
    "display(Math(f'{a} \\\\times {b:.2f} ={a*b:.2f}'))#bu yontemelr daha modern yontemlerdir\n",
    "#burda kullanilan  İki nokta, \"değişken adı\" ile \"format kuralları\"nı birbirinden ayırmak için kullanılan bir syntax ayırıcısı!\n",
    "#{b:.2f} burda b degisken : ise format belirteci olarak baslatmak icin kullanilir\n",
    "#daha once ornek verdigimiz kurallar cercevesi\n",
    "'''\n",
    "number = 1234.5678\n",
    "\n",
    "print(f\"{number}\")           # 1234.5678 (ham)\n",
    "print(f\"{number:}\")          # 1234.5678 (iki nokta boş)\n",
    "print(f\"{number:.2f}\")       # 1234.57 (formatlı)\n",
    "print(f\"{number:>10}\")       # hizalama için\n",
    "print(f\"{number:,.2f}\")      # 1,234.57 (binlik ayırıcılı)\n",
    "'''\n"
   ]
  },
  {
   "cell_type": "code",
   "execution_count": 104,
   "id": "818e68f7",
   "metadata": {},
   "outputs": [
    {
     "data": {
      "text/latex": [
       "$\\displaystyle 4x(y+z) denklemi  isleminin sonucu: 360$"
      ],
      "text/plain": [
       "<IPython.core.display.Math object>"
      ]
     },
     "metadata": {},
     "output_type": "display_data"
    },
    {
     "data": {
      "text/latex": [
       "$\\displaystyle -y - \\frac{x+3}{z} denklemin sonucu = -8.8$"
      ],
      "text/plain": [
       "<IPython.core.display.Math object>"
      ]
     },
     "metadata": {},
     "output_type": "display_data"
    }
   ],
   "source": [
    "#soru cozelim x = 5 y= 8 z = 10 atamalari olan degiskenlerin 4x(y+z) sonucunu ogrenelim\n",
    "x,y,z = 5,8,10\n",
    "result = 4*x*(y+z)\n",
    "display(Math(f'4x(y+z) denklemi  isleminin sonucu: {result}'))\n",
    "\n",
    "#-y - (x+3)/z isleminin sonucu kactir\n",
    "division1 = -y-(x+3)/z\n",
    "display(Math(f'-y - \\\\frac{{x+3}}{{z}} denklemin sonucu = {division1}'))#dikkat edilmesi gerekiyor frac kullanilirken {parantez kullanilir / kullnilmaz zaten}\n",
    "#\\frac{x+3}{z}   # LaTeX için normal ama unutmadan !!!!!! tek kullanim hata vercektir\n",
    "#f string kural geregi {} suslu parantez eklemeiz lazim\n",
    "#frac burda matemaiksel ifadenin kesirli halini bize gosteriyor\n"
   ]
  },
  {
   "cell_type": "markdown",
   "id": "4529b68b",
   "metadata": {},
   "source": [
    "### Uslu sayilar (Exponents)"
   ]
  },
  {
   "cell_type": "markdown",
   "id": "140af23d",
   "metadata": {},
   "source": []
  },
  {
   "cell_type": "code",
   "execution_count": null,
   "id": "50bf09c5",
   "metadata": {},
   "outputs": [
    {
     "name": "stdout",
     "output_type": "stream",
     "text": [
      "9\n",
      "729\n",
      "729\n",
      "4.5\n"
     ]
    },
    {
     "data": {
      "text/latex": [
       "$\\displaystyle 3^3 \\times 3^4 = 3^{3+4} = 2187$"
      ],
      "text/plain": [
       "<IPython.core.display.Math object>"
      ]
     },
     "metadata": {},
     "output_type": "display_data"
    }
   ],
   "source": [
    "# uslu sayilar pythonda 3**2 (**) 3 un 2 kuvveti anlamindadir\n",
    "from IPython.display import Math,display\n",
    "print(3**2)\n",
    "print(3**2 * 3**4)\n",
    "print(3**(2+4))\n",
    "print(9**1/2)\n",
    "\n",
    "taban = 3\n",
    "us1 =3\n",
    "us2 =4\n",
    "sonuc = taban ** (us1+us2)\n",
    "display(Math(f'{taban}^{us1} \\\\times {taban}^{us2} = {taban}^{{{us1}+{us2}}} = {sonuc}'))#1 yol\n",
    "display(Math(f'{taban}^{us1} \\\\times {taban}^{us2} = {taban}^{us1+us2} = {sonuc}'))#2.yol daha pratik yolu"
   ]
  },
  {
   "cell_type": "code",
   "execution_count": 43,
   "id": "374e9a8c",
   "metadata": {},
   "outputs": [
    {
     "data": {
      "text/latex": [
       "$\\displaystyle x ^ (3/4)\\times 4 ^ y denlemin sonucu = 6935948647.649914$"
      ],
      "text/plain": [
       "<IPython.core.display.Math object>"
      ]
     },
     "metadata": {},
     "output_type": "display_data"
    },
    {
     "data": {
      "text/latex": [
       "$\\displaystyle \\frac{3^3}{x^y} denkemin  sonucu = 2.14e-14$"
      ],
      "text/plain": [
       "<IPython.core.display.Math object>"
      ]
     },
     "metadata": {},
     "output_type": "display_data"
    },
    {
     "data": {
      "text/latex": [
       "$\\displaystyle 10^{x-4} denleminin sonucu = 1000000$"
      ],
      "text/plain": [
       "<IPython.core.display.Math object>"
      ]
     },
     "metadata": {},
     "output_type": "display_data"
    }
   ],
   "source": [
    "# x = 10 y= 15.5\n",
    "#1.soru x**3/4 * 4**y ?\n",
    "#2.soru 3**3/x**y\n",
    "#3.soru 10**(x-4)?\n",
    "\n",
    "# 1.soru\n",
    "x ,y = 10, 15.1\n",
    "sonuc = x ** (3/4) * 4**y \n",
    "display(Math(f'x ^ (3/4)\\\\times 4 ^ y denlemin sonucu = {sonuc}'))#latex te carpma sembolunu gostermek icin\n",
    "\n",
    "# 2.soru\n",
    "sonuc2 = (3**3) / (x**y)\n",
    "display(Math(f'\\\\frac{{3^3}}{{x^y}} denkemin  sonucu = {sonuc2:.2e}'))#latex te kesirli sayi ifade etmek icin\n",
    "\n",
    "#3.soru\n",
    "sonuc3 = 10**(x-4)\n",
    "display(Math(f'10^{{x-4}} denleminin sonucu = {sonuc3}'))"
   ]
  },
  {
   "cell_type": "markdown",
   "id": "de4e982f",
   "metadata": {},
   "source": [
    "### Donguler konusu(Loops for and while)"
   ]
  },
  {
   "cell_type": "code",
   "execution_count": 56,
   "id": "75ab9573",
   "metadata": {},
   "outputs": [
    {
     "name": "stdout",
     "output_type": "stream",
     "text": [
      "4\n",
      "5\n",
      "6\n",
      "7\n",
      "sayilari artimli 2 serli artikmli olarak tek tek goster 0\n",
      "sayilari artimli 2 serli artikmli olarak tek tek goster 2\n",
      "sayilari artimli 2 serli artikmli olarak tek tek goster 4\n",
      "sayilari artimli 2 serli artikmli olarak tek tek goster 6\n",
      "sayilari artimli 2 serli artikmli olarak tek tek goster 8\n",
      "sayilari artimli 2 serli artikmli olarak tek tek goster 10\n",
      "2 tabaninda aralikli olarak 0 nin butun kuvvetlerini alt alta grelim (0, 1)\n",
      "2 tabaninda aralikli olarak 1 nin butun kuvvetlerini alt alta grelim (1, 2)\n",
      "2 tabaninda aralikli olarak 2 nin butun kuvvetlerini alt alta grelim (2, 4)\n",
      "2 tabaninda aralikli olarak 3 nin butun kuvvetlerini alt alta grelim (3, 8)\n",
      "2 tabaninda aralikli olarak 4 nin butun kuvvetlerini alt alta grelim (4, 16)\n",
      "2 tabaninda aralikli olarak 5 nin butun kuvvetlerini alt alta grelim (5, 32)\n",
      "2 tabaninda aralikli olarak 6 nin butun kuvvetlerini alt alta grelim (6, 64)\n",
      "2 tabaninda aralikli olarak 7 nin butun kuvvetlerini alt alta grelim (7, 128)\n",
      "2 tabaninda aralikli olarak 8 nin butun kuvvetlerini alt alta grelim (8, 256)\n",
      "2 tabaninda aralikli olarak 9 nin butun kuvvetlerini alt alta grelim (9, 512)\n"
     ]
    }
   ],
   "source": [
    "# for dongusu nu ele alalim bu dongunun en buyuk ozelligi listeden ve herhangi bir veri yapisindan istedigimiz sekilde kac tekrarli bir sekilde elde etme ozelligir\n",
    "for x in [4,5,6,7]:#lsiteden eleman dondurme\n",
    "    print(x)\n",
    "#f 'string ile gosterimi yapalim\n",
    "for a in range(0,12,2):\n",
    "    print(f'sayilari artimli 2 serli artikmli olarak tek tek goster {a}')\n",
    "\n",
    "#simdide matematiksel olarak bir ornek verelim\n",
    "for n in range(0,10):\n",
    "    totalexponents = 2**n\n",
    "    print(f'2 tabaninda aralikli olarak {n} nin butun kuvvetlerini alt alta grelim {n,totalexponents}')\n"
   ]
  },
  {
   "cell_type": "markdown",
   "id": "98ab07f2",
   "metadata": {},
   "source": [
    "### Matematikta Islem sirasi onceligi ."
   ]
  },
  {
   "cell_type": "markdown",
   "id": "724ec0e6",
   "metadata": {},
   "source": []
  },
  {
   "cell_type": "code",
   "execution_count": 6,
   "id": "68ee2836",
   "metadata": {},
   "outputs": [
    {
     "data": {
      "text/plain": [
       "39.0"
      ]
     },
     "execution_count": 6,
     "metadata": {},
     "output_type": "execute_result"
    }
   ],
   "source": [
    "#matematikta islem oceligi once parantez sonra * veya / sonra +  veya - olur\n",
    "9*8/2+3"
   ]
  },
  {
   "cell_type": "code",
   "execution_count": 22,
   "id": "4deb1995",
   "metadata": {},
   "outputs": [
    {
     "name": "stdout",
     "output_type": "stream",
     "text": [
      "<class 'bool'>\n",
      "True\n",
      "False\n",
      "True\n"
     ]
    }
   ],
   "source": [
    "## ayni zamanda boolen turunu ele alalim\n",
    "## boolen yani true yada false \n",
    "## unutmadan = atama operatorudur\n",
    "\n",
    "a = 20 >= 4*5\n",
    "print(type(a))#turunu boyle ogrenebiliriz\n",
    "\n",
    "print(5 <= 4+1)\n",
    "\n",
    "x,y,z = 4 , 2, 3 \n",
    "print(4*x + 3 < 20 - x**2)\n",
    "\n",
    "print(10 == 10)#unutmdan = sadece atama operatorudur ama == demek buna esitir anlamina gelir\n"
   ]
  },
  {
   "cell_type": "markdown",
   "id": "7b7e9540",
   "metadata": {},
   "source": [
    "### if ifadeleri ve mantıksal operatörler(if statements and logical operators)"
   ]
  },
  {
   "cell_type": "code",
   "execution_count": null,
   "id": "0ba1b64c",
   "metadata": {},
   "outputs": [
    {
     "name": "stdout",
     "output_type": "stream",
     "text": [
      "a ve b birbirine esiitir\n"
     ]
    }
   ],
   "source": [
    "## if kullanim sekli\n",
    "a = 40\n",
    "b = 40\n",
    "\n",
    "\n",
    "if a > b and  a < b : # burada az once or simdide and logistic ifadeleri kullandik\n",
    "    print(\"a bden buyuktur \")\n",
    "elif b > a :\n",
    "    print(\"b a den buyuktur\")\n",
    "else:\n",
    "    print('a ve b birbirine esiitir')       "
   ]
  },
  {
   "cell_type": "code",
   "execution_count": null,
   "id": "4e79b16e",
   "metadata": {},
   "outputs": [
    {
     "data": {
      "text/latex": [
       "$\\displaystyle 1^{-1} = 1.0000$"
      ],
      "text/plain": [
       "<IPython.core.display.Math object>"
      ]
     },
     "metadata": {},
     "output_type": "display_data"
    },
    {
     "data": {
      "text/latex": [
       "$\\displaystyle 1^{-2} = 1.0000$"
      ],
      "text/plain": [
       "<IPython.core.display.Math object>"
      ]
     },
     "metadata": {},
     "output_type": "display_data"
    },
    {
     "data": {
      "text/latex": [
       "$\\displaystyle 1^{-3} = 1.0000$"
      ],
      "text/plain": [
       "<IPython.core.display.Math object>"
      ]
     },
     "metadata": {},
     "output_type": "display_data"
    },
    {
     "data": {
      "text/latex": [
       "$\\displaystyle 1^{-4} = 1.0000$"
      ],
      "text/plain": [
       "<IPython.core.display.Math object>"
      ]
     },
     "metadata": {},
     "output_type": "display_data"
    },
    {
     "data": {
      "text/latex": [
       "$\\displaystyle 2^{-1} = 0.5000$"
      ],
      "text/plain": [
       "<IPython.core.display.Math object>"
      ]
     },
     "metadata": {},
     "output_type": "display_data"
    },
    {
     "data": {
      "text/latex": [
       "$\\displaystyle 2^{-2} = 0.2500$"
      ],
      "text/plain": [
       "<IPython.core.display.Math object>"
      ]
     },
     "metadata": {},
     "output_type": "display_data"
    },
    {
     "data": {
      "text/latex": [
       "$\\displaystyle 2^{-3} = 0.1250$"
      ],
      "text/plain": [
       "<IPython.core.display.Math object>"
      ]
     },
     "metadata": {},
     "output_type": "display_data"
    },
    {
     "data": {
      "text/latex": [
       "$\\displaystyle 2^{-4} = 0.0625$"
      ],
      "text/plain": [
       "<IPython.core.display.Math object>"
      ]
     },
     "metadata": {},
     "output_type": "display_data"
    },
    {
     "data": {
      "text/latex": [
       "$\\displaystyle 3^{-1} = 0.3333$"
      ],
      "text/plain": [
       "<IPython.core.display.Math object>"
      ]
     },
     "metadata": {},
     "output_type": "display_data"
    },
    {
     "data": {
      "text/latex": [
       "$\\displaystyle 3^{-2} = 0.1111$"
      ],
      "text/plain": [
       "<IPython.core.display.Math object>"
      ]
     },
     "metadata": {},
     "output_type": "display_data"
    },
    {
     "data": {
      "text/latex": [
       "$\\displaystyle 3^{-3} = 0.0370$"
      ],
      "text/plain": [
       "<IPython.core.display.Math object>"
      ]
     },
     "metadata": {},
     "output_type": "display_data"
    },
    {
     "data": {
      "text/latex": [
       "$\\displaystyle 3^{-4} = 0.0123$"
      ],
      "text/plain": [
       "<IPython.core.display.Math object>"
      ]
     },
     "metadata": {},
     "output_type": "display_data"
    },
    {
     "data": {
      "text/latex": [
       "$\\displaystyle 1^{-1} = 1.0000$"
      ],
      "text/plain": [
       "<IPython.core.display.Math object>"
      ]
     },
     "metadata": {},
     "output_type": "display_data"
    },
    {
     "data": {
      "text/latex": [
       "$\\displaystyle 1^{-2} = 1.0000$"
      ],
      "text/plain": [
       "<IPython.core.display.Math object>"
      ]
     },
     "metadata": {},
     "output_type": "display_data"
    },
    {
     "data": {
      "text/latex": [
       "$\\displaystyle 1^{-3} = 1.0000$"
      ],
      "text/plain": [
       "<IPython.core.display.Math object>"
      ]
     },
     "metadata": {},
     "output_type": "display_data"
    },
    {
     "data": {
      "text/latex": [
       "$\\displaystyle 1^{-4} = 1.0000$"
      ],
      "text/plain": [
       "<IPython.core.display.Math object>"
      ]
     },
     "metadata": {},
     "output_type": "display_data"
    },
    {
     "data": {
      "text/latex": [
       "$\\displaystyle 2^{-1} = 0.5000$"
      ],
      "text/plain": [
       "<IPython.core.display.Math object>"
      ]
     },
     "metadata": {},
     "output_type": "display_data"
    },
    {
     "data": {
      "text/latex": [
       "$\\displaystyle 2^{-2} = 0.2500$"
      ],
      "text/plain": [
       "<IPython.core.display.Math object>"
      ]
     },
     "metadata": {},
     "output_type": "display_data"
    },
    {
     "data": {
      "text/latex": [
       "$\\displaystyle 2^{-3} = 0.1250$"
      ],
      "text/plain": [
       "<IPython.core.display.Math object>"
      ]
     },
     "metadata": {},
     "output_type": "display_data"
    },
    {
     "data": {
      "text/latex": [
       "$\\displaystyle 2^{-4} = 0.0625$"
      ],
      "text/plain": [
       "<IPython.core.display.Math object>"
      ]
     },
     "metadata": {},
     "output_type": "display_data"
    },
    {
     "data": {
      "text/latex": [
       "$\\displaystyle 3^{-1} = 0.3333$"
      ],
      "text/plain": [
       "<IPython.core.display.Math object>"
      ]
     },
     "metadata": {},
     "output_type": "display_data"
    },
    {
     "data": {
      "text/latex": [
       "$\\displaystyle 3^{-2} = 0.1111$"
      ],
      "text/plain": [
       "<IPython.core.display.Math object>"
      ]
     },
     "metadata": {},
     "output_type": "display_data"
    },
    {
     "data": {
      "text/latex": [
       "$\\displaystyle 3^{-3} = 0.0370$"
      ],
      "text/plain": [
       "<IPython.core.display.Math object>"
      ]
     },
     "metadata": {},
     "output_type": "display_data"
    },
    {
     "data": {
      "text/latex": [
       "$\\displaystyle 3^{-4} = 0.0123$"
      ],
      "text/plain": [
       "<IPython.core.display.Math object>"
      ]
     },
     "metadata": {},
     "output_type": "display_data"
    }
   ],
   "source": [
    "#1. yol\n",
    "from IPython.display import display, Math \n",
    "\n",
    "for i in range(0,4):\n",
    "    for j in range(0,5):\n",
    "        if i>0 and j>0:\n",
    "           display(Math(f'{i}^{{-{j}}} = {i**-j:.4f}'))\n",
    "\n",
    "#{i} → i değişkeni\n",
    "'''\n",
    "LaTeX'in kuralı: Üslerde ^{} kullanmak zorunludur\n",
    "f-string kuralı: {} içine Python kodu yazılır\n",
    "\n",
    "Sonuç: 10^{{Python_kodu}} formatı çıkıyor!\n",
    "\n",
    "{-{j}} → LaTeX'te ^{-j} olacak\n",
    "\n",
    "{ → LaTeX süslü parantez başlangıcı\n",
    "\n",
    "-{j} → eksi işareti + j değişkeni\n",
    "\n",
    "} → LaTeX süslü parantez bitişi\n",
    "\n",
    "'''\n",
    "# 2.yol\n",
    "from IPython.display import display, Math \n",
    "\n",
    "for i in range(1,4):\n",
    "  for j in range(1,5):\n",
    "    result = i ** -j\n",
    "    display(Math(f'{i}^{{-{j}}} = {result:.4f}'))"
   ]
  },
  {
   "cell_type": "markdown",
   "id": "25d4a997",
   "metadata": {},
   "source": [
    "### Mutlak deger (Absolute Value)"
   ]
  },
  {
   "cell_type": "code",
   "execution_count": 55,
   "id": "25488073",
   "metadata": {},
   "outputs": [
    {
     "data": {
      "text/latex": [
       "$\\displaystyle mutlak deger |a| = a  olduguna gore 5$"
      ],
      "text/plain": [
       "<IPython.core.display.Math object>"
      ]
     },
     "metadata": {},
     "output_type": "display_data"
    },
    {
     "name": "stdout",
     "output_type": "stream",
     "text": [
      "-5 bu sayinin mutlak degeri  5\n",
      "-9 bu sayinin mutlak degeri  9\n",
      "-78 bu sayinin mutlak degeri  78\n",
      "-23 bu sayinin mutlak degeri  23\n",
      "6 bu sayinin mutlak degeri  6\n",
      "9 bu sayinin mutlak degeri  9\n"
     ]
    }
   ],
   "source": [
    "## abs(a) = |a| => -(isaretini kaldiriyoruz).\n",
    "a = -5\n",
    "display(Math(f'mutlak deger |a| = a  olduguna gore {abs(a)}'))\n",
    "\n",
    "intnumbers = [-5,-9,-78,-23,6,9]\n",
    "\n",
    "for inc in intnumbers:\n",
    "    if inc > 0 or inc < 0:\n",
    "        print(f'{inc} bu sayinin mutlak degeri  {abs(inc)}') "
   ]
  },
  {
   "cell_type": "markdown",
   "id": "d4e8173b",
   "metadata": {},
   "source": [
    "### Moduler aritmetik(kalan bulma)(Remainder after division )"
   ]
  },
  {
   "cell_type": "code",
   "execution_count": 58,
   "id": "5d2423ed",
   "metadata": {},
   "outputs": [
    {
     "name": "stdout",
     "output_type": "stream",
     "text": [
      "6.666666666666667\n",
      "2\n",
      "-5 bu sayi Tek bir sayidir ve 2 bolumunden kalan 1 dir\n",
      "-4 bu sayi cift sayidir ve 2 ile bolumnden  kalan 0 dir\n",
      "-3 bu sayi Tek bir sayidir ve 2 bolumunden kalan 1 dir\n",
      "-2 bu sayi cift sayidir ve 2 ile bolumnden  kalan 0 dir\n",
      "-1 bu sayi Tek bir sayidir ve 2 bolumunden kalan 1 dir\n",
      "0 bu sayi cift sayidir ve 2 ile bolumnden  kalan 0 dir\n",
      "1 bu sayi Tek bir sayidir ve 2 bolumunden kalan 1 dir\n",
      "2 bu sayi cift sayidir ve 2 ile bolumnden  kalan 0 dir\n",
      "3 bu sayi Tek bir sayidir ve 2 bolumunden kalan 1 dir\n",
      "4 bu sayi cift sayidir ve 2 ile bolumnden  kalan 0 dir\n"
     ]
    }
   ],
   "source": [
    "# % isretini kullanrak yapiyoruz bolme islemi bolum  modul ise kalani bulur\n",
    "x = 20\n",
    "y = 3\n",
    "\n",
    "# bolme islmi bize bolum verir\n",
    "print(x/y)\n",
    "\n",
    "#modul ise bize kalani verir\n",
    "print(x%y)\n",
    "\n",
    "\n",
    "#karisik bir problem yapalim\n",
    "complexInt = range(-5,5)\n",
    "for i in complexInt:\n",
    "    if i%2 == 0:\n",
    "        print(f'{i} bu sayi cift sayidir ve 2 ile bolumnden  kalan 0 dir')\n",
    "    elif i in complexInt:\n",
    "        if i%2 == 1 :\n",
    "            print(f'{i} bu sayi Tek bir sayidir ve 2 bolumunden kalan 1 dir')       \n"
   ]
  },
  {
   "cell_type": "code",
   "execution_count": null,
   "id": "1b1cd161",
   "metadata": {},
   "outputs": [],
   "source": []
  }
 ],
 "metadata": {
  "kernelspec": {
   "display_name": "basicPy",
   "language": "python",
   "name": "python3"
  },
  "language_info": {
   "codemirror_mode": {
    "name": "ipython",
    "version": 3
   },
   "file_extension": ".py",
   "mimetype": "text/x-python",
   "name": "python",
   "nbconvert_exporter": "python",
   "pygments_lexer": "ipython3",
   "version": "3.13.7"
  }
 },
 "nbformat": 4,
 "nbformat_minor": 5
}
