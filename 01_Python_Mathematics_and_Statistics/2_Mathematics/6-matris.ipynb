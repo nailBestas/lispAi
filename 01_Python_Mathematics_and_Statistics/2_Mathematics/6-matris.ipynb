{
 "cells": [
  {
   "cell_type": "markdown",
   "id": "8564775a",
   "metadata": {},
   "source": [
    "### HAFTA 1-2: TEMEL MATRİS OPERASYONLARI- BASIC MATRIX OPERATIONS"
   ]
  },
  {
   "cell_type": "code",
   "execution_count": 4,
   "id": "f4767f8b",
   "metadata": {},
   "outputs": [],
   "source": [
    "import numpy as np  # Bilimsel hesaplamalar icin\n",
    "import matplotlib.pyplot as plt  # Grafik cizimleri icin\n",
    "from typing import (\n",
    "    Union,\n",
    "    List,\n",
    "    Tuple,\n",
    ")  # Tur ipuclari icin(Type hints) Tip Güvenliği: Type hints sayesinde hatalar önceden yakalanır\n",
    "import time  # zaman islemleri icin\n",
    "from dataclasses import (\n",
    "    dataclass,\n",
    ")  # otomatik sinif olusturmak icin - Az Kod: @dataclass otomatik metodları oluşturur"
   ]
  },
  {
   "cell_type": "code",
   "execution_count": null,
   "id": "92a35d82",
   "metadata": {},
   "outputs": [
    {
     "ename": "SyntaxError",
     "evalue": "invalid syntax (3798554085.py, line 11)",
     "output_type": "error",
     "traceback": [
      "  \u001b[36mCell\u001b[39m\u001b[36m \u001b[39m\u001b[32mIn[5]\u001b[39m\u001b[32m, line 11\u001b[39m\n\u001b[31m    \u001b[39m\u001b[31mdef_init_(self, data: Union[List, np.ndarray],name: str = 'Unnamed_Matrix'):\u001b[39m\n                        ^\n\u001b[31mSyntaxError\u001b[39m\u001b[31m:\u001b[39m invalid syntax\n"
     ]
    }
   ],
   "source": [
    "@dataclass  # @dataclass dekoratoru bu dekoraor sinifa otomatik olarak __init__() metodunu__repr__() metodunu (string temsil)__eq__() metodunu (eşitlik karşılaştırması) ekler\n",
    "class MatrixInfo:\n",
    "    shape: Tuple[int, int]  # shape: Matrisin boyutu (satır, sütun) - Örnek: (3, 4)\n",
    "    dtype: type  # matrisin veri tipi Örnek: np.float64\n",
    "    is_square: bool  # Kare matris mi? - Örnek: True/False\n",
    "    size: int  # oplam eleman sayısı - Örnek: 12\n",
    "\n",
    "\n",
    "class ProfessionalMatrix:\n",
    "    def __init__(\n",
    "        self, data: Union[List, np.ndarray], name: str = \"Unnamed_Matrix\"\n",
    "    ):  # __init__ metodu yapici metod\n",
    "        # sinif degiskenleri\n",
    "        self._matrix = np.array(\n",
    "            data, dtype=np.float64\n",
    "        )  # Alt çizgi (_): \"Private\" convention - dışarıdan direkt erişilmemesi gerektiğini belirtir np.float64: Tüm verileri 64-bit floating point'e dönüştürür\n",
    "        self.name = name  # Matrisi tanımlayan insan-readable isim\n",
    "        self._validate_matrix()  # Alt çizgi: Private metod Matrisin geçerliliğini kontrol eder\n",
    "\n",
    "        # ************************************\n",
    "        # Sinif degiskenleri\n",
    "        \"\"\"Tip Güvenliği: Union ile esnek ama kontrollü giriş\n",
    "\n",
    "        Standardizasyon: Tüm matrisler float64 formatında\n",
    "\n",
    "         Debug Kolaylığı: İsimlendirme ile takip edilebilirlik\n",
    "\n",
    "         Validasyon: Otomatik geçerlilik kontrolü\"\"\"\n",
    "        # ********************************************\n",
    "        # parametreler\n",
    "        \"\"\" data: Union[List, np.ndarray]:\n",
    "\n",
    "        Union: Birden fazla tip kabul eder\n",
    "\n",
    "        List: Python listesi → [[1,2], [3,4]]\n",
    "\n",
    "        np.ndarray: NumPy array'i → np.array([[1,2], [3,4]])\n",
    "\n",
    "        name: str = \"Unnamed_Matrix\":\n",
    "\n",
    "        Varsayılan değer: \"Unnamed_Matrix\"\n",
    "\n",
    "        Matrisi tanımlayan isim\n",
    "\n",
    "        Örnek: \"Weight_Matrix_Layer1\", \"Input_Features\" \"\"\"\n",
    "\n",
    "    def _validate_matrix(\n",
    "        self,\n",
    "    ):  # _validate_matrix: Alt çizgi ile başladığı için private metod\n",
    "        if self._matrix.ndim != 2:  # NumPy array'inin boyut sayısını verir\n",
    "            raise ValueError(\n",
    "                f\"{self.name}: matris 2 boyutlu olmali\"\n",
    "            )  # Hata durumunda exception fırlatır\n",
    "        if np.any(np.isnan(self._matrix)):  # Matristeki tüm elemanları kontrol eder\n",
    "            # Matriste geçersiz sayısal değer (NaN - Not a Number) olup olmadığını kontrol eder.\n",
    "            # Normal sayılar → False\n",
    "            # NaN değerler → True\n",
    "            # NaN = \"Not a Number\" (Sayı Değil)Geçersiz matematik işlemlerinin sonucu , Eksik veya tanımsız verileri temsil eden özel bir değer\n",
    "            raise ValueError(f\"{self.name}: Nan degerleri iceriyor\")\n",
    "\n",
    "    @property\n",
    "    def matrix(self) -> np.ndarray:\n",
    "        return self._matrix\n",
    "\n",
    "    @property\n",
    "    def info(self) -> MatrixInfo:\n",
    "        return MatrixInfo(\n",
    "            shape=self._matrix.shape,\n",
    "            dtype=self._matrix.dtype,\n",
    "            is_square=self._matrix.shape[0] == self._matrix.shape[1],\n",
    "            size=self._matrix.size,\n",
    "        )\n",
    "    "
   ]
  },
  {
   "cell_type": "code",
   "execution_count": null,
   "id": "b9033c64",
   "metadata": {},
   "outputs": [],
   "source": []
  }
 ],
 "metadata": {
  "kernelspec": {
   "display_name": "basicPy",
   "language": "python",
   "name": "python3"
  },
  "language_info": {
   "codemirror_mode": {
    "name": "ipython",
    "version": 3
   },
   "file_extension": ".py",
   "mimetype": "text/x-python",
   "name": "python",
   "nbconvert_exporter": "python",
   "pygments_lexer": "ipython3",
   "version": "3.13.7"
  }
 },
 "nbformat": 4,
 "nbformat_minor": 5
}
